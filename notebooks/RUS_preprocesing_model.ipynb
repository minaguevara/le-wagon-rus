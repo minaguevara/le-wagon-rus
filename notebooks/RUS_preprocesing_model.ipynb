{
 "cells": [
  {
   "cell_type": "code",
   "execution_count": 1,
   "id": "9bab4f82-990f-40fb-bc13-5915e6f8fe36",
   "metadata": {},
   "outputs": [],
   "source": [
    "#!pip install emoji --upgrade"
   ]
  },
  {
   "cell_type": "code",
   "execution_count": 2,
   "id": "0a66ce50-7b98-441d-9d6b-d21cacacad67",
   "metadata": {},
   "outputs": [],
   "source": [
    "#!pip install xgboost"
   ]
  },
  {
   "cell_type": "code",
   "execution_count": 3,
   "id": "d9d58154-87db-43cc-9e69-48af16360db3",
   "metadata": {},
   "outputs": [],
   "source": [
    "import os \n",
    "import re"
   ]
  },
  {
   "cell_type": "code",
   "execution_count": 68,
   "id": "ae03d4b1-2182-461e-b605-5de9a9710f1f",
   "metadata": {},
   "outputs": [],
   "source": [
    "import geopandas as gpd\n",
    "import pandas as pd\n",
    "import numpy as np\n",
    "import seaborn as sns\n",
    "from shapely.geometry import Polygon, LineString, Point\n",
    "import matplotlib.pyplot as plt"
   ]
  },
  {
   "cell_type": "code",
   "execution_count": 5,
   "id": "8a2b0230-2906-41d1-87c3-28759b0d869e",
   "metadata": {},
   "outputs": [],
   "source": [
    "from sklearn.preprocessing import StandardScaler, MinMaxScaler\n",
    "from sklearn.model_selection import train_test_split, learning_curve, cross_validate"
   ]
  },
  {
   "cell_type": "code",
   "execution_count": 6,
   "id": "32afe32e-6e0f-4582-9c2d-a42efc09e97a",
   "metadata": {},
   "outputs": [],
   "source": [
    "from xgboost import XGBRegressor"
   ]
  },
  {
   "cell_type": "markdown",
   "id": "d0df3420-032c-45f1-9be3-49ed23c29038",
   "metadata": {},
   "source": [
    "# DATASETS | data_ruscdmx (data_RUS*)"
   ]
  },
  {
   "cell_type": "code",
   "execution_count": 7,
   "id": "bbcc0700-24a0-4820-86d5-2cf64415d5b3",
   "metadata": {},
   "outputs": [],
   "source": [
    "# We can drop 'CVEGEO' and 'geomatry' \n",
    "#                or\n",
    "# use 'CVEGEO' as index"
   ]
  },
  {
   "cell_type": "markdown",
   "id": "4368b0e2-f02e-4f0a-88a6-51c0522c6f01",
   "metadata": {
    "jp-MarkdownHeadingCollapsed": true
   },
   "source": [
    "## AGEB | formato shape | agebs"
   ]
  },
  {
   "cell_type": "code",
   "execution_count": 8,
   "id": "1de5a31b-b34d-40c8-b40b-53c7192c27a4",
   "metadata": {},
   "outputs": [],
   "source": [
    "ageb_rural =gpd.read_file('../raw_data/poligono_ageb_rurales_cdmx/poligono_ageb_rurales_cdmx.shp')"
   ]
  },
  {
   "cell_type": "code",
   "execution_count": 9,
   "id": "605e56bb-9c48-4e68-bf4c-b0e5974f4406",
   "metadata": {},
   "outputs": [],
   "source": [
    "ageb_urbana =gpd.read_file('../raw_data/poligono_ageb_urbanas_cdmx/poligono_ageb_urbanas_cdmx.shp')"
   ]
  },
  {
   "cell_type": "code",
   "execution_count": 10,
   "id": "91ce0442-cd82-4f45-987f-12d975866270",
   "metadata": {},
   "outputs": [],
   "source": [
    "agebs = pd.concat([ageb_rural, ageb_urbana])"
   ]
  },
  {
   "cell_type": "code",
   "execution_count": 11,
   "id": "612d0272-638a-4fd9-8d73-e2dfa49109a8",
   "metadata": {},
   "outputs": [],
   "source": [
    "agebs = agebs.drop(columns=['CVE_ENT', 'CVE_MUN', 'CVE_AGEB','CVE_LOC'])"
   ]
  },
  {
   "cell_type": "code",
   "execution_count": 12,
   "id": "75cfdccb-68c7-4b85-88e6-08adf66e389a",
   "metadata": {},
   "outputs": [
    {
     "data": {
      "text/plain": [
       "(2453, 2)"
      ]
     },
     "execution_count": 12,
     "metadata": {},
     "output_type": "execute_result"
    }
   ],
   "source": [
    "agebs.shape"
   ]
  },
  {
   "cell_type": "markdown",
   "id": "7a7f875a-d310-4ebd-978b-19c62cd7b7ed",
   "metadata": {},
   "source": [
    "## Dataset features | data_RUS"
   ]
  },
  {
   "cell_type": "code",
   "execution_count": 13,
   "id": "06cb5199-95c9-4df4-96e4-5b9af2aaca04",
   "metadata": {},
   "outputs": [],
   "source": [
    "data_RUS = pd.read_csv('../clean_datasets/data_RUS.csv')"
   ]
  },
  {
   "cell_type": "code",
   "execution_count": 14,
   "id": "30702029-df35-483f-866d-d32dd4fba0d1",
   "metadata": {},
   "outputs": [],
   "source": [
    "data_RUS.drop(columns='Unnamed: 0', inplace=True)"
   ]
  },
  {
   "cell_type": "code",
   "execution_count": 15,
   "id": "53ef7e8b-0eda-411d-8328-4fdddfe1c364",
   "metadata": {},
   "outputs": [
    {
     "data": {
      "text/plain": [
       "Index(['CVEGEO', 'Metro', 'Suburbano', 'Metrobus', 'Tren_Liger', 'Trolebus',\n",
       "       'RTP', 'Trole_elev', 'T_Concesio', 'Ecobici',\n",
       "       ...\n",
       "       'com_comidas', 'com_abarrotes', 'salud_count', 'deportivos_count',\n",
       "       'infraestructura_count', 'comercios_count', 'educacion_count',\n",
       "       'pp_count', 'guarderias', 'vio_index'],\n",
       "      dtype='object', length=153)"
      ]
     },
     "execution_count": 15,
     "metadata": {},
     "output_type": "execute_result"
    }
   ],
   "source": [
    "data_RUS.columns"
   ]
  },
  {
   "cell_type": "code",
   "execution_count": 16,
   "id": "52d27065-71fe-4c6c-9d8c-5d847d37ea25",
   "metadata": {},
   "outputs": [
    {
     "name": "stdout",
     "output_type": "stream",
     "text": [
      "<class 'pandas.core.frame.DataFrame'>\n",
      "RangeIndex: 2453 entries, 0 to 2452\n",
      "Columns: 153 entries, CVEGEO to vio_index\n",
      "dtypes: float64(7), int64(145), object(1)\n",
      "memory usage: 2.9+ MB\n"
     ]
    }
   ],
   "source": [
    "data_RUS.info()"
   ]
  },
  {
   "cell_type": "code",
   "execution_count": 17,
   "id": "62695ff4-8b5f-45a1-9b17-4f83d2a21bef",
   "metadata": {},
   "outputs": [],
   "source": [
    "data_ruscdmx = pd.merge(agebs, data_RUS,how= 'left', on=['CVEGEO'])"
   ]
  },
  {
   "cell_type": "code",
   "execution_count": 18,
   "id": "d89b27eb-1076-404e-8eb1-52692bdcf104",
   "metadata": {},
   "outputs": [
    {
     "data": {
      "text/plain": [
       "(2453, 154)"
      ]
     },
     "execution_count": 18,
     "metadata": {},
     "output_type": "execute_result"
    }
   ],
   "source": [
    "data_ruscdmx.shape"
   ]
  },
  {
   "cell_type": "code",
   "execution_count": 19,
   "id": "967ca2ff-8f2b-4ed1-8b5e-ce013b403575",
   "metadata": {
    "jupyter": {
     "source_hidden": true
    }
   },
   "outputs": [],
   "source": [
    "#list of features\n",
    "transport_features = ['Metro', 'Suburbano', 'Metrobus', 'Tren_Liger', 'Trolebus', 'RTP','Trole_elev', 'T_Concesio', 'Ecobici', 'Cablebus']\n",
    "\n",
    "population_features = [ 'POBTOT_y', 'POBFEM', 'POBMAS', \n",
    "                       'P_0A2', 'P_3A5', 'P_6A11', 'P_12A14', 'P_15A17', 'P_18A24', 'P_25A59', 'P_60YMAS', \n",
    "                       'P_0A2_F', 'P_3A5_F', 'P_6A11_F', 'P_12A14_F', 'P_15A17_F', 'P_18A24_F', 'P_25A59_F', 'P_60YMAS_F', \n",
    "                       'P_0A2_M', 'P_3A5_M', 'P_6A11_M', 'P_12A14_M', 'P_15A17_M', 'P_18A24_M', 'P_25A59_M', 'P_60YMAS_M', \n",
    "                       'P3YM_HLI', 'P3YM_HLI_F', 'P3YM_HLI_M', 'P3HLINHE', 'P3HLINHE_F', 'P3HLINHE_M', \n",
    "                       'P3HLI_HE', 'P3HLI_HE_F', 'P3HLI_HE_M', 'P5_HLI', 'P5_HLI_NHE', 'P5_HLI_HE', \n",
    "                       'PHOG_IND', 'POB_AFRO', 'POB_AFRO_F', 'POB_AFRO_M', \n",
    "                       'PCON_DISC', \n",
    "                       'GRAPROES', 'GRAPROES_F', 'GRAPROES_M', \n",
    "                       'PEA', 'PEA_F', 'PEA_M', \n",
    "                       'HOGJEF_F', 'HOGJEF_M', \n",
    "                       'VPH_AUTOM', 'VPH_MOTO', 'VPH_BICI', \n",
    "                       'POBREZA', 'POBREZAEX']\n",
    "\n",
    "urbaninfra_features = ['VIVTOT', \n",
    "                       'RECUCALL_C_1', 'RECUCALL_C_2', 'RECUCALL_C_3', 'RECUCALL_C_7', 'RECUCALL_C_8', 'RECUCALL_C_9', \n",
    "                       'RAMPAS_C_1', 'RAMPAS_C_2', 'RAMPAS_C_3', 'RAMPAS_C_7', 'RAMPAS_C_8', 'RAMPAS_C_9', \n",
    "                       'PASOPEAT_C_1', 'PASOPEAT_C_2', 'PASOPEAT_C_3', 'PASOPEAT_C_7', 'PASOPEAT_C_8', 'PASOPEAT_C_9', \n",
    "                       'BANQUETA_C_1', 'BANQUETA_C_2', 'BANQUETA_C_3', 'BANQUETA_C_7', 'BANQUETA_C_8', 'BANQUETA_C_9', \n",
    "                       'GUARNICI_C_1', 'GUARNICI_C_2', 'GUARNICI_C_3', 'GUARNICI_C_7', 'GUARNICI_C_8', 'GUARNICI_C_9', \n",
    "                       'CICLOVIA_C_1', 'CICLOVIA_C_2', 'CICLOVIA_C_3', 'CICLOVIA_C_7', 'CICLOVIA_C_8', 'CICLOVIA_C_9', \n",
    "                       'CICLOCAR_C_1', 'CICLOCAR_C_2', 'CICLOCAR_C_3', 'CICLOCAR_C_7', 'CICLOCAR_C_8', 'CICLOCAR_C_9', \n",
    "                       'ALUMPUB_C_1', 'ALUMPUB_C_2', 'ALUMPUB_C_3', 'ALUMPUB_C_7', 'ALUMPUB_C_8', 'ALUMPUB_C_9', \n",
    "                       'LETRERO_C_1', 'LETRERO_C_2', 'LETRERO_C_3', 'LETRERO_C_7', 'LETRERO_C_8', 'LETRERO_C_9', \n",
    "                       'ARBOLES_C_1', 'ARBOLES_C_2', 'ARBOLES_C_3', 'ARBOLES_C_7', 'ARBOLES_C_8', 'ARBOLES_C_9', \n",
    "                       'SEMAPEAT_C_1', 'SEMAPEAT_C_2', 'SEMAPEAT_C_3', 'SEMAPEAT_C_7', 'SEMAPEAT_C_8', 'SEMAPEAT_C_9', \n",
    "                       'SEMAAUDI_C_1', 'SEMAAUDI_C_2', 'SEMAAUDI_C_3', 'SEMAAUDI_C_7', 'SEMAAUDI_C_8', 'SEMAAUDI_C_9', \n",
    "                       'ESTABICI_C_1', 'ESTABICI_C_2', 'ESTABICI_C_3', 'ESTABICI_C_7', 'ESTABICI_C_8', 'ESTABICI_C_9', \n",
    "                       'DRENAJEP_C_1', 'DRENAJEP_C_2', 'DRENAJEP_C_3', 'DRENAJEP_C_7', 'DRENAJEP_C_8', 'DRENAJEP_C_9', \n",
    "                       'ACESOPER_C_1', 'ACESOPER_C_2', 'ACESOPER_C_3', 'ACESOPER_C_7', 'ACESOPER_C_8', 'ACESOPER_C_9', \n",
    "                       'ACESOAUT_C_1', 'ACESOAUT_C_2', 'ACESOAUT_C_3', 'ACESOAUT_C_7', 'ACESOAUT_C_8', 'ACESOAUT_C_9', \n",
    "                       'PUESSEMI_C_1', 'PUESSEMI_C_2', 'PUESSEMI_C_3', 'PUESSEMI_C_7', 'PUESSEMI_C_8', 'PUESSEMI_C_9', \n",
    "                       'PUESAMBU_C_1', 'PUESAMBU_C_2', 'PUESAMBU_C_3', 'PUESAMBU_C_7', 'PUESAMBU_C_8', 'PUESAMBU_C_9']\n",
    "\n",
    "#we are using only 30 \n",
    "commerce_features = ['Banca múltiple', 'Cafeterías, fuentes de sodas, neverías, refresquerías y similares', \n",
    "             'Comercio al por menor de artículos de papelería', 'Comercio al por menor de artículos para la limpieza', \n",
    "             'Comercio al por menor de carne de aves', 'Comercio al por menor de carnes rojas', \n",
    "             'Comercio al por menor de dulces y materias primas para repostería', 'Comercio al por menor de frutas y verduras frescas', \n",
    "             'Comercio al por menor de leche, otros productos lácteos y embutidos', 'Comercio al por menor de otros alimentos', \n",
    "             'Comercio al por menor de partes y refacciones nuevas para automóviles, camionetas y camiones', \n",
    "             'Comercio al por menor de plantas y flores naturales', 'Comercio al por menor de regalos',\n",
    "             'Comercio al por menor de ropa, excepto de bebé y lencería', 'Comercio al por menor de teléfonos y otros aparatos de comunicación', \n",
    "             'Comercio al por menor en ferreterías y tlapalerías', 'Comercio al por menor en tiendas de abarrotes, ultramarinos y misceláneas', \n",
    "             'Consultorios dentales del sector privado', 'Elaboración de tortillas de maíz y molienda de nixtamal', 'Farmacias sin minisúper', \n",
    "             'Lavanderías y tintorerías', 'Panificación tradicional', 'Reparación mecánica en general de automóviles y camiones', \n",
    "             'Restaurantes con servicio de preparación de alimentos a la carta o de comida corrida', \n",
    "             'Restaurantes con servicio de preparación de antojitos', \n",
    "             'Restaurantes con servicio de preparación de pizzas, hamburguesas, hot dogs y pollos rostizados para llevar', \n",
    "             'Restaurantes con servicio de preparación de tacos y tortas', 'Restaurantes que preparan otro tipo de alimentos para llevar', \n",
    "             'Salones y clínicas de belleza y peluquerías', 'Servicios de preparación de otros alimentos para consumo inmediato']"
   ]
  },
  {
   "cell_type": "markdown",
   "id": "b4021a98-8225-4b0b-80df-b769bef090c6",
   "metadata": {},
   "source": [
    "# Explore data"
   ]
  },
  {
   "cell_type": "code",
   "execution_count": 20,
   "id": "8bd86913-5022-40aa-9ae2-c712f3689187",
   "metadata": {},
   "outputs": [],
   "source": [
    "# We can drop 'CVEGEO' and 'geomatry' \n",
    "#                or\n",
    "# use 'CVEGEO' as index\n",
    "\n",
    "###### using 'data_RUS' insteand of 'data_ruscdmx'"
   ]
  },
  {
   "cell_type": "code",
   "execution_count": 21,
   "id": "ac028d7c-95a5-4637-8a6f-be3353b86097",
   "metadata": {},
   "outputs": [],
   "source": [
    "data_RUS.set_index('CVEGEO', inplace=True)"
   ]
  },
  {
   "cell_type": "code",
   "execution_count": 22,
   "id": "9ac0d3f9-164c-4ffe-819c-924d71916e3d",
   "metadata": {},
   "outputs": [],
   "source": [
    "data = data_RUS"
   ]
  },
  {
   "cell_type": "code",
   "execution_count": 23,
   "id": "dba91d61-1cf2-4568-9b5d-e358be6a752e",
   "metadata": {
    "scrolled": true
   },
   "outputs": [
    {
     "name": "stdout",
     "output_type": "stream",
     "text": [
      "<class 'pandas.core.frame.DataFrame'>\n",
      "Index: 2453 entries, 090110471 to 0900700011034\n",
      "Columns: 152 entries, Metro to vio_index\n",
      "dtypes: float64(7), int64(145)\n",
      "memory usage: 2.9+ MB\n"
     ]
    }
   ],
   "source": [
    "data.info()"
   ]
  },
  {
   "cell_type": "code",
   "execution_count": 24,
   "id": "00ef81e7-845b-4c6a-be7e-6fc1ac17cd17",
   "metadata": {},
   "outputs": [
    {
     "data": {
      "text/plain": [
       "Metro                int64\n",
       "Suburbano            int64\n",
       "Metrobus             int64\n",
       "Tren_Liger           int64\n",
       "Trolebus             int64\n",
       "                    ...   \n",
       "comercios_count    float64\n",
       "educacion_count    float64\n",
       "pp_count           float64\n",
       "guarderias           int64\n",
       "vio_index          float64\n",
       "Length: 152, dtype: object"
      ]
     },
     "execution_count": 24,
     "metadata": {},
     "output_type": "execute_result"
    }
   ],
   "source": [
    "data.dtypes"
   ]
  },
  {
   "cell_type": "code",
   "execution_count": 25,
   "id": "64bb83bf-495b-4a0c-ac08-5d79ca31e863",
   "metadata": {
    "scrolled": true
   },
   "outputs": [
    {
     "data": {
      "text/html": [
       "<div>\n",
       "<style scoped>\n",
       "    .dataframe tbody tr th:only-of-type {\n",
       "        vertical-align: middle;\n",
       "    }\n",
       "\n",
       "    .dataframe tbody tr th {\n",
       "        vertical-align: top;\n",
       "    }\n",
       "\n",
       "    .dataframe thead th {\n",
       "        text-align: right;\n",
       "    }\n",
       "</style>\n",
       "<table border=\"1\" class=\"dataframe\">\n",
       "  <thead>\n",
       "    <tr style=\"text-align: right;\">\n",
       "      <th></th>\n",
       "      <th>Metro</th>\n",
       "      <th>Suburbano</th>\n",
       "      <th>Metrobus</th>\n",
       "      <th>Tren_Liger</th>\n",
       "      <th>Trolebus</th>\n",
       "      <th>RTP</th>\n",
       "      <th>Trole_elev</th>\n",
       "      <th>T_Concesio</th>\n",
       "      <th>Ecobici</th>\n",
       "      <th>Cablebus</th>\n",
       "      <th>...</th>\n",
       "      <th>com_comidas</th>\n",
       "      <th>com_abarrotes</th>\n",
       "      <th>salud_count</th>\n",
       "      <th>deportivos_count</th>\n",
       "      <th>infraestructura_count</th>\n",
       "      <th>comercios_count</th>\n",
       "      <th>educacion_count</th>\n",
       "      <th>pp_count</th>\n",
       "      <th>guarderias</th>\n",
       "      <th>vio_index</th>\n",
       "    </tr>\n",
       "  </thead>\n",
       "  <tbody>\n",
       "    <tr>\n",
       "      <th>count</th>\n",
       "      <td>2453.000000</td>\n",
       "      <td>2453.000000</td>\n",
       "      <td>2453.000000</td>\n",
       "      <td>2453.000000</td>\n",
       "      <td>2453.000000</td>\n",
       "      <td>2453.000000</td>\n",
       "      <td>2453.000000</td>\n",
       "      <td>2453.000000</td>\n",
       "      <td>2453.000000</td>\n",
       "      <td>2453.000000</td>\n",
       "      <td>...</td>\n",
       "      <td>2453.000000</td>\n",
       "      <td>2453.000000</td>\n",
       "      <td>2453.000000</td>\n",
       "      <td>2453.000000</td>\n",
       "      <td>2453.000000</td>\n",
       "      <td>2453.000000</td>\n",
       "      <td>2453.000000</td>\n",
       "      <td>2453.000000</td>\n",
       "      <td>2453.000000</td>\n",
       "      <td>2453.000000</td>\n",
       "    </tr>\n",
       "    <tr>\n",
       "      <th>mean</th>\n",
       "      <td>8.084794</td>\n",
       "      <td>0.080717</td>\n",
       "      <td>2.799022</td>\n",
       "      <td>0.665715</td>\n",
       "      <td>1.767631</td>\n",
       "      <td>11.277212</td>\n",
       "      <td>0.086425</td>\n",
       "      <td>21.216062</td>\n",
       "      <td>1.042805</td>\n",
       "      <td>0.090094</td>\n",
       "      <td>...</td>\n",
       "      <td>18.401141</td>\n",
       "      <td>23.964941</td>\n",
       "      <td>0.317570</td>\n",
       "      <td>0.013045</td>\n",
       "      <td>0.468406</td>\n",
       "      <td>0.979209</td>\n",
       "      <td>3.430086</td>\n",
       "      <td>0.086017</td>\n",
       "      <td>1.039136</td>\n",
       "      <td>262.866645</td>\n",
       "    </tr>\n",
       "    <tr>\n",
       "      <th>std</th>\n",
       "      <td>11.696829</td>\n",
       "      <td>1.072042</td>\n",
       "      <td>7.034578</td>\n",
       "      <td>3.985285</td>\n",
       "      <td>5.307646</td>\n",
       "      <td>11.041880</td>\n",
       "      <td>1.025705</td>\n",
       "      <td>11.246741</td>\n",
       "      <td>4.230247</td>\n",
       "      <td>0.848924</td>\n",
       "      <td>...</td>\n",
       "      <td>20.385771</td>\n",
       "      <td>61.914754</td>\n",
       "      <td>0.702946</td>\n",
       "      <td>0.120464</td>\n",
       "      <td>0.953828</td>\n",
       "      <td>1.473798</td>\n",
       "      <td>4.119408</td>\n",
       "      <td>0.712522</td>\n",
       "      <td>1.432586</td>\n",
       "      <td>180.299965</td>\n",
       "    </tr>\n",
       "    <tr>\n",
       "      <th>min</th>\n",
       "      <td>0.000000</td>\n",
       "      <td>0.000000</td>\n",
       "      <td>0.000000</td>\n",
       "      <td>0.000000</td>\n",
       "      <td>0.000000</td>\n",
       "      <td>0.000000</td>\n",
       "      <td>0.000000</td>\n",
       "      <td>0.000000</td>\n",
       "      <td>0.000000</td>\n",
       "      <td>0.000000</td>\n",
       "      <td>...</td>\n",
       "      <td>0.000000</td>\n",
       "      <td>0.000000</td>\n",
       "      <td>0.000000</td>\n",
       "      <td>0.000000</td>\n",
       "      <td>0.000000</td>\n",
       "      <td>0.000000</td>\n",
       "      <td>0.000000</td>\n",
       "      <td>0.000000</td>\n",
       "      <td>0.000000</td>\n",
       "      <td>0.000000</td>\n",
       "    </tr>\n",
       "    <tr>\n",
       "      <th>25%</th>\n",
       "      <td>0.000000</td>\n",
       "      <td>0.000000</td>\n",
       "      <td>0.000000</td>\n",
       "      <td>0.000000</td>\n",
       "      <td>0.000000</td>\n",
       "      <td>0.000000</td>\n",
       "      <td>0.000000</td>\n",
       "      <td>14.000000</td>\n",
       "      <td>0.000000</td>\n",
       "      <td>0.000000</td>\n",
       "      <td>...</td>\n",
       "      <td>5.000000</td>\n",
       "      <td>6.000000</td>\n",
       "      <td>0.000000</td>\n",
       "      <td>0.000000</td>\n",
       "      <td>0.000000</td>\n",
       "      <td>0.000000</td>\n",
       "      <td>1.000000</td>\n",
       "      <td>0.000000</td>\n",
       "      <td>0.000000</td>\n",
       "      <td>137.087855</td>\n",
       "    </tr>\n",
       "    <tr>\n",
       "      <th>50%</th>\n",
       "      <td>0.000000</td>\n",
       "      <td>0.000000</td>\n",
       "      <td>0.000000</td>\n",
       "      <td>0.000000</td>\n",
       "      <td>0.000000</td>\n",
       "      <td>9.000000</td>\n",
       "      <td>0.000000</td>\n",
       "      <td>22.000000</td>\n",
       "      <td>0.000000</td>\n",
       "      <td>0.000000</td>\n",
       "      <td>...</td>\n",
       "      <td>13.000000</td>\n",
       "      <td>17.000000</td>\n",
       "      <td>0.000000</td>\n",
       "      <td>0.000000</td>\n",
       "      <td>0.000000</td>\n",
       "      <td>1.000000</td>\n",
       "      <td>2.000000</td>\n",
       "      <td>0.000000</td>\n",
       "      <td>1.000000</td>\n",
       "      <td>228.681284</td>\n",
       "    </tr>\n",
       "    <tr>\n",
       "      <th>75%</th>\n",
       "      <td>17.000000</td>\n",
       "      <td>0.000000</td>\n",
       "      <td>0.000000</td>\n",
       "      <td>0.000000</td>\n",
       "      <td>0.000000</td>\n",
       "      <td>19.000000</td>\n",
       "      <td>0.000000</td>\n",
       "      <td>28.000000</td>\n",
       "      <td>0.000000</td>\n",
       "      <td>0.000000</td>\n",
       "      <td>...</td>\n",
       "      <td>25.000000</td>\n",
       "      <td>32.000000</td>\n",
       "      <td>0.000000</td>\n",
       "      <td>0.000000</td>\n",
       "      <td>0.000000</td>\n",
       "      <td>1.000000</td>\n",
       "      <td>5.000000</td>\n",
       "      <td>0.000000</td>\n",
       "      <td>2.000000</td>\n",
       "      <td>353.526453</td>\n",
       "    </tr>\n",
       "    <tr>\n",
       "      <th>max</th>\n",
       "      <td>51.000000</td>\n",
       "      <td>22.000000</td>\n",
       "      <td>48.000000</td>\n",
       "      <td>44.000000</td>\n",
       "      <td>46.000000</td>\n",
       "      <td>75.000000</td>\n",
       "      <td>25.000000</td>\n",
       "      <td>85.000000</td>\n",
       "      <td>35.000000</td>\n",
       "      <td>19.000000</td>\n",
       "      <td>...</td>\n",
       "      <td>272.000000</td>\n",
       "      <td>2539.000000</td>\n",
       "      <td>10.000000</td>\n",
       "      <td>2.000000</td>\n",
       "      <td>7.000000</td>\n",
       "      <td>20.000000</td>\n",
       "      <td>51.000000</td>\n",
       "      <td>12.000000</td>\n",
       "      <td>11.000000</td>\n",
       "      <td>1369.792320</td>\n",
       "    </tr>\n",
       "  </tbody>\n",
       "</table>\n",
       "<p>8 rows × 152 columns</p>\n",
       "</div>"
      ],
      "text/plain": [
       "             Metro    Suburbano     Metrobus   Tren_Liger     Trolebus  \\\n",
       "count  2453.000000  2453.000000  2453.000000  2453.000000  2453.000000   \n",
       "mean      8.084794     0.080717     2.799022     0.665715     1.767631   \n",
       "std      11.696829     1.072042     7.034578     3.985285     5.307646   \n",
       "min       0.000000     0.000000     0.000000     0.000000     0.000000   \n",
       "25%       0.000000     0.000000     0.000000     0.000000     0.000000   \n",
       "50%       0.000000     0.000000     0.000000     0.000000     0.000000   \n",
       "75%      17.000000     0.000000     0.000000     0.000000     0.000000   \n",
       "max      51.000000    22.000000    48.000000    44.000000    46.000000   \n",
       "\n",
       "               RTP   Trole_elev   T_Concesio      Ecobici     Cablebus  ...  \\\n",
       "count  2453.000000  2453.000000  2453.000000  2453.000000  2453.000000  ...   \n",
       "mean     11.277212     0.086425    21.216062     1.042805     0.090094  ...   \n",
       "std      11.041880     1.025705    11.246741     4.230247     0.848924  ...   \n",
       "min       0.000000     0.000000     0.000000     0.000000     0.000000  ...   \n",
       "25%       0.000000     0.000000    14.000000     0.000000     0.000000  ...   \n",
       "50%       9.000000     0.000000    22.000000     0.000000     0.000000  ...   \n",
       "75%      19.000000     0.000000    28.000000     0.000000     0.000000  ...   \n",
       "max      75.000000    25.000000    85.000000    35.000000    19.000000  ...   \n",
       "\n",
       "       com_comidas  com_abarrotes  salud_count  deportivos_count  \\\n",
       "count  2453.000000    2453.000000  2453.000000       2453.000000   \n",
       "mean     18.401141      23.964941     0.317570          0.013045   \n",
       "std      20.385771      61.914754     0.702946          0.120464   \n",
       "min       0.000000       0.000000     0.000000          0.000000   \n",
       "25%       5.000000       6.000000     0.000000          0.000000   \n",
       "50%      13.000000      17.000000     0.000000          0.000000   \n",
       "75%      25.000000      32.000000     0.000000          0.000000   \n",
       "max     272.000000    2539.000000    10.000000          2.000000   \n",
       "\n",
       "       infraestructura_count  comercios_count  educacion_count     pp_count  \\\n",
       "count            2453.000000      2453.000000      2453.000000  2453.000000   \n",
       "mean                0.468406         0.979209         3.430086     0.086017   \n",
       "std                 0.953828         1.473798         4.119408     0.712522   \n",
       "min                 0.000000         0.000000         0.000000     0.000000   \n",
       "25%                 0.000000         0.000000         1.000000     0.000000   \n",
       "50%                 0.000000         1.000000         2.000000     0.000000   \n",
       "75%                 0.000000         1.000000         5.000000     0.000000   \n",
       "max                 7.000000        20.000000        51.000000    12.000000   \n",
       "\n",
       "        guarderias    vio_index  \n",
       "count  2453.000000  2453.000000  \n",
       "mean      1.039136   262.866645  \n",
       "std       1.432586   180.299965  \n",
       "min       0.000000     0.000000  \n",
       "25%       0.000000   137.087855  \n",
       "50%       1.000000   228.681284  \n",
       "75%       2.000000   353.526453  \n",
       "max      11.000000  1369.792320  \n",
       "\n",
       "[8 rows x 152 columns]"
      ]
     },
     "execution_count": 25,
     "metadata": {},
     "output_type": "execute_result"
    }
   ],
   "source": [
    "data.describe()"
   ]
  },
  {
   "cell_type": "code",
   "execution_count": 26,
   "id": "d7bbb9e3-8d31-4741-965e-77244889ad4a",
   "metadata": {
    "scrolled": true
   },
   "outputs": [
    {
     "data": {
      "text/plain": [
       "'0900700013844'"
      ]
     },
     "execution_count": 26,
     "metadata": {},
     "output_type": "execute_result"
    }
   ],
   "source": [
    "data['Metro'].idxmax()"
   ]
  },
  {
   "cell_type": "markdown",
   "id": "32c35df6-116d-4245-80d5-4e7fe0c7eac0",
   "metadata": {},
   "source": [
    "# Feature scaling and selection | PREPROCESING"
   ]
  },
  {
   "cell_type": "markdown",
   "id": "6a092461-fa94-442e-be12-20f672394407",
   "metadata": {
    "jp-MarkdownHeadingCollapsed": true
   },
   "source": [
    "## duplicates"
   ]
  },
  {
   "cell_type": "code",
   "execution_count": 27,
   "id": "63711041-e444-4a47-bf4d-635d1fc59bc8",
   "metadata": {},
   "outputs": [
    {
     "data": {
      "text/plain": [
       "2453"
      ]
     },
     "execution_count": 27,
     "metadata": {},
     "output_type": "execute_result"
    }
   ],
   "source": [
    "#duplicates\n",
    "len(data)"
   ]
  },
  {
   "cell_type": "code",
   "execution_count": 28,
   "id": "7506eea1-f33d-4818-b0ab-8df61fa079a2",
   "metadata": {},
   "outputs": [
    {
     "data": {
      "text/plain": [
       "np.int64(10)"
      ]
     },
     "execution_count": 28,
     "metadata": {},
     "output_type": "execute_result"
    }
   ],
   "source": [
    "data.duplicated().sum()"
   ]
  },
  {
   "cell_type": "markdown",
   "id": "47abd92f-3ec2-4f6a-ab7c-0c8e1fd63f51",
   "metadata": {
    "jp-MarkdownHeadingCollapsed": true
   },
   "source": [
    "## missing data"
   ]
  },
  {
   "cell_type": "code",
   "execution_count": 29,
   "id": "b9821629-b000-4d77-ad00-831b243ac31a",
   "metadata": {},
   "outputs": [
    {
     "data": {
      "text/plain": [
       "Metro              0.0\n",
       "Suburbano          0.0\n",
       "Metrobus           0.0\n",
       "Tren_Liger         0.0\n",
       "Trolebus           0.0\n",
       "                  ... \n",
       "comercios_count    0.0\n",
       "educacion_count    0.0\n",
       "pp_count           0.0\n",
       "guarderias         0.0\n",
       "vio_index          0.0\n",
       "Length: 152, dtype: float64"
      ]
     },
     "execution_count": 29,
     "metadata": {},
     "output_type": "execute_result"
    }
   ],
   "source": [
    "data.isnull().sum().sort_values(ascending = False)/len(data)"
   ]
  },
  {
   "cell_type": "code",
   "execution_count": 30,
   "id": "91a49803-9238-4c94-857d-835d43ea3026",
   "metadata": {},
   "outputs": [
    {
     "data": {
      "text/plain": [
       "Index(['VIVTOT', 'RECUCALL_C_1', 'RECUCALL_C_2', 'RECUCALL_C_3', 'RAMPAS_C_1',\n",
       "       'RAMPAS_C_2', 'RAMPAS_C_3', 'PASOPEAT_C_1', 'PASOPEAT_C_2',\n",
       "       'PASOPEAT_C_3'],\n",
       "      dtype='object')"
      ]
     },
     "execution_count": 30,
     "metadata": {},
     "output_type": "execute_result"
    }
   ],
   "source": [
    "data.columns[10:20]"
   ]
  },
  {
   "cell_type": "markdown",
   "id": "71744129-089a-4f6d-89dd-5bcf86d6c834",
   "metadata": {},
   "source": [
    "## Outliers"
   ]
  },
  {
   "cell_type": "markdown",
   "id": "1bea6aa2-7d94-4344-8c3d-860da96c9fc1",
   "metadata": {},
   "source": [
    "¿Qué podría ser un indicador de un outlier en este dataset?"
   ]
  },
  {
   "cell_type": "markdown",
   "id": "57ccd320-78ea-4053-add5-960968e060c9",
   "metadata": {},
   "source": [
    "## Feature scaling"
   ]
  },
  {
   "cell_type": "code",
   "execution_count": 31,
   "id": "59fd7b70-c174-43da-90db-46d8d1c4c940",
   "metadata": {
    "scrolled": true
   },
   "outputs": [
    {
     "data": {
      "image/png": "[encoded data removed]",
      "text/plain": [
       "<Figure size 640x480 with 1 Axes>"
      ]
     },
     "metadata": {},
     "output_type": "display_data"
    }
   ],
   "source": [
    "sns.histplot(data[transport_features], bins = 200, kde= True);"
   ]
  },
  {
   "cell_type": "code",
   "execution_count": 32,
   "id": "d6c56e68-06c6-4f15-88ef-ca54e209ad58",
   "metadata": {
    "scrolled": true
   },
   "outputs": [
    {
     "data": {
      "image/png": "[encoded data removed]",
      "text/plain": [
       "<Figure size 640x480 with 1 Axes>"
      ]
     },
     "metadata": {},
     "output_type": "display_data"
    }
   ],
   "source": [
    "sns.boxplot(data=data, x='POBMAS');"
   ]
  },
  {
   "cell_type": "markdown",
   "id": "4a8f8468-6a77-4a9d-ae16-a4d81736c195",
   "metadata": {},
   "source": [
    ":rotating_light: borrar despu[es de actualizar el dataset"
   ]
  },
  {
   "cell_type": "code",
   "execution_count": 33,
   "id": "9806fb0f-3e2d-4fb2-a4d3-b94e981be99d",
   "metadata": {},
   "outputs": [
    {
     "data": {
      "text/plain": [
       "(2453, 152)"
      ]
     },
     "execution_count": 33,
     "metadata": {},
     "output_type": "execute_result"
    }
   ],
   "source": [
    "data.shape"
   ]
  },
  {
   "cell_type": "markdown",
   "id": "a9bf5b0a-99e6-4198-9788-d214a055e5e6",
   "metadata": {},
   "source": [
    "['CVEGEO', 'geometry', 'Metro', 'Suburbano', 'Metrobus', 'Tren_Liger',\n",
    "       'Trolebus', 'RTP', 'Trole_elev', 'T_Concesio', 'Ecobici', 'Cablebus',\n",
    "       'VIVTOT', 'RECUCALL_C_1', 'RECUCALL_C_2', 'RECUCALL_C_3',\n",
    "       'RECUCALL_C_7', 'RECUCALL_C_8', 'RECUCALL_C_9', 'RAMPAS_C_1',\n",
    "       'RAMPAS_C_2', 'RAMPAS_C_3', 'RAMPAS_C_7', 'RAMPAS_C_8', 'RAMPAS_C_9',\n",
    "       'PASOPEAT_C_1', 'PASOPEAT_C_2', 'PASOPEAT_C_3', 'PASOPEAT_C_7',\n",
    "       'PASOPEAT_C_8', 'PASOPEAT_C_9', 'BANQUETA_C_1', 'BANQUETA_C_2',\n",
    "       'BANQUETA_C_3', 'BANQUETA_C_7', 'BANQUETA_C_8', 'BANQUETA_C_9',\n",
    "       'GUARNICI_C_1', 'GUARNICI_C_2', 'GUARNICI_C_3', 'GUARNICI_C_7',\n",
    "       'GUARNICI_C_8', 'GUARNICI_C_9', 'CICLOVIA_C_1', 'CICLOVIA_C_2',\n",
    "       'CICLOVIA_C_3', 'CICLOVIA_C_7', 'CICLOVIA_C_8', 'CICLOVIA_C_9',\n",
    "       'CICLOCAR_C_1', 'CICLOCAR_C_2', 'CICLOCAR_C_3', 'CICLOCAR_C_7',\n",
    "       'CICLOCAR_C_8', 'CICLOCAR_C_9', 'ALUMPUB_C_1', 'ALUMPUB_C_2',\n",
    "       'ALUMPUB_C_3', 'ALUMPUB_C_7', 'ALUMPUB_C_8', 'ALUMPUB_C_9',\n",
    "       'LETRERO_C_1', 'LETRERO_C_2', 'LETRERO_C_3', 'LETRERO_C_7',\n",
    "       'LETRERO_C_8', 'LETRERO_C_9', 'ARBOLES_C_1', 'ARBOLES_C_2',\n",
    "       'ARBOLES_C_3', 'ARBOLES_C_7', 'ARBOLES_C_8', 'ARBOLES_C_9',\n",
    "       'SEMAPEAT_C_1', 'SEMAPEAT_C_2', 'SEMAPEAT_C_3', 'SEMAPEAT_C_7',\n",
    "       'SEMAPEAT_C_8', 'SEMAPEAT_C_9', 'SEMAAUDI_C_1', 'SEMAAUDI_C_2',\n",
    "       'SEMAAUDI_C_3', 'SEMAAUDI_C_7', 'SEMAAUDI_C_8', 'SEMAAUDI_C_9',\n",
    "       'ESTABICI_C_1', 'ESTABICI_C_2', 'ESTABICI_C_3', 'ESTABICI_C_7',\n",
    "       'ESTABICI_C_8', 'ESTABICI_C_9', 'DRENAJEP_C_1', 'DRENAJEP_C_2',\n",
    "       'DRENAJEP_C_3', 'DRENAJEP_C_7', 'DRENAJEP_C_8', 'DRENAJEP_C_9',\n",
    "       'ACESOPER_C_1', 'ACESOPER_C_2', 'ACESOPER_C_3', 'ACESOPER_C_7', 'ACESOPER_C_8', 'ACESOPER_C_9',\n",
    "       'ACESOAUT_C_1', 'ACESOAUT_C_2', 'ACESOAUT_C_3', 'ACESOAUT_C_7',\n",
    "       'ACESOAUT_C_8', 'ACESOAUT_C_9', 'PUESSEMI_C_1', 'PUESSEMI_C_2',\n",
    "       'PUESSEMI_C_3', 'PUESSEMI_C_7', 'PUESSEMI_C_8', 'PUESSEMI_C_9',\n",
    "       'PUESAMBU_C_1', 'PUESAMBU_C_2', 'PUESAMBU_C_3', 'PUESAMBU_C_7',\n",
    "       'PUESAMBU_C_8', 'PUESAMBU_C_9', 'POBTOT_y', 'POBFEM', 'POBMAS', 'P_0A2',\n",
    "       'P_3A5', 'P_6A11', 'P_12A14', 'P_15A17', 'P_18A24', 'P_25A59',\n",
    "       'P_60YMAS', 'P_0A2_F', 'P_3A5_F', 'P_6A11_F', 'P_12A14_F', 'P_15A17_F',\n",
    "       'P_18A24_F', 'P_25A59_F', 'P_60YMAS_F', 'P_0A2_M', 'P_3A5_M',\n",
    "       'P_6A11_M', 'P_12A14_M', 'P_15A17_M', 'P_18A24_M', 'P_25A59_M',\n",
    "       'P_60YMAS_M', 'P3YM_HLI', 'P3YM_HLI_F', 'P3YM_HLI_M', 'P3HLINHE',\n",
    "       'P3HLINHE_F', 'P3HLINHE_M', 'P3HLI_HE', 'P3HLI_HE_F', 'P3HLI_HE_M',\n",
    "       'P5_HLI', 'P5_HLI_NHE', 'P5_HLI_HE', 'PHOG_IND', 'POB_AFRO',\n",
    "       'POB_AFRO_F', 'POB_AFRO_M', 'PCON_DISC', 'GRAPROES', 'GRAPROES_F',\n",
    "       'GRAPROES_M', 'PEA', 'PEA_F', 'PEA_M', 'HOGJEF_F', 'HOGJEF_M',\n",
    "       'VPH_AUTOM', 'VPH_MOTO', 'VPH_BICI', 'POBREZA', 'POBREZAEX',\n",
    "       'Banca múltiple', 'Cafeterías, fuentes de sodas, neverías, refresquerías y similares',\n",
    "       'Comercio al por menor de artículos de papelería',\n",
    "       'Comercio al por menor de artículos para la limpieza',\n",
    "       'Comercio al por menor de carne de aves',\n",
    "       'Comercio al por menor de carnes rojas',\n",
    "       'Comercio al por menor de dulces y materias primas para repostería',\n",
    "       'Comercio al por menor de frutas y verduras frescas',\n",
    "       'Comercio al por menor de leche, otros productos lácteos y embutidos',\n",
    "       'Comercio al por menor de otros alimentos',\n",
    "       'Comercio al por menor de partes y refacciones nuevas para automóviles, camionetas y camiones',\n",
    "       'Comercio al por menor de plantas y flores naturales',\n",
    "       'Comercio al por menor de regalos',\n",
    "       'Comercio al por menor de ropa, excepto de bebé y lencería',\n",
    "       'Comercio al por menor de teléfonos y otros aparatos de comunicación',\n",
    "       'Comercio al por menor en ferreterías y tlapalerías',\n",
    "       'Comercio al por menor en tiendas de abarrotes, ultramarinos y misceláneas',\n",
    "       'Consultorios dentales del sector privado',\n",
    "       'Elaboración de tortillas de maíz y molienda de nixtamal',\n",
    "       'Farmacias sin minisúper', 'Lavanderías y tintorerías',\n",
    "       'Panificación tradicional',\n",
    "       'Reparación mecánica en general de automóviles y camiones',\n",
    "       'Restaurantes con servicio de preparación de alimentos a la carta o de comida corrida',\n",
    "       'Restaurantes con servicio de preparación de antojitos',\n",
    "       'Restaurantes con servicio de preparación de pizzas, hamburguesas, hot dogs y pollos rostizados para llevar',\n",
    "       'Restaurantes con servicio de preparación de tacos y tortas',\n",
    "       'Restaurantes que preparan otro tipo de alimentos para llevar',\n",
    "       'Salones y clínicas de belleza y peluquerías',\n",
    "       'Servicios de preparación de otros alimentos para consumo inmediato']"
   ]
  },
  {
   "cell_type": "code",
   "execution_count": 34,
   "id": "4728a803-968f-4cad-bbfd-591a8d07bd5f",
   "metadata": {},
   "outputs": [],
   "source": [
    "#list of numerical (scalable) features\n",
    "## verificar al agregar mas features\n",
    "features = data.columns[2:]"
   ]
  },
  {
   "cell_type": "code",
   "execution_count": 35,
   "id": "5f3b8aa0-1b92-4ff0-96e9-c840bfbd4ba3",
   "metadata": {},
   "outputs": [],
   "source": [
    "data_scaled = data"
   ]
  },
  {
   "cell_type": "code",
   "execution_count": 36,
   "id": "30bb9b24-7d25-4ff4-82e1-e54b117caf7a",
   "metadata": {},
   "outputs": [],
   "source": [
    "### outliers could be important in our data"
   ]
  },
  {
   "cell_type": "code",
   "execution_count": 37,
   "id": "e444c9dc-0ae7-4c21-aebb-effd0e071637",
   "metadata": {
    "scrolled": true
   },
   "outputs": [
    {
     "data": {
      "text/html": [
       "<div>\n",
       "<style scoped>\n",
       "    .dataframe tbody tr th:only-of-type {\n",
       "        vertical-align: middle;\n",
       "    }\n",
       "\n",
       "    .dataframe tbody tr th {\n",
       "        vertical-align: top;\n",
       "    }\n",
       "\n",
       "    .dataframe thead th {\n",
       "        text-align: right;\n",
       "    }\n",
       "</style>\n",
       "<table border=\"1\" class=\"dataframe\">\n",
       "  <thead>\n",
       "    <tr style=\"text-align: right;\">\n",
       "      <th></th>\n",
       "      <th>Metro</th>\n",
       "      <th>Suburbano</th>\n",
       "      <th>Metrobus</th>\n",
       "      <th>Tren_Liger</th>\n",
       "      <th>Trolebus</th>\n",
       "      <th>RTP</th>\n",
       "      <th>Trole_elev</th>\n",
       "      <th>T_Concesio</th>\n",
       "      <th>Ecobici</th>\n",
       "      <th>Cablebus</th>\n",
       "      <th>...</th>\n",
       "      <th>com_comidas</th>\n",
       "      <th>com_abarrotes</th>\n",
       "      <th>salud_count</th>\n",
       "      <th>deportivos_count</th>\n",
       "      <th>infraestructura_count</th>\n",
       "      <th>comercios_count</th>\n",
       "      <th>educacion_count</th>\n",
       "      <th>pp_count</th>\n",
       "      <th>guarderias</th>\n",
       "      <th>vio_index</th>\n",
       "    </tr>\n",
       "    <tr>\n",
       "      <th>CVEGEO</th>\n",
       "      <th></th>\n",
       "      <th></th>\n",
       "      <th></th>\n",
       "      <th></th>\n",
       "      <th></th>\n",
       "      <th></th>\n",
       "      <th></th>\n",
       "      <th></th>\n",
       "      <th></th>\n",
       "      <th></th>\n",
       "      <th></th>\n",
       "      <th></th>\n",
       "      <th></th>\n",
       "      <th></th>\n",
       "      <th></th>\n",
       "      <th></th>\n",
       "      <th></th>\n",
       "      <th></th>\n",
       "      <th></th>\n",
       "      <th></th>\n",
       "      <th></th>\n",
       "    </tr>\n",
       "  </thead>\n",
       "  <tbody>\n",
       "    <tr>\n",
       "      <th>0901000010065</th>\n",
       "      <td>21</td>\n",
       "      <td>0</td>\n",
       "      <td>0.000000</td>\n",
       "      <td>0.0</td>\n",
       "      <td>0.0</td>\n",
       "      <td>0.200000</td>\n",
       "      <td>0.0</td>\n",
       "      <td>0.235294</td>\n",
       "      <td>0.0</td>\n",
       "      <td>0.0</td>\n",
       "      <td>...</td>\n",
       "      <td>0.036765</td>\n",
       "      <td>0.011422</td>\n",
       "      <td>0.0</td>\n",
       "      <td>0.0</td>\n",
       "      <td>0.285714</td>\n",
       "      <td>0.00</td>\n",
       "      <td>0.058824</td>\n",
       "      <td>0.0</td>\n",
       "      <td>0.181818</td>\n",
       "      <td>0.210802</td>\n",
       "    </tr>\n",
       "    <tr>\n",
       "      <th>0901000011063</th>\n",
       "      <td>13</td>\n",
       "      <td>0</td>\n",
       "      <td>0.041667</td>\n",
       "      <td>0.0</td>\n",
       "      <td>0.0</td>\n",
       "      <td>0.066667</td>\n",
       "      <td>0.0</td>\n",
       "      <td>0.094118</td>\n",
       "      <td>0.0</td>\n",
       "      <td>0.0</td>\n",
       "      <td>...</td>\n",
       "      <td>0.014706</td>\n",
       "      <td>0.000394</td>\n",
       "      <td>0.0</td>\n",
       "      <td>0.0</td>\n",
       "      <td>0.000000</td>\n",
       "      <td>0.15</td>\n",
       "      <td>0.058824</td>\n",
       "      <td>0.0</td>\n",
       "      <td>0.090909</td>\n",
       "      <td>0.122711</td>\n",
       "    </tr>\n",
       "    <tr>\n",
       "      <th>0901000011542</th>\n",
       "      <td>0</td>\n",
       "      <td>0</td>\n",
       "      <td>0.000000</td>\n",
       "      <td>0.0</td>\n",
       "      <td>0.0</td>\n",
       "      <td>0.253333</td>\n",
       "      <td>0.0</td>\n",
       "      <td>0.258824</td>\n",
       "      <td>0.0</td>\n",
       "      <td>0.0</td>\n",
       "      <td>...</td>\n",
       "      <td>0.238971</td>\n",
       "      <td>0.002363</td>\n",
       "      <td>0.0</td>\n",
       "      <td>0.0</td>\n",
       "      <td>0.000000</td>\n",
       "      <td>0.15</td>\n",
       "      <td>0.078431</td>\n",
       "      <td>0.0</td>\n",
       "      <td>0.000000</td>\n",
       "      <td>0.109362</td>\n",
       "    </tr>\n",
       "    <tr>\n",
       "      <th>0901000012358</th>\n",
       "      <td>0</td>\n",
       "      <td>0</td>\n",
       "      <td>0.000000</td>\n",
       "      <td>0.0</td>\n",
       "      <td>0.0</td>\n",
       "      <td>0.066667</td>\n",
       "      <td>0.0</td>\n",
       "      <td>0.329412</td>\n",
       "      <td>0.0</td>\n",
       "      <td>0.0</td>\n",
       "      <td>...</td>\n",
       "      <td>0.033088</td>\n",
       "      <td>0.000000</td>\n",
       "      <td>0.0</td>\n",
       "      <td>0.0</td>\n",
       "      <td>0.000000</td>\n",
       "      <td>0.05</td>\n",
       "      <td>0.000000</td>\n",
       "      <td>0.0</td>\n",
       "      <td>0.000000</td>\n",
       "      <td>0.121318</td>\n",
       "    </tr>\n",
       "    <tr>\n",
       "      <th>0901000012057</th>\n",
       "      <td>0</td>\n",
       "      <td>0</td>\n",
       "      <td>0.000000</td>\n",
       "      <td>0.0</td>\n",
       "      <td>0.0</td>\n",
       "      <td>0.000000</td>\n",
       "      <td>0.0</td>\n",
       "      <td>0.423529</td>\n",
       "      <td>0.0</td>\n",
       "      <td>0.0</td>\n",
       "      <td>...</td>\n",
       "      <td>0.047794</td>\n",
       "      <td>0.009453</td>\n",
       "      <td>0.0</td>\n",
       "      <td>0.0</td>\n",
       "      <td>0.142857</td>\n",
       "      <td>0.15</td>\n",
       "      <td>0.058824</td>\n",
       "      <td>0.0</td>\n",
       "      <td>0.000000</td>\n",
       "      <td>0.138775</td>\n",
       "    </tr>\n",
       "  </tbody>\n",
       "</table>\n",
       "<p>5 rows × 152 columns</p>\n",
       "</div>"
      ],
      "text/plain": [
       "               Metro  Suburbano  Metrobus  Tren_Liger  Trolebus       RTP  \\\n",
       "CVEGEO                                                                      \n",
       "0901000010065     21          0  0.000000         0.0       0.0  0.200000   \n",
       "0901000011063     13          0  0.041667         0.0       0.0  0.066667   \n",
       "0901000011542      0          0  0.000000         0.0       0.0  0.253333   \n",
       "0901000012358      0          0  0.000000         0.0       0.0  0.066667   \n",
       "0901000012057      0          0  0.000000         0.0       0.0  0.000000   \n",
       "\n",
       "               Trole_elev  T_Concesio  Ecobici  Cablebus  ...  com_comidas  \\\n",
       "CVEGEO                                                    ...                \n",
       "0901000010065         0.0    0.235294      0.0       0.0  ...     0.036765   \n",
       "0901000011063         0.0    0.094118      0.0       0.0  ...     0.014706   \n",
       "0901000011542         0.0    0.258824      0.0       0.0  ...     0.238971   \n",
       "0901000012358         0.0    0.329412      0.0       0.0  ...     0.033088   \n",
       "0901000012057         0.0    0.423529      0.0       0.0  ...     0.047794   \n",
       "\n",
       "               com_abarrotes  salud_count  deportivos_count  \\\n",
       "CVEGEO                                                        \n",
       "0901000010065       0.011422          0.0               0.0   \n",
       "0901000011063       0.000394          0.0               0.0   \n",
       "0901000011542       0.002363          0.0               0.0   \n",
       "0901000012358       0.000000          0.0               0.0   \n",
       "0901000012057       0.009453          0.0               0.0   \n",
       "\n",
       "               infraestructura_count  comercios_count  educacion_count  \\\n",
       "CVEGEO                                                                   \n",
       "0901000010065               0.285714             0.00         0.058824   \n",
       "0901000011063               0.000000             0.15         0.058824   \n",
       "0901000011542               0.000000             0.15         0.078431   \n",
       "0901000012358               0.000000             0.05         0.000000   \n",
       "0901000012057               0.142857             0.15         0.058824   \n",
       "\n",
       "               pp_count  guarderias  vio_index  \n",
       "CVEGEO                                          \n",
       "0901000010065       0.0    0.181818   0.210802  \n",
       "0901000011063       0.0    0.090909   0.122711  \n",
       "0901000011542       0.0    0.000000   0.109362  \n",
       "0901000012358       0.0    0.000000   0.121318  \n",
       "0901000012057       0.0    0.000000   0.138775  \n",
       "\n",
       "[5 rows x 152 columns]"
      ]
     },
     "execution_count": 37,
     "metadata": {},
     "output_type": "execute_result"
    }
   ],
   "source": [
    "#instanciate\n",
    "scaler = MinMaxScaler()\n",
    "\n",
    "#fit the scaler to the features\n",
    "scaler.fit(data[features])\n",
    "\n",
    "#scale\n",
    "data_scaled[features] = scaler.transform(data[features])\n",
    "\n",
    "data_scaled[40:45]"
   ]
  },
  {
   "cell_type": "markdown",
   "id": "b9028949-be14-40ab-aa08-5213a1674564",
   "metadata": {},
   "source": [
    "## Oversampling or Undersampling"
   ]
  },
  {
   "cell_type": "code",
   "execution_count": 38,
   "id": "28332fda-3a16-4f26-8835-e322b03ce01f",
   "metadata": {},
   "outputs": [],
   "source": [
    "## maybe SMOTE ML_02 Data preparation"
   ]
  },
  {
   "cell_type": "markdown",
   "id": "7e8ead5a-8d49-4566-a060-4fd9fc6fad85",
   "metadata": {
    "jp-MarkdownHeadingCollapsed": true
   },
   "source": [
    "## Feature engineering"
   ]
  },
  {
   "cell_type": "markdown",
   "id": "bb924fd3-5912-4ad9-b418-506c34ca08b4",
   "metadata": {
    "jp-MarkdownHeadingCollapsed": true
   },
   "source": [
    "### Encoding"
   ]
  },
  {
   "cell_type": "code",
   "execution_count": 39,
   "id": "6d3602e4-d7b9-4e57-909a-dafa6d7cece6",
   "metadata": {},
   "outputs": [],
   "source": [
    "## try with new features, maybe"
   ]
  },
  {
   "cell_type": "markdown",
   "id": "ced98f9a-a793-43e3-9ddd-fef9430881d1",
   "metadata": {
    "jp-MarkdownHeadingCollapsed": true
   },
   "source": [
    "### Discretizing "
   ]
  },
  {
   "cell_type": "code",
   "execution_count": 40,
   "id": "b1e7e27f-5ffb-4348-9b91-23a675b64b50",
   "metadata": {},
   "outputs": [],
   "source": [
    "## try with new features. We need this?"
   ]
  },
  {
   "cell_type": "markdown",
   "id": "e31418a8-82bb-4017-baaf-454681e64692",
   "metadata": {
    "jp-MarkdownHeadingCollapsed": true
   },
   "source": [
    "### New features"
   ]
  },
  {
   "cell_type": "code",
   "execution_count": 41,
   "id": "2c11753d-810b-49d8-bcf0-7bf71800b1bf",
   "metadata": {},
   "outputs": [],
   "source": [
    "# maybe with commerce\n",
    "# sum not 'en todas las vialidades' of urban infrastructure features"
   ]
  },
  {
   "cell_type": "markdown",
   "id": "3ce5a851-37c2-44b7-a73b-d2044d5904d1",
   "metadata": {},
   "source": [
    "## Feature correlation"
   ]
  },
  {
   "cell_type": "code",
   "execution_count": 42,
   "id": "ba7afbc1-ee97-4a16-a615-ac5c95891e7d",
   "metadata": {
    "scrolled": true
   },
   "outputs": [
    {
     "data": {
      "image/png": "[encoded data removed]",
      "text/plain": [
       "<Figure size 640x480 with 2 Axes>"
      ]
     },
     "metadata": {},
     "output_type": "display_data"
    }
   ],
   "source": [
    "correlation_matrix = data_scaled.corr()\n",
    "\n",
    "column_names = correlation_matrix.columns\n",
    "\n",
    "## change commerce feature names\n",
    "\n",
    "sns.heatmap(correlation_matrix, xticklabels = column_names, yticklabels=column_names, cmap= 'bwr');"
   ]
  },
  {
   "cell_type": "code",
   "execution_count": 43,
   "id": "6c456aa3-b80e-4db9-a1ab-0dede79d8100",
   "metadata": {},
   "outputs": [],
   "source": [
    "#correlation matrix to dataframe\n",
    "corr_df = correlation_matrix.stack().reset_index()\n",
    "\n",
    "corr_df.columns = ['feature_1','feature_2','correlation']\n",
    "\n",
    "no_self_correlation = (corr_df['feature_1'] != corr_df['feature_2'])\n",
    "corr_df = corr_df[no_self_correlation]"
   ]
  },
  {
   "cell_type": "code",
   "execution_count": 44,
   "id": "8fc37116-4a2c-401c-b612-8046687c7494",
   "metadata": {
    "scrolled": true
   },
   "outputs": [
    {
     "data": {
      "text/html": [
       "<div>\n",
       "<style scoped>\n",
       "    .dataframe tbody tr th:only-of-type {\n",
       "        vertical-align: middle;\n",
       "    }\n",
       "\n",
       "    .dataframe tbody tr th {\n",
       "        vertical-align: top;\n",
       "    }\n",
       "\n",
       "    .dataframe thead th {\n",
       "        text-align: right;\n",
       "    }\n",
       "</style>\n",
       "<table border=\"1\" class=\"dataframe\">\n",
       "  <thead>\n",
       "    <tr style=\"text-align: right;\">\n",
       "      <th></th>\n",
       "      <th>feature_1</th>\n",
       "      <th>feature_2</th>\n",
       "      <th>correlation</th>\n",
       "    </tr>\n",
       "  </thead>\n",
       "  <tbody>\n",
       "    <tr>\n",
       "      <th>1</th>\n",
       "      <td>Metro</td>\n",
       "      <td>Suburbano</td>\n",
       "      <td>0.077511</td>\n",
       "    </tr>\n",
       "    <tr>\n",
       "      <th>2</th>\n",
       "      <td>Metro</td>\n",
       "      <td>Metrobus</td>\n",
       "      <td>0.217836</td>\n",
       "    </tr>\n",
       "    <tr>\n",
       "      <th>3</th>\n",
       "      <td>Metro</td>\n",
       "      <td>Tren_Liger</td>\n",
       "      <td>-0.082978</td>\n",
       "    </tr>\n",
       "    <tr>\n",
       "      <th>4</th>\n",
       "      <td>Metro</td>\n",
       "      <td>Trolebus</td>\n",
       "      <td>0.296396</td>\n",
       "    </tr>\n",
       "    <tr>\n",
       "      <th>5</th>\n",
       "      <td>Metro</td>\n",
       "      <td>RTP</td>\n",
       "      <td>0.072167</td>\n",
       "    </tr>\n",
       "    <tr>\n",
       "      <th>...</th>\n",
       "      <td>...</td>\n",
       "      <td>...</td>\n",
       "      <td>...</td>\n",
       "    </tr>\n",
       "    <tr>\n",
       "      <th>23098</th>\n",
       "      <td>vio_index</td>\n",
       "      <td>infraestructura_count</td>\n",
       "      <td>0.270295</td>\n",
       "    </tr>\n",
       "    <tr>\n",
       "      <th>23099</th>\n",
       "      <td>vio_index</td>\n",
       "      <td>comercios_count</td>\n",
       "      <td>0.178739</td>\n",
       "    </tr>\n",
       "    <tr>\n",
       "      <th>23100</th>\n",
       "      <td>vio_index</td>\n",
       "      <td>educacion_count</td>\n",
       "      <td>0.232990</td>\n",
       "    </tr>\n",
       "    <tr>\n",
       "      <th>23101</th>\n",
       "      <td>vio_index</td>\n",
       "      <td>pp_count</td>\n",
       "      <td>0.016303</td>\n",
       "    </tr>\n",
       "    <tr>\n",
       "      <th>23102</th>\n",
       "      <td>vio_index</td>\n",
       "      <td>guarderias</td>\n",
       "      <td>0.116938</td>\n",
       "    </tr>\n",
       "  </tbody>\n",
       "</table>\n",
       "<p>22952 rows × 3 columns</p>\n",
       "</div>"
      ],
      "text/plain": [
       "       feature_1              feature_2  correlation\n",
       "1          Metro              Suburbano     0.077511\n",
       "2          Metro               Metrobus     0.217836\n",
       "3          Metro             Tren_Liger    -0.082978\n",
       "4          Metro               Trolebus     0.296396\n",
       "5          Metro                    RTP     0.072167\n",
       "...          ...                    ...          ...\n",
       "23098  vio_index  infraestructura_count     0.270295\n",
       "23099  vio_index        comercios_count     0.178739\n",
       "23100  vio_index        educacion_count     0.232990\n",
       "23101  vio_index               pp_count     0.016303\n",
       "23102  vio_index             guarderias     0.116938\n",
       "\n",
       "[22952 rows x 3 columns]"
      ]
     },
     "execution_count": 44,
     "metadata": {},
     "output_type": "execute_result"
    }
   ],
   "source": [
    "corr_df"
   ]
  },
  {
   "cell_type": "code",
   "execution_count": 45,
   "id": "0beec1dd-7a08-402d-a4f3-08f5c5f67ab1",
   "metadata": {},
   "outputs": [
    {
     "data": {
      "text/html": [
       "<div>\n",
       "<style scoped>\n",
       "    .dataframe tbody tr th:only-of-type {\n",
       "        vertical-align: middle;\n",
       "    }\n",
       "\n",
       "    .dataframe tbody tr th {\n",
       "        vertical-align: top;\n",
       "    }\n",
       "\n",
       "    .dataframe thead th {\n",
       "        text-align: right;\n",
       "    }\n",
       "</style>\n",
       "<table border=\"1\" class=\"dataframe\">\n",
       "  <thead>\n",
       "    <tr style=\"text-align: right;\">\n",
       "      <th></th>\n",
       "      <th>feature_1</th>\n",
       "      <th>feature_2</th>\n",
       "      <th>correlation</th>\n",
       "      <th>absolute_correlation</th>\n",
       "    </tr>\n",
       "  </thead>\n",
       "  <tbody>\n",
       "    <tr>\n",
       "      <th>12392</th>\n",
       "      <td>P_18A24_F</td>\n",
       "      <td>P_15A17_F</td>\n",
       "      <td>1.000000</td>\n",
       "      <td>1.000000</td>\n",
       "    </tr>\n",
       "    <tr>\n",
       "      <th>11168</th>\n",
       "      <td>P_18A24</td>\n",
       "      <td>P_15A17</td>\n",
       "      <td>1.000000</td>\n",
       "      <td>1.000000</td>\n",
       "    </tr>\n",
       "    <tr>\n",
       "      <th>11017</th>\n",
       "      <td>P_15A17</td>\n",
       "      <td>P_18A24</td>\n",
       "      <td>1.000000</td>\n",
       "      <td>1.000000</td>\n",
       "    </tr>\n",
       "    <tr>\n",
       "      <th>12241</th>\n",
       "      <td>P_15A17_F</td>\n",
       "      <td>P_18A24_F</td>\n",
       "      <td>1.000000</td>\n",
       "      <td>1.000000</td>\n",
       "    </tr>\n",
       "    <tr>\n",
       "      <th>13465</th>\n",
       "      <td>P_15A17_M</td>\n",
       "      <td>P_18A24_M</td>\n",
       "      <td>1.000000</td>\n",
       "      <td>1.000000</td>\n",
       "    </tr>\n",
       "    <tr>\n",
       "      <th>13616</th>\n",
       "      <td>P_18A24_M</td>\n",
       "      <td>P_15A17_M</td>\n",
       "      <td>1.000000</td>\n",
       "      <td>1.000000</td>\n",
       "    </tr>\n",
       "    <tr>\n",
       "      <th>14999</th>\n",
       "      <td>P3HLI_HE</td>\n",
       "      <td>P5_HLI_HE</td>\n",
       "      <td>0.999917</td>\n",
       "      <td>0.999917</td>\n",
       "    </tr>\n",
       "    <tr>\n",
       "      <th>15754</th>\n",
       "      <td>P5_HLI_HE</td>\n",
       "      <td>P3HLI_HE</td>\n",
       "      <td>0.999917</td>\n",
       "      <td>0.999917</td>\n",
       "    </tr>\n",
       "    <tr>\n",
       "      <th>15444</th>\n",
       "      <td>P5_HLI</td>\n",
       "      <td>P3YM_HLI</td>\n",
       "      <td>0.999912</td>\n",
       "      <td>0.999912</td>\n",
       "    </tr>\n",
       "    <tr>\n",
       "      <th>14085</th>\n",
       "      <td>P3YM_HLI</td>\n",
       "      <td>P5_HLI</td>\n",
       "      <td>0.999912</td>\n",
       "      <td>0.999912</td>\n",
       "    </tr>\n",
       "    <tr>\n",
       "      <th>16829</th>\n",
       "      <td>GRAPROES_F</td>\n",
       "      <td>GRAPROES</td>\n",
       "      <td>0.999513</td>\n",
       "      <td>0.999513</td>\n",
       "    </tr>\n",
       "    <tr>\n",
       "      <th>16678</th>\n",
       "      <td>GRAPROES</td>\n",
       "      <td>GRAPROES_F</td>\n",
       "      <td>0.999513</td>\n",
       "      <td>0.999513</td>\n",
       "    </tr>\n",
       "    <tr>\n",
       "      <th>16679</th>\n",
       "      <td>GRAPROES</td>\n",
       "      <td>GRAPROES_M</td>\n",
       "      <td>0.999322</td>\n",
       "      <td>0.999322</td>\n",
       "    </tr>\n",
       "    <tr>\n",
       "      <th>16981</th>\n",
       "      <td>GRAPROES_M</td>\n",
       "      <td>GRAPROES</td>\n",
       "      <td>0.999322</td>\n",
       "      <td>0.999322</td>\n",
       "    </tr>\n",
       "    <tr>\n",
       "      <th>14235</th>\n",
       "      <td>P3YM_HLI_F</td>\n",
       "      <td>P3HLI_HE_F</td>\n",
       "      <td>0.999255</td>\n",
       "      <td>0.999255</td>\n",
       "    </tr>\n",
       "    <tr>\n",
       "      <th>15141</th>\n",
       "      <td>P3HLI_HE_F</td>\n",
       "      <td>P3YM_HLI_F</td>\n",
       "      <td>0.999255</td>\n",
       "      <td>0.999255</td>\n",
       "    </tr>\n",
       "    <tr>\n",
       "      <th>16982</th>\n",
       "      <td>GRAPROES_M</td>\n",
       "      <td>GRAPROES_F</td>\n",
       "      <td>0.998091</td>\n",
       "      <td>0.998091</td>\n",
       "    </tr>\n",
       "    <tr>\n",
       "      <th>16831</th>\n",
       "      <td>GRAPROES_F</td>\n",
       "      <td>GRAPROES_M</td>\n",
       "      <td>0.998091</td>\n",
       "      <td>0.998091</td>\n",
       "    </tr>\n",
       "    <tr>\n",
       "      <th>14082</th>\n",
       "      <td>P3YM_HLI</td>\n",
       "      <td>P3HLI_HE</td>\n",
       "      <td>0.997883</td>\n",
       "      <td>0.997883</td>\n",
       "    </tr>\n",
       "    <tr>\n",
       "      <th>14988</th>\n",
       "      <td>P3HLI_HE</td>\n",
       "      <td>P3YM_HLI</td>\n",
       "      <td>0.997883</td>\n",
       "      <td>0.997883</td>\n",
       "    </tr>\n",
       "    <tr>\n",
       "      <th>15455</th>\n",
       "      <td>P5_HLI</td>\n",
       "      <td>P5_HLI_HE</td>\n",
       "      <td>0.997865</td>\n",
       "      <td>0.997865</td>\n",
       "    </tr>\n",
       "    <tr>\n",
       "      <th>15757</th>\n",
       "      <td>P5_HLI_HE</td>\n",
       "      <td>P5_HLI</td>\n",
       "      <td>0.997865</td>\n",
       "      <td>0.997865</td>\n",
       "    </tr>\n",
       "    <tr>\n",
       "      <th>15748</th>\n",
       "      <td>P5_HLI_HE</td>\n",
       "      <td>P3YM_HLI</td>\n",
       "      <td>0.997793</td>\n",
       "      <td>0.997793</td>\n",
       "    </tr>\n",
       "    <tr>\n",
       "      <th>14087</th>\n",
       "      <td>P3YM_HLI</td>\n",
       "      <td>P5_HLI_HE</td>\n",
       "      <td>0.997793</td>\n",
       "      <td>0.997793</td>\n",
       "    </tr>\n",
       "    <tr>\n",
       "      <th>14997</th>\n",
       "      <td>P3HLI_HE</td>\n",
       "      <td>P5_HLI</td>\n",
       "      <td>0.997789</td>\n",
       "      <td>0.997789</td>\n",
       "    </tr>\n",
       "    <tr>\n",
       "      <th>15450</th>\n",
       "      <td>P5_HLI</td>\n",
       "      <td>P3HLI_HE</td>\n",
       "      <td>0.997789</td>\n",
       "      <td>0.997789</td>\n",
       "    </tr>\n",
       "    <tr>\n",
       "      <th>12691</th>\n",
       "      <td>P_60YMAS_F</td>\n",
       "      <td>P_60YMAS</td>\n",
       "      <td>0.995510</td>\n",
       "      <td>0.995510</td>\n",
       "    </tr>\n",
       "    <tr>\n",
       "      <th>11483</th>\n",
       "      <td>P_60YMAS</td>\n",
       "      <td>P_60YMAS_F</td>\n",
       "      <td>0.995510</td>\n",
       "      <td>0.995510</td>\n",
       "    </tr>\n",
       "    <tr>\n",
       "      <th>10726</th>\n",
       "      <td>P_6A11</td>\n",
       "      <td>P_6A11_M</td>\n",
       "      <td>0.995180</td>\n",
       "      <td>0.995180</td>\n",
       "    </tr>\n",
       "    <tr>\n",
       "      <th>13142</th>\n",
       "      <td>P_6A11_M</td>\n",
       "      <td>P_6A11</td>\n",
       "      <td>0.995180</td>\n",
       "      <td>0.995180</td>\n",
       "    </tr>\n",
       "  </tbody>\n",
       "</table>\n",
       "</div>"
      ],
      "text/plain": [
       "        feature_1   feature_2  correlation  absolute_correlation\n",
       "12392   P_18A24_F   P_15A17_F     1.000000              1.000000\n",
       "11168     P_18A24     P_15A17     1.000000              1.000000\n",
       "11017     P_15A17     P_18A24     1.000000              1.000000\n",
       "12241   P_15A17_F   P_18A24_F     1.000000              1.000000\n",
       "13465   P_15A17_M   P_18A24_M     1.000000              1.000000\n",
       "13616   P_18A24_M   P_15A17_M     1.000000              1.000000\n",
       "14999    P3HLI_HE   P5_HLI_HE     0.999917              0.999917\n",
       "15754   P5_HLI_HE    P3HLI_HE     0.999917              0.999917\n",
       "15444      P5_HLI    P3YM_HLI     0.999912              0.999912\n",
       "14085    P3YM_HLI      P5_HLI     0.999912              0.999912\n",
       "16829  GRAPROES_F    GRAPROES     0.999513              0.999513\n",
       "16678    GRAPROES  GRAPROES_F     0.999513              0.999513\n",
       "16679    GRAPROES  GRAPROES_M     0.999322              0.999322\n",
       "16981  GRAPROES_M    GRAPROES     0.999322              0.999322\n",
       "14235  P3YM_HLI_F  P3HLI_HE_F     0.999255              0.999255\n",
       "15141  P3HLI_HE_F  P3YM_HLI_F     0.999255              0.999255\n",
       "16982  GRAPROES_M  GRAPROES_F     0.998091              0.998091\n",
       "16831  GRAPROES_F  GRAPROES_M     0.998091              0.998091\n",
       "14082    P3YM_HLI    P3HLI_HE     0.997883              0.997883\n",
       "14988    P3HLI_HE    P3YM_HLI     0.997883              0.997883\n",
       "15455      P5_HLI   P5_HLI_HE     0.997865              0.997865\n",
       "15757   P5_HLI_HE      P5_HLI     0.997865              0.997865\n",
       "15748   P5_HLI_HE    P3YM_HLI     0.997793              0.997793\n",
       "14087    P3YM_HLI   P5_HLI_HE     0.997793              0.997793\n",
       "14997    P3HLI_HE      P5_HLI     0.997789              0.997789\n",
       "15450      P5_HLI    P3HLI_HE     0.997789              0.997789\n",
       "12691  P_60YMAS_F    P_60YMAS     0.995510              0.995510\n",
       "11483    P_60YMAS  P_60YMAS_F     0.995510              0.995510\n",
       "10726      P_6A11    P_6A11_M     0.995180              0.995180\n",
       "13142    P_6A11_M      P_6A11     0.995180              0.995180"
      ]
     },
     "execution_count": 45,
     "metadata": {},
     "output_type": "execute_result"
    }
   ],
   "source": [
    "#computing absolute correlation\n",
    "corr_df['absolute_correlation'] = np.abs(corr_df['correlation'])\n",
    "\n",
    "#top 5 most correlated pairs\n",
    "corr_df.sort_values(by='absolute_correlation', ascending=False).head(30)"
   ]
  },
  {
   "cell_type": "code",
   "execution_count": 46,
   "id": "2d954181-18fe-4d64-a5b6-73504b71dc00",
   "metadata": {},
   "outputs": [],
   "source": [
    "## a lot of urban infra are correlated :("
   ]
  },
  {
   "cell_type": "code",
   "execution_count": 47,
   "id": "bc7fbc53-885d-49e3-b71c-4912f9079a64",
   "metadata": {},
   "outputs": [
    {
     "data": {
      "text/plain": [
       "(2453, 152)"
      ]
     },
     "execution_count": 47,
     "metadata": {},
     "output_type": "execute_result"
    }
   ],
   "source": [
    "data.shape"
   ]
  },
  {
   "cell_type": "markdown",
   "id": "aededeaa-03ef-4825-be75-f92f35436881",
   "metadata": {},
   "source": [
    "# **MODEL** | XGBoost"
   ]
  },
  {
   "cell_type": "code",
   "execution_count": 48,
   "id": "0ec87015-b456-46df-9d76-6e4705455ca3",
   "metadata": {},
   "outputs": [],
   "source": [
    "#Ready X and y\n",
    "\n",
    "# X = data[['Metro', 'Suburbano', 'Metrobus', 'Tren_Liger', 'Trolebus', 'RTP',\n",
    "#        'Trole_elev', 'T_Concesio', 'Ecobici', 'Cablebus', 'VIVTOT',\n",
    "#        'RECUCALL_C_1', 'RECUCALL_C_2', 'RECUCALL_C_3', 'RECUCALL_C_7',\n",
    "#        'RECUCALL_C_8', 'RECUCALL_C_9', 'RAMPAS_C_1', 'RAMPAS_C_2',\n",
    "#        'RAMPAS_C_3', 'RAMPAS_C_7', 'RAMPAS_C_8', 'RAMPAS_C_9', 'PASOPEAT_C_1',\n",
    "#        'PASOPEAT_C_2', 'PASOPEAT_C_3', 'PASOPEAT_C_7', 'PASOPEAT_C_8',\n",
    "#        'PASOPEAT_C_9', 'BANQUETA_C_1', 'BANQUETA_C_2', 'BANQUETA_C_3',\n",
    "#        'BANQUETA_C_7', 'BANQUETA_C_8', 'BANQUETA_C_9', 'GUARNICI_C_1',\n",
    "#        'GUARNICI_C_2', 'GUARNICI_C_3', 'GUARNICI_C_7', 'GUARNICI_C_8',\n",
    "#        'GUARNICI_C_9', 'CICLOVIA_C_1', 'CICLOVIA_C_2', 'CICLOVIA_C_3',\n",
    "#        'CICLOVIA_C_7', 'CICLOVIA_C_8', 'CICLOVIA_C_9', 'CICLOCAR_C_1',\n",
    "#        'CICLOCAR_C_2', 'CICLOCAR_C_3', 'CICLOCAR_C_7', 'CICLOCAR_C_8', 'CICLOCAR_C_9',\n",
    "#        'ALUMPUB_C_1', 'ALUMPUB_C_2', 'ALUMPUB_C_3', 'ALUMPUB_C_7',\n",
    "#        'ALUMPUB_C_8', 'ALUMPUB_C_9', 'LETRERO_C_1', 'LETRERO_C_2',\n",
    "#        'LETRERO_C_3', 'LETRERO_C_7', 'LETRERO_C_8', 'LETRERO_C_9',\n",
    "#        'ARBOLES_C_1', 'ARBOLES_C_2', 'ARBOLES_C_3', 'ARBOLES_C_7',\n",
    "#        'ARBOLES_C_8', 'ARBOLES_C_9', 'SEMAPEAT_C_1', 'SEMAPEAT_C_2',\n",
    "#        'SEMAPEAT_C_3', 'SEMAPEAT_C_7', 'SEMAPEAT_C_8', 'SEMAPEAT_C_9',\n",
    "#        'SEMAAUDI_C_1', 'SEMAAUDI_C_2', 'SEMAAUDI_C_3', 'SEMAAUDI_C_7',\n",
    "#        'SEMAAUDI_C_8', 'SEMAAUDI_C_9', 'ESTABICI_C_1', 'ESTABICI_C_2',\n",
    "#        'ESTABICI_C_3', 'ESTABICI_C_7', 'ESTABICI_C_8', 'ESTABICI_C_9',\n",
    "#        'DRENAJEP_C_1', 'DRENAJEP_C_2', 'DRENAJEP_C_3', 'DRENAJEP_C_7',\n",
    "#        'DRENAJEP_C_8', 'DRENAJEP_C_9', 'ACESOPER_C_1', 'ACESOPER_C_2',\n",
    "#        'ACESOPER_C_3', 'ACESOPER_C_7', 'ACESOPER_C_8','ACESOPER_C_8', 'ACESOPER_C_9', 'ACESOAUT_C_1', 'ACESOAUT_C_2',\n",
    "#        'ACESOAUT_C_3', 'ACESOAUT_C_7', 'ACESOAUT_C_8', 'ACESOAUT_C_9',\n",
    "#        'PUESSEMI_C_1', 'PUESSEMI_C_2', 'PUESSEMI_C_3', 'PUESSEMI_C_7',\n",
    "#        'PUESSEMI_C_8', 'PUESSEMI_C_9', 'PUESAMBU_C_1', 'PUESAMBU_C_2',\n",
    "#        'PUESAMBU_C_3', 'PUESAMBU_C_7', 'PUESAMBU_C_8', 'PUESAMBU_C_9',\n",
    "#        'POBTOT', 'POBFEM', 'POBMAS', 'P_0A2', 'P_3A5', 'P_6A11', 'P_12A14',\n",
    "#        'P_15A17', 'P_18A24', 'P_25A59', 'P_60YMAS', 'P_0A2_F', 'P_3A5_F',\n",
    "#        'P_6A11_F', 'P_12A14_F', 'P_15A17_F', 'P_18A24_F', 'P_25A59_F',\n",
    "#        'P_60YMAS_F', 'P_0A2_M', 'P_3A5_M', 'P_6A11_M', 'P_12A14_M',\n",
    "#        'P_15A17_M', 'P_18A24_M', 'P_25A59_M', 'P_60YMAS_M', 'P3YM_HLI',\n",
    "#        'P3YM_HLI_F', 'P3YM_HLI_M', 'P3HLINHE', 'P3HLINHE_F', 'P3HLINHE_M', 'P3HLI_HE', 'P3HLI_HE_F',\n",
    "#        'P3HLI_HE_M', 'P5_HLI', 'P5_HLI_NHE', 'P5_HLI_HE', 'PHOG_IND',\n",
    "#        'POB_AFRO', 'POB_AFRO_F', 'POB_AFRO_M', 'PCON_DISC', 'GRAPROES',\n",
    "#        'GRAPROES_F', 'GRAPROES_M', 'PEA', 'PEA_F', 'PEA_M', 'HOGJEF_F',\n",
    "#        'HOGJEF_M', 'VPH_AUTOM', 'VPH_MOTO', 'VPH_BICI', 'POBREZA', 'POBREZAEX',\n",
    "#        'com_1', 'com_2', 'com_3', 'com_4', 'com_5', 'com_6', 'com_7', 'com_8',\n",
    "#        'com_9', 'com_10', 'com_11', 'com_12', 'com_13', 'com_14', 'com_15',\n",
    "#        'com_16', 'com_17', 'com_18', 'com_19', 'com_19', 'com_20', 'com_21',\n",
    "#        'com_22', 'com_23', 'com_24', 'com_25', 'com_26', 'com_27', 'com_28', 'com_29',\n",
    "#        'salud_count', 'deportivos_count', 'infraestructura_count',\n",
    "#        'comercios_count', 'educacion_count', 'pp_count', 'guarderias']]\n",
    "X = data_scaled.drop(columns='vio_index')\n",
    "y = data_scaled['vio_index']\n",
    "\n",
    "# split into train and test (30%)\n",
    "X_train, X_test, y_train, y_test = train_test_split(X, y, test_size=0.3, random_state = 42)\n",
    "\n",
    "# split tran into X_val and y_val (15%) THIS IS FOR THE XGBOOST MODEL\n",
    "X_train, X_val, y_train, y_val = train_test_split(X_test, y_test, test_size=0.5, random_state = 42)"
   ]
  },
  {
   "cell_type": "code",
   "execution_count": 49,
   "id": "c8a237ed-ab96-4319-94b0-a52ef44930e7",
   "metadata": {},
   "outputs": [],
   "source": [
    "my_list =  X.columns.tolist()\n",
    "duplicates = {num:my_list.count(num) for num in my_list}\n",
    "\n",
    "# printing the element with count greater than 1\n",
    "for key, value in duplicates.items():\n",
    "    if value > 1:\n",
    "        print(key, value)"
   ]
  },
  {
   "cell_type": "code",
   "execution_count": 50,
   "id": "b9d547d3-ae16-4ffd-ba23-386ce5225b5c",
   "metadata": {},
   "outputs": [
    {
     "data": {
      "text/plain": [
       "151"
      ]
     },
     "execution_count": 50,
     "metadata": {},
     "output_type": "execute_result"
    }
   ],
   "source": [
    "X.columns.nunique()"
   ]
  },
  {
   "cell_type": "code",
   "execution_count": 51,
   "id": "bc274008-3f0b-4b97-9547-c2a45ee1a6ec",
   "metadata": {},
   "outputs": [
    {
     "data": {
      "text/plain": [
       "151"
      ]
     },
     "execution_count": 51,
     "metadata": {},
     "output_type": "execute_result"
    }
   ],
   "source": [
    "len(X.columns)"
   ]
  },
  {
   "cell_type": "code",
   "execution_count": 52,
   "id": "ed364e37-3da2-4c7a-857f-20d57fda1d2e",
   "metadata": {},
   "outputs": [],
   "source": [
    "#XGBoost is sensitive to outliers"
   ]
  },
  {
   "cell_type": "code",
   "execution_count": 114,
   "id": "da1fd61c-09c8-4162-9232-285c813c1434",
   "metadata": {},
   "outputs": [],
   "source": [
    "#instantiate model \n",
    "xgb_reg = XGBRegressor(n_estimators = 100 ,max_depth= 5, learning_rate=0.1)\n"
   ]
  },
  {
   "cell_type": "markdown",
   "id": "5c3fa6e4-624a-4871-826e-92f9077496f2",
   "metadata": {},
   "source": [
    "**Cross validation**"
   ]
  },
  {
   "cell_type": "code",
   "execution_count": 116,
   "id": "8737cdd3-250e-4d9e-a1bc-d55e1d78fae6",
   "metadata": {},
   "outputs": [],
   "source": [
    "# Cross validation\n",
    "model = xgb_reg\n",
    "cv_results = cross_validate(model, X , y, cv=5,\n",
    "                           scoring=['max_error',\n",
    "                                   'r2',\n",
    "                                   'neg_root_mean_squared_error',\n",
    "                                   'neg_mean_squared_error'])"
   ]
  },
  {
   "cell_type": "code",
   "execution_count": 86,
   "id": "cb7a89c8-3f73-4f33-81d6-7e1cf2e08ede",
   "metadata": {},
   "outputs": [
    {
     "data": {
      "text/plain": [
       "{'fit_time': array([0.48653913, 0.48735714, 0.51734185, 0.4607408 , 0.57656789]),\n",
       " 'score_time': array([0.03575373, 0.03936863, 0.03770566, 0.04393196, 0.03560042]),\n",
       " 'test_max_error': array([-0.20305234, -0.38949043, -0.4007197 , -0.28649217, -0.1893494 ]),\n",
       " 'test_r2': array([0.87758913, 0.81775036, 0.32583237, 0.77859723, 0.86540801]),\n",
       " 'test_neg_root_mean_squared_error': array([-0.04142084, -0.0556728 , -0.08210267, -0.07672458, -0.04459509]),\n",
       " 'test_neg_mean_squared_error': array([-0.00171569, -0.00309946, -0.00674085, -0.00588666, -0.00198872])}"
      ]
     },
     "execution_count": 86,
     "metadata": {},
     "output_type": "execute_result"
    }
   ],
   "source": [
    "cv_results"
   ]
  },
  {
   "cell_type": "code",
   "execution_count": 117,
   "id": "ca23295e-d8d2-48cd-8f29-66bdfe2ace8d",
   "metadata": {},
   "outputs": [
    {
     "name": "stdout",
     "output_type": "stream",
     "text": [
      "fit time =  2.212311029434204\n",
      "score time =  0.0489870548248291\n"
     ]
    }
   ],
   "source": [
    "print('fit time = ', cv_results['fit_time'].mean())\n",
    "print('score time = ', cv_results['score_time'].mean())"
   ]
  },
  {
   "cell_type": "code",
   "execution_count": 118,
   "id": "9aef5e00-a756-431d-afd0-b69489e5729b",
   "metadata": {},
   "outputs": [
    {
     "name": "stdout",
     "output_type": "stream",
     "text": [
      "MaxE =  -0.2938208071758268\n",
      "R2 =  0.7330354199575787\n",
      "RMSE =  -0.060103196696349115\n",
      "MSE =  -0.003886275665956218\n"
     ]
    }
   ],
   "source": [
    "print('MaxE = ', cv_results['test_max_error'].mean())\n",
    "print('R2 = ',cv_results['test_r2'].mean())\n",
    "print('RMSE = ',cv_results['test_neg_root_mean_squared_error'].mean())\n",
    "print('MSE = ',cv_results['test_neg_mean_squared_error'].mean())"
   ]
  },
  {
   "cell_type": "code",
   "execution_count": 88,
   "id": "c3b21cd4-e9ea-4677-bc8a-5e4edc02792d",
   "metadata": {},
   "outputs": [],
   "source": [
    "# print(cv_results['test_score'])\n",
    "# print(cv_results['score_time'])\n",
    "# cv_results['test_score'].mean()"
   ]
  },
  {
   "cell_type": "markdown",
   "id": "d1b2c602-a742-43be-981d-9b5449947f7a",
   "metadata": {},
   "source": [
    "**Learning curves**"
   ]
  },
  {
   "cell_type": "code",
   "execution_count": 81,
   "id": "bf7dbd8f-80f4-437f-a411-a592d30309d9",
   "metadata": {},
   "outputs": [],
   "source": [
    "#  ?\n",
    "train_sizes = [25,50,75,100,250,500,750,1000,1150]\n",
    "\n",
    "# Get train scores (R2), train sizes, and validation scores using `learning_curve`\n",
    "train_sizes, train_scores, test_scores = learning_curve(\n",
    "    estimator=xgb_reg, X=X, y=y, train_sizes=train_sizes, cv=5)\n",
    "\n",
    "# Take the mean of cross-validated train scores and validation scores\n",
    "train_scores_mean = np.mean(train_scores, axis=1)\n",
    "test_scores_mean = np.mean(test_scores, axis=1)"
   ]
  },
  {
   "cell_type": "code",
   "execution_count": 82,
   "id": "f0939204-5b36-4cca-93c1-758d0c7a4564",
   "metadata": {
    "scrolled": true
   },
   "outputs": [
    {
     "data": {
      "text/plain": [
       "<matplotlib.legend.Legend at 0x7ffb244877f0>"
      ]
     },
     "execution_count": 82,
     "metadata": {},
     "output_type": "execute_result"
    },
    {
     "data": {
      "image/png": "[encoded data removed]",
      "text/plain": [
       "<Figure size 640x480 with 1 Axes>"
      ]
     },
     "metadata": {},
     "output_type": "display_data"
    }
   ],
   "source": [
    "plt.plot(train_sizes, train_scores_mean, label = 'Training score')\n",
    "plt.plot(train_sizes, test_scores_mean, label = 'Test score')\n",
    "plt.ylabel('r2 score', fontsize = 14)\n",
    "plt.xlabel('Training set size', fontsize = 14)\n",
    "plt.title('Learning curves', fontsize = 18, y = 1.03)\n",
    "plt.legend()"
   ]
  },
  {
   "cell_type": "markdown",
   "id": "40ac8723-3258-4fe8-a7c1-8aad47bb7226",
   "metadata": {},
   "source": [
    "**XGBoost model**"
   ]
  },
  {
   "cell_type": "code",
   "execution_count": 103,
   "id": "79d5dd60-a532-46d0-bae0-0d46bbf58bc5",
   "metadata": {},
   "outputs": [],
   "source": [
    "# split tran into X_val and y_val (15%) THIS IS FOR THE XGBOOST MODEL\n",
    "X_train_02, X_val_02, y_train_02, y_val_02 = train_test_split(X, y, test_size=0.2, random_state = 42)"
   ]
  },
  {
   "cell_type": "code",
   "execution_count": 115,
   "id": "bbd2117a-57e7-4e28-8e21-2c2e7e503493",
   "metadata": {
    "scrolled": true
   },
   "outputs": [
    {
     "data": {
      "text/html": [
       "<style>#sk-container-id-3 {\n",
       "  /* Definition of color scheme common for light and dark mode */\n",
       "  --sklearn-color-text: black;\n",
       "  --sklearn-color-line: gray;\n",
       "  /* Definition of color scheme for unfitted estimators */\n",
       "  --sklearn-color-unfitted-level-0: #fff5e6;\n",
       "  --sklearn-color-unfitted-level-1: #f6e4d2;\n",
       "  --sklearn-color-unfitted-level-2: #ffe0b3;\n",
       "  --sklearn-color-unfitted-level-3: chocolate;\n",
       "  /* Definition of color scheme for fitted estimators */\n",
       "  --sklearn-color-fitted-level-0: #f0f8ff;\n",
       "  --sklearn-color-fitted-level-1: #d4ebff;\n",
       "  --sklearn-color-fitted-level-2: #b3dbfd;\n",
       "  --sklearn-color-fitted-level-3: cornflowerblue;\n",
       "\n",
       "  /* Specific color for light theme */\n",
       "  --sklearn-color-text-on-default-background: var(--sg-text-color, var(--theme-code-foreground, var(--jp-content-font-color1, black)));\n",
       "  --sklearn-color-background: var(--sg-background-color, var(--theme-background, var(--jp-layout-color0, white)));\n",
       "  --sklearn-color-border-box: var(--sg-text-color, var(--theme-code-foreground, var(--jp-content-font-color1, black)));\n",
       "  --sklearn-color-icon: #696969;\n",
       "\n",
       "  @media (prefers-color-scheme: dark) {\n",
       "    /* Redefinition of color scheme for dark theme */\n",
       "    --sklearn-color-text-on-default-background: var(--sg-text-color, var(--theme-code-foreground, var(--jp-content-font-color1, white)));\n",
       "    --sklearn-color-background: var(--sg-background-color, var(--theme-background, var(--jp-layout-color0, #111)));\n",
       "    --sklearn-color-border-box: var(--sg-text-color, var(--theme-code-foreground, var(--jp-content-font-color1, white)));\n",
       "    --sklearn-color-icon: #878787;\n",
       "  }\n",
       "}\n",
       "\n",
       "#sk-container-id-3 {\n",
       "  color: var(--sklearn-color-text);\n",
       "}\n",
       "\n",
       "#sk-container-id-3 pre {\n",
       "  padding: 0;\n",
       "}\n",
       "\n",
       "#sk-container-id-3 input.sk-hidden--visually {\n",
       "  border: 0;\n",
       "  clip: rect(1px 1px 1px 1px);\n",
       "  clip: rect(1px, 1px, 1px, 1px);\n",
       "  height: 1px;\n",
       "  margin: -1px;\n",
       "  overflow: hidden;\n",
       "  padding: 0;\n",
       "  position: absolute;\n",
       "  width: 1px;\n",
       "}\n",
       "\n",
       "#sk-container-id-3 div.sk-dashed-wrapped {\n",
       "  border: 1px dashed var(--sklearn-color-line);\n",
       "  margin: 0 0.4em 0.5em 0.4em;\n",
       "  box-sizing: border-box;\n",
       "  padding-bottom: 0.4em;\n",
       "  background-color: var(--sklearn-color-background);\n",
       "}\n",
       "\n",
       "#sk-container-id-3 div.sk-container {\n",
       "  /* jupyter's `normalize.less` sets `[hidden] { display: none; }`\n",
       "     but bootstrap.min.css set `[hidden] { display: none !important; }`\n",
       "     so we also need the `!important` here to be able to override the\n",
       "     default hidden behavior on the sphinx rendered scikit-learn.org.\n",
       "     See: https://github.com/scikit-learn/scikit-learn/issues/21755 */\n",
       "  display: inline-block !important;\n",
       "  position: relative;\n",
       "}\n",
       "\n",
       "#sk-container-id-3 div.sk-text-repr-fallback {\n",
       "  display: none;\n",
       "}\n",
       "\n",
       "div.sk-parallel-item,\n",
       "div.sk-serial,\n",
       "div.sk-item {\n",
       "  /* draw centered vertical line to link estimators */\n",
       "  background-image: linear-gradient(var(--sklearn-color-text-on-default-background), var(--sklearn-color-text-on-default-background));\n",
       "  background-size: 2px 100%;\n",
       "  background-repeat: no-repeat;\n",
       "  background-position: center center;\n",
       "}\n",
       "\n",
       "/* Parallel-specific style estimator block */\n",
       "\n",
       "#sk-container-id-3 div.sk-parallel-item::after {\n",
       "  content: \"\";\n",
       "  width: 100%;\n",
       "  border-bottom: 2px solid var(--sklearn-color-text-on-default-background);\n",
       "  flex-grow: 1;\n",
       "}\n",
       "\n",
       "#sk-container-id-3 div.sk-parallel {\n",
       "  display: flex;\n",
       "  align-items: stretch;\n",
       "  justify-content: center;\n",
       "  background-color: var(--sklearn-color-background);\n",
       "  position: relative;\n",
       "}\n",
       "\n",
       "#sk-container-id-3 div.sk-parallel-item {\n",
       "  display: flex;\n",
       "  flex-direction: column;\n",
       "}\n",
       "\n",
       "#sk-container-id-3 div.sk-parallel-item:first-child::after {\n",
       "  align-self: flex-end;\n",
       "  width: 50%;\n",
       "}\n",
       "\n",
       "#sk-container-id-3 div.sk-parallel-item:last-child::after {\n",
       "  align-self: flex-start;\n",
       "  width: 50%;\n",
       "}\n",
       "\n",
       "#sk-container-id-3 div.sk-parallel-item:only-child::after {\n",
       "  width: 0;\n",
       "}\n",
       "\n",
       "/* Serial-specific style estimator block */\n",
       "\n",
       "#sk-container-id-3 div.sk-serial {\n",
       "  display: flex;\n",
       "  flex-direction: column;\n",
       "  align-items: center;\n",
       "  background-color: var(--sklearn-color-background);\n",
       "  padding-right: 1em;\n",
       "  padding-left: 1em;\n",
       "}\n",
       "\n",
       "\n",
       "/* Toggleable style: style used for estimator/Pipeline/ColumnTransformer box that is\n",
       "clickable and can be expanded/collapsed.\n",
       "- Pipeline and ColumnTransformer use this feature and define the default style\n",
       "- Estimators will overwrite some part of the style using the `sk-estimator` class\n",
       "*/\n",
       "\n",
       "/* Pipeline and ColumnTransformer style (default) */\n",
       "\n",
       "#sk-container-id-3 div.sk-toggleable {\n",
       "  /* Default theme specific background. It is overwritten whether we have a\n",
       "  specific estimator or a Pipeline/ColumnTransformer */\n",
       "  background-color: var(--sklearn-color-background);\n",
       "}\n",
       "\n",
       "/* Toggleable label */\n",
       "#sk-container-id-3 label.sk-toggleable__label {\n",
       "  cursor: pointer;\n",
       "  display: block;\n",
       "  width: 100%;\n",
       "  margin-bottom: 0;\n",
       "  padding: 0.5em;\n",
       "  box-sizing: border-box;\n",
       "  text-align: center;\n",
       "}\n",
       "\n",
       "#sk-container-id-3 label.sk-toggleable__label-arrow:before {\n",
       "  /* Arrow on the left of the label */\n",
       "  content: \"▸\";\n",
       "  float: left;\n",
       "  margin-right: 0.25em;\n",
       "  color: var(--sklearn-color-icon);\n",
       "}\n",
       "\n",
       "#sk-container-id-3 label.sk-toggleable__label-arrow:hover:before {\n",
       "  color: var(--sklearn-color-text);\n",
       "}\n",
       "\n",
       "/* Toggleable content - dropdown */\n",
       "\n",
       "#sk-container-id-3 div.sk-toggleable__content {\n",
       "  max-height: 0;\n",
       "  max-width: 0;\n",
       "  overflow: hidden;\n",
       "  text-align: left;\n",
       "  /* unfitted */\n",
       "  background-color: var(--sklearn-color-unfitted-level-0);\n",
       "}\n",
       "\n",
       "#sk-container-id-3 div.sk-toggleable__content.fitted {\n",
       "  /* fitted */\n",
       "  background-color: var(--sklearn-color-fitted-level-0);\n",
       "}\n",
       "\n",
       "#sk-container-id-3 div.sk-toggleable__content pre {\n",
       "  margin: 0.2em;\n",
       "  border-radius: 0.25em;\n",
       "  color: var(--sklearn-color-text);\n",
       "  /* unfitted */\n",
       "  background-color: var(--sklearn-color-unfitted-level-0);\n",
       "}\n",
       "\n",
       "#sk-container-id-3 div.sk-toggleable__content.fitted pre {\n",
       "  /* unfitted */\n",
       "  background-color: var(--sklearn-color-fitted-level-0);\n",
       "}\n",
       "\n",
       "#sk-container-id-3 input.sk-toggleable__control:checked~div.sk-toggleable__content {\n",
       "  /* Expand drop-down */\n",
       "  max-height: 200px;\n",
       "  max-width: 100%;\n",
       "  overflow: auto;\n",
       "}\n",
       "\n",
       "#sk-container-id-3 input.sk-toggleable__control:checked~label.sk-toggleable__label-arrow:before {\n",
       "  content: \"▾\";\n",
       "}\n",
       "\n",
       "/* Pipeline/ColumnTransformer-specific style */\n",
       "\n",
       "#sk-container-id-3 div.sk-label input.sk-toggleable__control:checked~label.sk-toggleable__label {\n",
       "  color: var(--sklearn-color-text);\n",
       "  background-color: var(--sklearn-color-unfitted-level-2);\n",
       "}\n",
       "\n",
       "#sk-container-id-3 div.sk-label.fitted input.sk-toggleable__control:checked~label.sk-toggleable__label {\n",
       "  background-color: var(--sklearn-color-fitted-level-2);\n",
       "}\n",
       "\n",
       "/* Estimator-specific style */\n",
       "\n",
       "/* Colorize estimator box */\n",
       "#sk-container-id-3 div.sk-estimator input.sk-toggleable__control:checked~label.sk-toggleable__label {\n",
       "  /* unfitted */\n",
       "  background-color: var(--sklearn-color-unfitted-level-2);\n",
       "}\n",
       "\n",
       "#sk-container-id-3 div.sk-estimator.fitted input.sk-toggleable__control:checked~label.sk-toggleable__label {\n",
       "  /* fitted */\n",
       "  background-color: var(--sklearn-color-fitted-level-2);\n",
       "}\n",
       "\n",
       "#sk-container-id-3 div.sk-label label.sk-toggleable__label,\n",
       "#sk-container-id-3 div.sk-label label {\n",
       "  /* The background is the default theme color */\n",
       "  color: var(--sklearn-color-text-on-default-background);\n",
       "}\n",
       "\n",
       "/* On hover, darken the color of the background */\n",
       "#sk-container-id-3 div.sk-label:hover label.sk-toggleable__label {\n",
       "  color: var(--sklearn-color-text);\n",
       "  background-color: var(--sklearn-color-unfitted-level-2);\n",
       "}\n",
       "\n",
       "/* Label box, darken color on hover, fitted */\n",
       "#sk-container-id-3 div.sk-label.fitted:hover label.sk-toggleable__label.fitted {\n",
       "  color: var(--sklearn-color-text);\n",
       "  background-color: var(--sklearn-color-fitted-level-2);\n",
       "}\n",
       "\n",
       "/* Estimator label */\n",
       "\n",
       "#sk-container-id-3 div.sk-label label {\n",
       "  font-family: monospace;\n",
       "  font-weight: bold;\n",
       "  display: inline-block;\n",
       "  line-height: 1.2em;\n",
       "}\n",
       "\n",
       "#sk-container-id-3 div.sk-label-container {\n",
       "  text-align: center;\n",
       "}\n",
       "\n",
       "/* Estimator-specific */\n",
       "#sk-container-id-3 div.sk-estimator {\n",
       "  font-family: monospace;\n",
       "  border: 1px dotted var(--sklearn-color-border-box);\n",
       "  border-radius: 0.25em;\n",
       "  box-sizing: border-box;\n",
       "  margin-bottom: 0.5em;\n",
       "  /* unfitted */\n",
       "  background-color: var(--sklearn-color-unfitted-level-0);\n",
       "}\n",
       "\n",
       "#sk-container-id-3 div.sk-estimator.fitted {\n",
       "  /* fitted */\n",
       "  background-color: var(--sklearn-color-fitted-level-0);\n",
       "}\n",
       "\n",
       "/* on hover */\n",
       "#sk-container-id-3 div.sk-estimator:hover {\n",
       "  /* unfitted */\n",
       "  background-color: var(--sklearn-color-unfitted-level-2);\n",
       "}\n",
       "\n",
       "#sk-container-id-3 div.sk-estimator.fitted:hover {\n",
       "  /* fitted */\n",
       "  background-color: var(--sklearn-color-fitted-level-2);\n",
       "}\n",
       "\n",
       "/* Specification for estimator info (e.g. \"i\" and \"?\") */\n",
       "\n",
       "/* Common style for \"i\" and \"?\" */\n",
       "\n",
       ".sk-estimator-doc-link,\n",
       "a:link.sk-estimator-doc-link,\n",
       "a:visited.sk-estimator-doc-link {\n",
       "  float: right;\n",
       "  font-size: smaller;\n",
       "  line-height: 1em;\n",
       "  font-family: monospace;\n",
       "  background-color: var(--sklearn-color-background);\n",
       "  border-radius: 1em;\n",
       "  height: 1em;\n",
       "  width: 1em;\n",
       "  text-decoration: none !important;\n",
       "  margin-left: 1ex;\n",
       "  /* unfitted */\n",
       "  border: var(--sklearn-color-unfitted-level-1) 1pt solid;\n",
       "  color: var(--sklearn-color-unfitted-level-1);\n",
       "}\n",
       "\n",
       ".sk-estimator-doc-link.fitted,\n",
       "a:link.sk-estimator-doc-link.fitted,\n",
       "a:visited.sk-estimator-doc-link.fitted {\n",
       "  /* fitted */\n",
       "  border: var(--sklearn-color-fitted-level-1) 1pt solid;\n",
       "  color: var(--sklearn-color-fitted-level-1);\n",
       "}\n",
       "\n",
       "/* On hover */\n",
       "div.sk-estimator:hover .sk-estimator-doc-link:hover,\n",
       ".sk-estimator-doc-link:hover,\n",
       "div.sk-label-container:hover .sk-estimator-doc-link:hover,\n",
       ".sk-estimator-doc-link:hover {\n",
       "  /* unfitted */\n",
       "  background-color: var(--sklearn-color-unfitted-level-3);\n",
       "  color: var(--sklearn-color-background);\n",
       "  text-decoration: none;\n",
       "}\n",
       "\n",
       "div.sk-estimator.fitted:hover .sk-estimator-doc-link.fitted:hover,\n",
       ".sk-estimator-doc-link.fitted:hover,\n",
       "div.sk-label-container:hover .sk-estimator-doc-link.fitted:hover,\n",
       ".sk-estimator-doc-link.fitted:hover {\n",
       "  /* fitted */\n",
       "  background-color: var(--sklearn-color-fitted-level-3);\n",
       "  color: var(--sklearn-color-background);\n",
       "  text-decoration: none;\n",
       "}\n",
       "\n",
       "/* Span, style for the box shown on hovering the info icon */\n",
       ".sk-estimator-doc-link span {\n",
       "  display: none;\n",
       "  z-index: 9999;\n",
       "  position: relative;\n",
       "  font-weight: normal;\n",
       "  right: .2ex;\n",
       "  padding: .5ex;\n",
       "  margin: .5ex;\n",
       "  width: min-content;\n",
       "  min-width: 20ex;\n",
       "  max-width: 50ex;\n",
       "  color: var(--sklearn-color-text);\n",
       "  box-shadow: 2pt 2pt 4pt #999;\n",
       "  /* unfitted */\n",
       "  background: var(--sklearn-color-unfitted-level-0);\n",
       "  border: .5pt solid var(--sklearn-color-unfitted-level-3);\n",
       "}\n",
       "\n",
       ".sk-estimator-doc-link.fitted span {\n",
       "  /* fitted */\n",
       "  background: var(--sklearn-color-fitted-level-0);\n",
       "  border: var(--sklearn-color-fitted-level-3);\n",
       "}\n",
       "\n",
       ".sk-estimator-doc-link:hover span {\n",
       "  display: block;\n",
       "}\n",
       "\n",
       "/* \"?\"-specific style due to the `<a>` HTML tag */\n",
       "\n",
       "#sk-container-id-3 a.estimator_doc_link {\n",
       "  float: right;\n",
       "  font-size: 1rem;\n",
       "  line-height: 1em;\n",
       "  font-family: monospace;\n",
       "  background-color: var(--sklearn-color-background);\n",
       "  border-radius: 1rem;\n",
       "  height: 1rem;\n",
       "  width: 1rem;\n",
       "  text-decoration: none;\n",
       "  /* unfitted */\n",
       "  color: var(--sklearn-color-unfitted-level-1);\n",
       "  border: var(--sklearn-color-unfitted-level-1) 1pt solid;\n",
       "}\n",
       "\n",
       "#sk-container-id-3 a.estimator_doc_link.fitted {\n",
       "  /* fitted */\n",
       "  border: var(--sklearn-color-fitted-level-1) 1pt solid;\n",
       "  color: var(--sklearn-color-fitted-level-1);\n",
       "}\n",
       "\n",
       "/* On hover */\n",
       "#sk-container-id-3 a.estimator_doc_link:hover {\n",
       "  /* unfitted */\n",
       "  background-color: var(--sklearn-color-unfitted-level-3);\n",
       "  color: var(--sklearn-color-background);\n",
       "  text-decoration: none;\n",
       "}\n",
       "\n",
       "#sk-container-id-3 a.estimator_doc_link.fitted:hover {\n",
       "  /* fitted */\n",
       "  background-color: var(--sklearn-color-fitted-level-3);\n",
       "}\n",
       "</style><div id=\"sk-container-id-3\" class=\"sk-top-container\"><div class=\"sk-text-repr-fallback\"><pre>XGBRegressor(base_score=None, booster=None, callbacks=None,\n",
       "             colsample_bylevel=None, colsample_bynode=None,\n",
       "             colsample_bytree=None, device=None, early_stopping_rounds=None,\n",
       "             enable_categorical=False, eval_metric=None, feature_types=None,\n",
       "             gamma=None, grow_policy=None, importance_type=None,\n",
       "             interaction_constraints=None, learning_rate=0.1, max_bin=None,\n",
       "             max_cat_threshold=None, max_cat_to_onehot=None,\n",
       "             max_delta_step=None, max_depth=5, max_leaves=None,\n",
       "             min_child_weight=None, missing=nan, monotone_constraints=None,\n",
       "             multi_strategy=None, n_estimators=100, n_jobs=None,\n",
       "             num_parallel_tree=None, random_state=None, ...)</pre><b>In a Jupyter environment, please rerun this cell to show the HTML representation or trust the notebook. <br />On GitHub, the HTML representation is unable to render, please try loading this page with nbviewer.org.</b></div><div class=\"sk-container\" hidden><div class=\"sk-item\"><div class=\"sk-estimator fitted sk-toggleable\"><input class=\"sk-toggleable__control sk-hidden--visually\" id=\"sk-estimator-id-3\" type=\"checkbox\" checked><label for=\"sk-estimator-id-3\" class=\"sk-toggleable__label fitted sk-toggleable__label-arrow fitted\">&nbsp;XGBRegressor<span class=\"sk-estimator-doc-link fitted\">i<span>Fitted</span></span></label><div class=\"sk-toggleable__content fitted\"><pre>XGBRegressor(base_score=None, booster=None, callbacks=None,\n",
       "             colsample_bylevel=None, colsample_bynode=None,\n",
       "             colsample_bytree=None, device=None, early_stopping_rounds=None,\n",
       "             enable_categorical=False, eval_metric=None, feature_types=None,\n",
       "             gamma=None, grow_policy=None, importance_type=None,\n",
       "             interaction_constraints=None, learning_rate=0.1, max_bin=None,\n",
       "             max_cat_threshold=None, max_cat_to_onehot=None,\n",
       "             max_delta_step=None, max_depth=5, max_leaves=None,\n",
       "             min_child_weight=None, missing=nan, monotone_constraints=None,\n",
       "             multi_strategy=None, n_estimators=100, n_jobs=None,\n",
       "             num_parallel_tree=None, random_state=None, ...)</pre></div> </div></div></div></div>"
      ],
      "text/plain": [
       "XGBRegressor(base_score=None, booster=None, callbacks=None,\n",
       "             colsample_bylevel=None, colsample_bynode=None,\n",
       "             colsample_bytree=None, device=None, early_stopping_rounds=None,\n",
       "             enable_categorical=False, eval_metric=None, feature_types=None,\n",
       "             gamma=None, grow_policy=None, importance_type=None,\n",
       "             interaction_constraints=None, learning_rate=0.1, max_bin=None,\n",
       "             max_cat_threshold=None, max_cat_to_onehot=None,\n",
       "             max_delta_step=None, max_depth=5, max_leaves=None,\n",
       "             min_child_weight=None, missing=nan, monotone_constraints=None,\n",
       "             multi_strategy=None, n_estimators=100, n_jobs=None,\n",
       "             num_parallel_tree=None, random_state=None, ...)"
      ]
     },
     "execution_count": 115,
     "metadata": {},
     "output_type": "execute_result"
    }
   ],
   "source": [
    "xgb_reg.fit(X, y)"
   ]
  },
  {
   "cell_type": "code",
   "execution_count": 120,
   "id": "a4068f90-9b10-4fe0-bbd9-5a7696713749",
   "metadata": {},
   "outputs": [],
   "source": [
    "import pickle\n",
    "file_name = \"xgb_reg.pkl\"\n",
    "# save\n",
    "pickle.dump(xgb_reg, open(file_name, \"wb\"))\n",
    "# load\n",
    "#xgb_model_loaded = pickle.load(open(file_name, \"rb\"))"
   ]
  },
  {
   "cell_type": "code",
   "execution_count": 122,
   "id": "4a23943e-b524-42a7-81b1-3c018c92440b",
   "metadata": {},
   "outputs": [],
   "source": [
    "y_predict = xgb_reg.predict(X)"
   ]
  },
  {
   "cell_type": "code",
   "execution_count": 124,
   "id": "2c3b72c6-2cac-40d1-ab23-c786f6f81a69",
   "metadata": {},
   "outputs": [
    {
     "data": {
      "text/plain": [
       "CVEGEO\n",
       "090110471        0.000000\n",
       "090101326        0.000000\n",
       "090090539        0.000000\n",
       "090090524        0.000000\n",
       "090090115        0.000000\n",
       "                   ...   \n",
       "0900700012564    0.384759\n",
       "0900700012615    0.439599\n",
       "0900700012969    0.144105\n",
       "0900700013721    0.258088\n",
       "0900700011034    0.382883\n",
       "Name: vio_index, Length: 2453, dtype: float64"
      ]
     },
     "execution_count": 124,
     "metadata": {},
     "output_type": "execute_result"
    }
   ],
   "source": [
    "y"
   ]
  },
  {
   "cell_type": "code",
   "execution_count": 60,
   "id": "eb46a1d8-9218-4934-bd23-624643b7b8f9",
   "metadata": {},
   "outputs": [],
   "source": [
    "# #evaluate the model's performance\n",
    "# score = xgb_reg.score(X_test, y_test)\n",
    "# score"
   ]
  },
  {
   "cell_type": "code",
   "execution_count": 61,
   "id": "88db65e2-fb59-4ee9-bbbf-4ba85840d5d9",
   "metadata": {},
   "outputs": [],
   "source": [
    "# y_pred = xgb_reg.predict(X_val)\n",
    "# y_pred"
   ]
  },
  {
   "cell_type": "code",
   "execution_count": 97,
   "id": "3cb1af94-7e81-42ec-8fd2-242e6ed3ee28",
   "metadata": {
    "scrolled": true
   },
   "outputs": [],
   "source": [
    "#! git status"
   ]
  },
  {
   "cell_type": "code",
   "execution_count": 63,
   "id": "166a84ba-db0e-4622-8a36-86cd54ce675b",
   "metadata": {},
   "outputs": [],
   "source": [
    "#!git add RUS_preprocesing_model.ipynb\n",
    "\n",
    "#!git commit -m 'ready to try the model'\n",
    "\n",
    "#!git push origin main"
   ]
  },
  {
   "cell_type": "code",
   "execution_count": 98,
   "id": "8f504e89-fde9-486b-b62d-4d18a8a1d072",
   "metadata": {},
   "outputs": [],
   "source": [
    "#'Metro', 'Suburbano', 'Metrobus', 'Tren_Liger', 'Trolebus', 'RTP',\n",
    "#        'Trole_elev', 'T_Concesio', 'Ecobici', 'Cablebus', 'VIVTOT',\n",
    "#        'RECUCALL_C_1', 'RECUCALL_C_2', 'RECUCALL_C_3', 'RECUCALL_C_7',\n",
    "#        'RECUCALL_C_8', 'RECUCALL_C_9', 'RAMPAS_C_1', 'RAMPAS_C_2',\n",
    "#        'RAMPAS_C_3', 'RAMPAS_C_7', 'RAMPAS_C_8', 'RAMPAS_C_9', 'PASOPEAT_C_1',\n",
    "#        'PASOPEAT_C_2', 'PASOPEAT_C_3', 'PASOPEAT_C_7', 'PASOPEAT_C_8',\n",
    "#        'PASOPEAT_C_9', 'BANQUETA_C_1', 'BANQUETA_C_2', 'BANQUETA_C_3',\n",
    "#        'BANQUETA_C_7', 'BANQUETA_C_8', 'BANQUETA_C_9', 'GUARNICI_C_1',\n",
    "#        'GUARNICI_C_2', 'GUARNICI_C_3', 'GUARNICI_C_7', 'GUARNICI_C_8',\n",
    "#        'GUARNICI_C_9', 'CICLOVIA_C_1', 'CICLOVIA_C_2', 'CICLOVIA_C_3',\n",
    "#        'CICLOVIA_C_7', 'CICLOVIA_C_8', 'CICLOVIA_C_9', 'CICLOCAR_C_1',\n",
    "#        'CICLOCAR_C_2', 'CICLOCAR_C_3', 'CICLOCAR_C_7', 'CICLOCAR_C_8', 'CICLOCAR_C_9',\n",
    "#        'ALUMPUB_C_1', 'ALUMPUB_C_2', 'ALUMPUB_C_3', 'ALUMPUB_C_7',\n",
    "#        'ALUMPUB_C_8', 'ALUMPUB_C_9', 'LETRERO_C_1', 'LETRERO_C_2',\n",
    "#        'LETRERO_C_3', 'LETRERO_C_7', 'LETRERO_C_8', 'LETRERO_C_9',\n",
    "#        'ARBOLES_C_1', 'ARBOLES_C_2', 'ARBOLES_C_3', 'ARBOLES_C_7',\n",
    "#        'ARBOLES_C_8', 'ARBOLES_C_9', 'SEMAPEAT_C_1', 'SEMAPEAT_C_2',\n",
    "#        'SEMAPEAT_C_3', 'SEMAPEAT_C_7', 'SEMAPEAT_C_8', 'SEMAPEAT_C_9',\n",
    "#        'SEMAAUDI_C_1', 'SEMAAUDI_C_2', 'SEMAAUDI_C_3', 'SEMAAUDI_C_7',\n",
    "#        'SEMAAUDI_C_8', 'SEMAAUDI_C_9', 'ESTABICI_C_1', 'ESTABICI_C_2',\n",
    "#        'ESTABICI_C_3', 'ESTABICI_C_7', 'ESTABICI_C_8', 'ESTABICI_C_9',\n",
    "#        'DRENAJEP_C_1', 'DRENAJEP_C_2', 'DRENAJEP_C_3', 'DRENAJEP_C_7',\n",
    "#        'DRENAJEP_C_8', 'DRENAJEP_C_9', 'ACESOPER_C_1', 'ACESOPER_C_2',\n",
    "#        'ACESOPER_C_3', 'ACESOPER_C_7', 'ACESOPER_C_8','ACESOPER_C_8', 'ACESOPER_C_9', 'ACESOAUT_C_1', 'ACESOAUT_C_2',\n",
    "#        'ACESOAUT_C_3', 'ACESOAUT_C_7', 'ACESOAUT_C_8', 'ACESOAUT_C_9',\n",
    "#        'PUESSEMI_C_1', 'PUESSEMI_C_2', 'PUESSEMI_C_3', 'PUESSEMI_C_7',\n",
    "#        'PUESSEMI_C_8', 'PUESSEMI_C_9', 'PUESAMBU_C_1', 'PUESAMBU_C_2',\n",
    "#        'PUESAMBU_C_3', 'PUESAMBU_C_7', 'PUESAMBU_C_8', 'PUESAMBU_C_9',\n",
    "#        'POBTOT', 'POBFEM', 'POBMAS', 'P_0A2', 'P_3A5', 'P_6A11', 'P_12A14',\n",
    "#        'P_15A17', 'P_18A24', 'P_25A59', 'P_60YMAS', 'P_0A2_F', 'P_3A5_F',\n",
    "#        'P_6A11_F', 'P_12A14_F', 'P_15A17_F', 'P_18A24_F', 'P_25A59_F',\n",
    "#        'P_60YMAS_F', 'P_0A2_M', 'P_3A5_M', 'P_6A11_M', 'P_12A14_M',\n",
    "#        'P_15A17_M', 'P_18A24_M', 'P_25A59_M', 'P_60YMAS_M', 'P3YM_HLI',\n",
    "#        'P3YM_HLI_F', 'P3YM_HLI_M', 'P3HLINHE', 'P3HLINHE_F', 'P3HLINHE_M', 'P3HLI_HE', 'P3HLI_HE_F',\n",
    "#        'P3HLI_HE_M', 'P5_HLI', 'P5_HLI_NHE', 'P5_HLI_HE', 'PHOG_IND',\n",
    "#        'POB_AFRO', 'POB_AFRO_F', 'POB_AFRO_M', 'PCON_DISC', 'GRAPROES',\n",
    "#        'GRAPROES_F', 'GRAPROES_M', 'PEA', 'PEA_F', 'PEA_M', 'HOGJEF_F',\n",
    "#        'HOGJEF_M', 'VPH_AUTOM', 'VPH_MOTO', 'VPH_BICI', 'POBREZA', 'POBREZAEX',\n",
    "#        'com_1', 'com_2', 'com_3', 'com_4', 'com_5', 'com_6', 'com_7', 'com_8',\n",
    "#        'com_9', 'com_10', 'com_11', 'com_12', 'com_13', 'com_14', 'com_15',\n",
    "#        'com_16', 'com_17', 'com_18', 'com_19', 'com_19', 'com_20', 'com_21',\n",
    "#        'com_22', 'com_23', 'com_24', 'com_25', 'com_26', 'com_27', 'com_28', 'com_29',\n",
    "#        'salud_count', 'deportivos_count', 'infraestructura_count',\n",
    "#        'comercios_count', 'educacion_count', 'pp_count', 'guarderias']"
   ]
  }
 ],
 "metadata": {
  "kernelspec": {
   "display_name": "Python 3 (ipykernel)",
   "language": "python",
   "name": "python3"
  },
  "language_info": {
   "codemirror_mode": {
    "name": "ipython",
    "version": 3
   },
   "file_extension": ".py",
   "mimetype": "text/x-python",
   "name": "python",
   "nbconvert_exporter": "python",
   "pygments_lexer": "ipython3",
   "version": "3.10.6"
  }
 },
 "nbformat": 4,
 "nbformat_minor": 5
}
