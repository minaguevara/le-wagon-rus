{
 "cells": [
  {
   "cell_type": "code",
   "execution_count": 1,
   "id": "9bab4f82-990f-40fb-bc13-5915e6f8fe36",
   "metadata": {},
   "outputs": [],
   "source": [
    "#!pip install emoji --upgrade"
   ]
  },
  {
   "cell_type": "code",
   "execution_count": 2,
   "id": "0a66ce50-7b98-441d-9d6b-d21cacacad67",
   "metadata": {},
   "outputs": [],
   "source": [
    "#!pip install xgboost"
   ]
  },
  {
   "cell_type": "code",
   "execution_count": 3,
   "id": "d9d58154-87db-43cc-9e69-48af16360db3",
   "metadata": {},
   "outputs": [],
   "source": [
    "import os \n",
    "import re"
   ]
  },
  {
   "cell_type": "code",
   "execution_count": 4,
   "id": "ae03d4b1-2182-461e-b605-5de9a9710f1f",
   "metadata": {},
   "outputs": [],
   "source": [
    "import geopandas as gpd\n",
    "import pandas as pd\n",
    "import numpy as np\n",
    "import seaborn as sns\n",
    "from shapely.geometry import Polygon, LineString, Point"
   ]
  },
  {
   "cell_type": "code",
   "execution_count": 5,
   "id": "8a2b0230-2906-41d1-87c3-28759b0d869e",
   "metadata": {},
   "outputs": [],
   "source": [
    "from sklearn.preprocessing import StandardScaler, MinMaxScaler\n",
    "from sklearn.model_selection import train_test_split, learning_curve, cross_validate"
   ]
  },
  {
   "cell_type": "code",
   "execution_count": 6,
   "id": "32afe32e-6e0f-4582-9c2d-a42efc09e97a",
   "metadata": {},
   "outputs": [],
   "source": [
    "from xgboost import XGBRegressor"
   ]
  },
  {
   "cell_type": "markdown",
   "id": "d0df3420-032c-45f1-9be3-49ed23c29038",
   "metadata": {},
   "source": [
    "# DATASETS | data_ruscdmx (data_RUS*)"
   ]
  },
  {
   "cell_type": "code",
   "execution_count": 7,
   "id": "bbcc0700-24a0-4820-86d5-2cf64415d5b3",
   "metadata": {},
   "outputs": [],
   "source": [
    "# We can drop 'CVEGEO' and 'geomatry' \n",
    "#                or\n",
    "# use 'CVEGEO' as index"
   ]
  },
  {
   "cell_type": "markdown",
   "id": "4368b0e2-f02e-4f0a-88a6-51c0522c6f01",
   "metadata": {
    "jp-MarkdownHeadingCollapsed": true
   },
   "source": [
    "## AGEB | formato shape | agebs"
   ]
  },
  {
   "cell_type": "code",
   "execution_count": 8,
   "id": "1de5a31b-b34d-40c8-b40b-53c7192c27a4",
   "metadata": {},
   "outputs": [],
   "source": [
    "ageb_rural =gpd.read_file('../raw_data/poligono_ageb_rurales_cdmx/poligono_ageb_rurales_cdmx.shp')"
   ]
  },
  {
   "cell_type": "code",
   "execution_count": 9,
   "id": "605e56bb-9c48-4e68-bf4c-b0e5974f4406",
   "metadata": {},
   "outputs": [],
   "source": [
    "ageb_urbana =gpd.read_file('../raw_data/poligono_ageb_urbanas_cdmx/poligono_ageb_urbanas_cdmx.shp')"
   ]
  },
  {
   "cell_type": "code",
   "execution_count": 10,
   "id": "91ce0442-cd82-4f45-987f-12d975866270",
   "metadata": {},
   "outputs": [],
   "source": [
    "agebs = pd.concat([ageb_rural, ageb_urbana])"
   ]
  },
  {
   "cell_type": "code",
   "execution_count": 11,
   "id": "612d0272-638a-4fd9-8d73-e2dfa49109a8",
   "metadata": {},
   "outputs": [],
   "source": [
    "agebs = agebs.drop(columns=['CVE_ENT', 'CVE_MUN', 'CVE_AGEB','CVE_LOC'])"
   ]
  },
  {
   "cell_type": "code",
   "execution_count": 12,
   "id": "75cfdccb-68c7-4b85-88e6-08adf66e389a",
   "metadata": {},
   "outputs": [
    {
     "data": {
      "text/plain": [
       "(2453, 2)"
      ]
     },
     "execution_count": 12,
     "metadata": {},
     "output_type": "execute_result"
    }
   ],
   "source": [
    "agebs.shape"
   ]
  },
  {
   "cell_type": "markdown",
   "id": "7a7f875a-d310-4ebd-978b-19c62cd7b7ed",
   "metadata": {
    "jp-MarkdownHeadingCollapsed": true
   },
   "source": [
    "## Dataset features | data_RUS"
   ]
  },
  {
   "cell_type": "code",
   "execution_count": 13,
   "id": "06cb5199-95c9-4df4-96e4-5b9af2aaca04",
   "metadata": {},
   "outputs": [],
   "source": [
    "data_RUS = pd.read_csv('../clean_datasets/data_RUS.csv')"
   ]
  },
  {
   "cell_type": "code",
   "execution_count": 14,
   "id": "30702029-df35-483f-866d-d32dd4fba0d1",
   "metadata": {},
   "outputs": [],
   "source": [
    "data_RUS.drop(columns='Unnamed: 0', inplace=True)"
   ]
  },
  {
   "cell_type": "code",
   "execution_count": 15,
   "id": "53ef7e8b-0eda-411d-8328-4fdddfe1c364",
   "metadata": {},
   "outputs": [
    {
     "data": {
      "text/plain": [
       "Index(['CVEGEO', 'Metro', 'Suburbano', 'Metrobus', 'Tren_Liger', 'Trolebus',\n",
       "       'RTP', 'Trole_elev', 'T_Concesio', 'Ecobici',\n",
       "       ...\n",
       "       'Salones y clínicas de belleza y peluquerías',\n",
       "       'Servicios de preparación de otros alimentos para consumo inmediato',\n",
       "       'salud_count', 'deportivos_count', 'infraestructura_count',\n",
       "       'comercios_count', 'educacion_count', 'pp_count', 'guarderias',\n",
       "       'vio_index'],\n",
       "      dtype='object', length=215)"
      ]
     },
     "execution_count": 15,
     "metadata": {},
     "output_type": "execute_result"
    }
   ],
   "source": [
    "data_RUS.columns"
   ]
  },
  {
   "cell_type": "code",
   "execution_count": 16,
   "id": "52d27065-71fe-4c6c-9d8c-5d847d37ea25",
   "metadata": {},
   "outputs": [
    {
     "name": "stdout",
     "output_type": "stream",
     "text": [
      "<class 'pandas.core.frame.DataFrame'>\n",
      "RangeIndex: 2453 entries, 0 to 2452\n",
      "Columns: 215 entries, CVEGEO to vio_index\n",
      "dtypes: float64(7), int64(207), object(1)\n",
      "memory usage: 4.0+ MB\n"
     ]
    }
   ],
   "source": [
    "data_RUS.info()"
   ]
  },
  {
   "cell_type": "code",
   "execution_count": 17,
   "id": "62695ff4-8b5f-45a1-9b17-4f83d2a21bef",
   "metadata": {},
   "outputs": [],
   "source": [
    "data_ruscdmx = pd.merge(agebs, data_RUS,how= 'left', on=['CVEGEO'])"
   ]
  },
  {
   "cell_type": "code",
   "execution_count": 18,
   "id": "d89b27eb-1076-404e-8eb1-52692bdcf104",
   "metadata": {},
   "outputs": [
    {
     "data": {
      "text/plain": [
       "(2453, 216)"
      ]
     },
     "execution_count": 18,
     "metadata": {},
     "output_type": "execute_result"
    }
   ],
   "source": [
    "data_ruscdmx.shape"
   ]
  },
  {
   "cell_type": "markdown",
   "id": "4e02ab5f-8c5d-4f0a-9d03-eafc30dffc1c",
   "metadata": {},
   "source": [
    "# **previous** | to delete "
   ]
  },
  {
   "cell_type": "code",
   "execution_count": 19,
   "id": "967ca2ff-8f2b-4ed1-8b5e-ce013b403575",
   "metadata": {
    "jupyter": {
     "source_hidden": true
    }
   },
   "outputs": [],
   "source": [
    "#list of features\n",
    "transport_features = ['Metro', 'Suburbano', 'Metrobus', 'Tren_Liger', 'Trolebus', 'RTP','Trole_elev', 'T_Concesio', 'Ecobici', 'Cablebus']\n",
    "\n",
    "population_features = [ 'POBTOT_y', 'POBFEM', 'POBMAS', \n",
    "                       'P_0A2', 'P_3A5', 'P_6A11', 'P_12A14', 'P_15A17', 'P_18A24', 'P_25A59', 'P_60YMAS', \n",
    "                       'P_0A2_F', 'P_3A5_F', 'P_6A11_F', 'P_12A14_F', 'P_15A17_F', 'P_18A24_F', 'P_25A59_F', 'P_60YMAS_F', \n",
    "                       'P_0A2_M', 'P_3A5_M', 'P_6A11_M', 'P_12A14_M', 'P_15A17_M', 'P_18A24_M', 'P_25A59_M', 'P_60YMAS_M', \n",
    "                       'P3YM_HLI', 'P3YM_HLI_F', 'P3YM_HLI_M', 'P3HLINHE', 'P3HLINHE_F', 'P3HLINHE_M', \n",
    "                       'P3HLI_HE', 'P3HLI_HE_F', 'P3HLI_HE_M', 'P5_HLI', 'P5_HLI_NHE', 'P5_HLI_HE', \n",
    "                       'PHOG_IND', 'POB_AFRO', 'POB_AFRO_F', 'POB_AFRO_M', \n",
    "                       'PCON_DISC', \n",
    "                       'GRAPROES', 'GRAPROES_F', 'GRAPROES_M', \n",
    "                       'PEA', 'PEA_F', 'PEA_M', \n",
    "                       'HOGJEF_F', 'HOGJEF_M', \n",
    "                       'VPH_AUTOM', 'VPH_MOTO', 'VPH_BICI', \n",
    "                       'POBREZA', 'POBREZAEX']\n",
    "\n",
    "urbaninfra_features = ['VIVTOT', \n",
    "                       'RECUCALL_C_1', 'RECUCALL_C_2', 'RECUCALL_C_3', 'RECUCALL_C_7', 'RECUCALL_C_8', 'RECUCALL_C_9', \n",
    "                       'RAMPAS_C_1', 'RAMPAS_C_2', 'RAMPAS_C_3', 'RAMPAS_C_7', 'RAMPAS_C_8', 'RAMPAS_C_9', \n",
    "                       'PASOPEAT_C_1', 'PASOPEAT_C_2', 'PASOPEAT_C_3', 'PASOPEAT_C_7', 'PASOPEAT_C_8', 'PASOPEAT_C_9', \n",
    "                       'BANQUETA_C_1', 'BANQUETA_C_2', 'BANQUETA_C_3', 'BANQUETA_C_7', 'BANQUETA_C_8', 'BANQUETA_C_9', \n",
    "                       'GUARNICI_C_1', 'GUARNICI_C_2', 'GUARNICI_C_3', 'GUARNICI_C_7', 'GUARNICI_C_8', 'GUARNICI_C_9', \n",
    "                       'CICLOVIA_C_1', 'CICLOVIA_C_2', 'CICLOVIA_C_3', 'CICLOVIA_C_7', 'CICLOVIA_C_8', 'CICLOVIA_C_9', \n",
    "                       'CICLOCAR_C_1', 'CICLOCAR_C_2', 'CICLOCAR_C_3', 'CICLOCAR_C_7', 'CICLOCAR_C_8', 'CICLOCAR_C_9', \n",
    "                       'ALUMPUB_C_1', 'ALUMPUB_C_2', 'ALUMPUB_C_3', 'ALUMPUB_C_7', 'ALUMPUB_C_8', 'ALUMPUB_C_9', \n",
    "                       'LETRERO_C_1', 'LETRERO_C_2', 'LETRERO_C_3', 'LETRERO_C_7', 'LETRERO_C_8', 'LETRERO_C_9', \n",
    "                       'ARBOLES_C_1', 'ARBOLES_C_2', 'ARBOLES_C_3', 'ARBOLES_C_7', 'ARBOLES_C_8', 'ARBOLES_C_9', \n",
    "                       'SEMAPEAT_C_1', 'SEMAPEAT_C_2', 'SEMAPEAT_C_3', 'SEMAPEAT_C_7', 'SEMAPEAT_C_8', 'SEMAPEAT_C_9', \n",
    "                       'SEMAAUDI_C_1', 'SEMAAUDI_C_2', 'SEMAAUDI_C_3', 'SEMAAUDI_C_7', 'SEMAAUDI_C_8', 'SEMAAUDI_C_9', \n",
    "                       'ESTABICI_C_1', 'ESTABICI_C_2', 'ESTABICI_C_3', 'ESTABICI_C_7', 'ESTABICI_C_8', 'ESTABICI_C_9', \n",
    "                       'DRENAJEP_C_1', 'DRENAJEP_C_2', 'DRENAJEP_C_3', 'DRENAJEP_C_7', 'DRENAJEP_C_8', 'DRENAJEP_C_9', \n",
    "                       'ACESOPER_C_1', 'ACESOPER_C_2', 'ACESOPER_C_3', 'ACESOPER_C_7', 'ACESOPER_C_8', 'ACESOPER_C_9', \n",
    "                       'ACESOAUT_C_1', 'ACESOAUT_C_2', 'ACESOAUT_C_3', 'ACESOAUT_C_7', 'ACESOAUT_C_8', 'ACESOAUT_C_9', \n",
    "                       'PUESSEMI_C_1', 'PUESSEMI_C_2', 'PUESSEMI_C_3', 'PUESSEMI_C_7', 'PUESSEMI_C_8', 'PUESSEMI_C_9', \n",
    "                       'PUESAMBU_C_1', 'PUESAMBU_C_2', 'PUESAMBU_C_3', 'PUESAMBU_C_7', 'PUESAMBU_C_8', 'PUESAMBU_C_9']\n",
    "\n",
    "#we are using only 30 \n",
    "commerce_features = ['Banca múltiple', 'Cafeterías, fuentes de sodas, neverías, refresquerías y similares', \n",
    "             'Comercio al por menor de artículos de papelería', 'Comercio al por menor de artículos para la limpieza', \n",
    "             'Comercio al por menor de carne de aves', 'Comercio al por menor de carnes rojas', \n",
    "             'Comercio al por menor de dulces y materias primas para repostería', 'Comercio al por menor de frutas y verduras frescas', \n",
    "             'Comercio al por menor de leche, otros productos lácteos y embutidos', 'Comercio al por menor de otros alimentos', \n",
    "             'Comercio al por menor de partes y refacciones nuevas para automóviles, camionetas y camiones', \n",
    "             'Comercio al por menor de plantas y flores naturales', 'Comercio al por menor de regalos',\n",
    "             'Comercio al por menor de ropa, excepto de bebé y lencería', 'Comercio al por menor de teléfonos y otros aparatos de comunicación', \n",
    "             'Comercio al por menor en ferreterías y tlapalerías', 'Comercio al por menor en tiendas de abarrotes, ultramarinos y misceláneas', \n",
    "             'Consultorios dentales del sector privado', 'Elaboración de tortillas de maíz y molienda de nixtamal', 'Farmacias sin minisúper', \n",
    "             'Lavanderías y tintorerías', 'Panificación tradicional', 'Reparación mecánica en general de automóviles y camiones', \n",
    "             'Restaurantes con servicio de preparación de alimentos a la carta o de comida corrida', \n",
    "             'Restaurantes con servicio de preparación de antojitos', \n",
    "             'Restaurantes con servicio de preparación de pizzas, hamburguesas, hot dogs y pollos rostizados para llevar', \n",
    "             'Restaurantes con servicio de preparación de tacos y tortas', 'Restaurantes que preparan otro tipo de alimentos para llevar', \n",
    "             'Salones y clínicas de belleza y peluquerías', 'Servicios de preparación de otros alimentos para consumo inmediato']"
   ]
  },
  {
   "cell_type": "code",
   "execution_count": 20,
   "id": "a1d4c806-37a9-4ce0-863f-f406959dbb12",
   "metadata": {},
   "outputs": [],
   "source": [
    "# rename commerce features\n",
    "data_RUS.rename(columns={\n",
    "    'Banca múltiple':'com_1',\n",
    "    'Cafeterías, fuentes de sodas, neverías, refresquerías y similares':'com_2',\n",
    "    'Comercio al por menor de artículos de papelería':'com_3',\n",
    "    'Comercio al por menor de artículos para la limpieza':'com_4',       \n",
    "    'Comercio al por menor de carne de aves':'com_5',\n",
    "    'Comercio al por menor de carnes rojas':'com_6',       \n",
    "    'Comercio al por menor de dulces y materias primas para repostería':'com_7',\n",
    "    'Comercio al por menor de frutas y verduras frescas':'com_8',       \n",
    "    'Comercio al por menor de leche, otros productos lácteos y embutidos':'com_9',\n",
    "    'Comercio al por menor de otros alimentos':'com_10',       \n",
    "    'Comercio al por menor de partes y refacciones nuevas para automóviles, camionetas y camiones':'com_11',       \n",
    "    'Comercio al por menor de plantas y flores naturales':'com_12',\n",
    "    'Comercio al por menor de regalos':'com_13',       \n",
    "    'Comercio al por menor de ropa, excepto de bebé y lencería':'com_14',\n",
    "    'Comercio al por menor de teléfonos y otros aparatos de comunicación':'com_15',       \n",
    "    'Comercio al por menor en ferreterías y tlapalerías':'com_16',\n",
    "    'Comercio al por menor en tiendas de abarrotes, ultramarinos y misceláneas':'com_17',       \n",
    "    'Consultorios dentales del sector privado':'com_18',\n",
    "    'Elaboración de tortillas de maíz y molienda de nixtamal':'com_19',\n",
    "    'Farmacias sin minisúper':'com_30',        \n",
    "    'Lavanderías y tintorerías':'com_20',\n",
    "    'Panificación tradicional':'com_21',\n",
    "    'Reparación mecánica en general de automóviles y camiones':'com_22',       \n",
    "    'Restaurantes con servicio de preparación de alimentos a la carta o de comida corrida':'com_23',       \n",
    "    'Restaurantes con servicio de preparación de antojitos':'com_24',       \n",
    "    'Restaurantes con servicio de preparación de pizzas, hamburguesas, hot dogs y pollos rostizados para llevar':'com_25',       \n",
    "    'Restaurantes con servicio de preparación de tacos y tortas':'com_26',\n",
    "    'Restaurantes que preparan otro tipo de alimentos para llevar':'com_27',       \n",
    "    'Salones y clínicas de belleza y peluquerías':'com_28',\n",
    "    'Servicios de preparación de otros alimentos para consumo inmediato':'com_29'}, inplace=True)"
   ]
  },
  {
   "cell_type": "markdown",
   "id": "b4021a98-8225-4b0b-80df-b769bef090c6",
   "metadata": {},
   "source": [
    "# Explore data"
   ]
  },
  {
   "cell_type": "code",
   "execution_count": 21,
   "id": "8bd86913-5022-40aa-9ae2-c712f3689187",
   "metadata": {},
   "outputs": [],
   "source": [
    "# We can drop 'CVEGEO' and 'geomatry' \n",
    "#                or\n",
    "# use 'CVEGEO' as index\n",
    "\n",
    "###### using 'data_RUS' insteand of 'data_ruscdmx'"
   ]
  },
  {
   "cell_type": "code",
   "execution_count": 22,
   "id": "ac028d7c-95a5-4637-8a6f-be3353b86097",
   "metadata": {},
   "outputs": [],
   "source": [
    "data_RUS.set_index('CVEGEO', inplace=True)"
   ]
  },
  {
   "cell_type": "code",
   "execution_count": 23,
   "id": "9ac0d3f9-164c-4ffe-819c-924d71916e3d",
   "metadata": {},
   "outputs": [],
   "source": [
    "data = data_RUS"
   ]
  },
  {
   "cell_type": "code",
   "execution_count": 24,
   "id": "dba91d61-1cf2-4568-9b5d-e358be6a752e",
   "metadata": {
    "scrolled": true
   },
   "outputs": [
    {
     "name": "stdout",
     "output_type": "stream",
     "text": [
      "<class 'pandas.core.frame.DataFrame'>\n",
      "Index: 2453 entries, 090110471 to 0900700011034\n",
      "Columns: 214 entries, Metro to vio_index\n",
      "dtypes: float64(7), int64(207)\n",
      "memory usage: 4.0+ MB\n"
     ]
    }
   ],
   "source": [
    "data.info()"
   ]
  },
  {
   "cell_type": "code",
   "execution_count": 25,
   "id": "00ef81e7-845b-4c6a-be7e-6fc1ac17cd17",
   "metadata": {},
   "outputs": [
    {
     "data": {
      "text/plain": [
       "Metro                int64\n",
       "Suburbano            int64\n",
       "Metrobus             int64\n",
       "Tren_Liger           int64\n",
       "Trolebus             int64\n",
       "                    ...   \n",
       "comercios_count    float64\n",
       "educacion_count    float64\n",
       "pp_count           float64\n",
       "guarderias           int64\n",
       "vio_index          float64\n",
       "Length: 214, dtype: object"
      ]
     },
     "execution_count": 25,
     "metadata": {},
     "output_type": "execute_result"
    }
   ],
   "source": [
    "data.dtypes"
   ]
  },
  {
   "cell_type": "code",
   "execution_count": 26,
   "id": "64bb83bf-495b-4a0c-ac08-5d79ca31e863",
   "metadata": {
    "scrolled": true
   },
   "outputs": [
    {
     "data": {
      "text/html": [
       "<div>\n",
       "<style scoped>\n",
       "    .dataframe tbody tr th:only-of-type {\n",
       "        vertical-align: middle;\n",
       "    }\n",
       "\n",
       "    .dataframe tbody tr th {\n",
       "        vertical-align: top;\n",
       "    }\n",
       "\n",
       "    .dataframe thead th {\n",
       "        text-align: right;\n",
       "    }\n",
       "</style>\n",
       "<table border=\"1\" class=\"dataframe\">\n",
       "  <thead>\n",
       "    <tr style=\"text-align: right;\">\n",
       "      <th></th>\n",
       "      <th>Metro</th>\n",
       "      <th>Suburbano</th>\n",
       "      <th>Metrobus</th>\n",
       "      <th>Tren_Liger</th>\n",
       "      <th>Trolebus</th>\n",
       "      <th>RTP</th>\n",
       "      <th>Trole_elev</th>\n",
       "      <th>T_Concesio</th>\n",
       "      <th>Ecobici</th>\n",
       "      <th>Cablebus</th>\n",
       "      <th>...</th>\n",
       "      <th>com_28</th>\n",
       "      <th>com_29</th>\n",
       "      <th>salud_count</th>\n",
       "      <th>deportivos_count</th>\n",
       "      <th>infraestructura_count</th>\n",
       "      <th>comercios_count</th>\n",
       "      <th>educacion_count</th>\n",
       "      <th>pp_count</th>\n",
       "      <th>guarderias</th>\n",
       "      <th>vio_index</th>\n",
       "    </tr>\n",
       "  </thead>\n",
       "  <tbody>\n",
       "    <tr>\n",
       "      <th>count</th>\n",
       "      <td>2453.000000</td>\n",
       "      <td>2453.000000</td>\n",
       "      <td>2453.000000</td>\n",
       "      <td>2453.000000</td>\n",
       "      <td>2453.000000</td>\n",
       "      <td>2453.000000</td>\n",
       "      <td>2453.000000</td>\n",
       "      <td>2453.000000</td>\n",
       "      <td>2453.000000</td>\n",
       "      <td>2453.000000</td>\n",
       "      <td>...</td>\n",
       "      <td>2453.000000</td>\n",
       "      <td>2453.000000</td>\n",
       "      <td>2453.000000</td>\n",
       "      <td>2453.000000</td>\n",
       "      <td>2453.000000</td>\n",
       "      <td>2453.000000</td>\n",
       "      <td>2453.000000</td>\n",
       "      <td>2453.000000</td>\n",
       "      <td>2453.000000</td>\n",
       "      <td>2431.000000</td>\n",
       "    </tr>\n",
       "    <tr>\n",
       "      <th>mean</th>\n",
       "      <td>8.084794</td>\n",
       "      <td>0.080717</td>\n",
       "      <td>2.799022</td>\n",
       "      <td>0.665715</td>\n",
       "      <td>1.767631</td>\n",
       "      <td>11.277212</td>\n",
       "      <td>0.086425</td>\n",
       "      <td>21.216062</td>\n",
       "      <td>1.042805</td>\n",
       "      <td>0.090094</td>\n",
       "      <td>...</td>\n",
       "      <td>8.312678</td>\n",
       "      <td>1.704851</td>\n",
       "      <td>0.317570</td>\n",
       "      <td>0.013045</td>\n",
       "      <td>0.468406</td>\n",
       "      <td>0.979209</td>\n",
       "      <td>3.430086</td>\n",
       "      <td>0.086017</td>\n",
       "      <td>1.039136</td>\n",
       "      <td>265.245528</td>\n",
       "    </tr>\n",
       "    <tr>\n",
       "      <th>std</th>\n",
       "      <td>11.696829</td>\n",
       "      <td>1.072042</td>\n",
       "      <td>7.034578</td>\n",
       "      <td>3.985285</td>\n",
       "      <td>5.307646</td>\n",
       "      <td>11.041880</td>\n",
       "      <td>1.025705</td>\n",
       "      <td>11.246741</td>\n",
       "      <td>4.230247</td>\n",
       "      <td>0.848924</td>\n",
       "      <td>...</td>\n",
       "      <td>7.423321</td>\n",
       "      <td>2.508087</td>\n",
       "      <td>0.702946</td>\n",
       "      <td>0.120464</td>\n",
       "      <td>0.953828</td>\n",
       "      <td>1.473798</td>\n",
       "      <td>4.119408</td>\n",
       "      <td>0.712522</td>\n",
       "      <td>1.432586</td>\n",
       "      <td>179.363155</td>\n",
       "    </tr>\n",
       "    <tr>\n",
       "      <th>min</th>\n",
       "      <td>0.000000</td>\n",
       "      <td>0.000000</td>\n",
       "      <td>0.000000</td>\n",
       "      <td>0.000000</td>\n",
       "      <td>0.000000</td>\n",
       "      <td>0.000000</td>\n",
       "      <td>0.000000</td>\n",
       "      <td>0.000000</td>\n",
       "      <td>0.000000</td>\n",
       "      <td>0.000000</td>\n",
       "      <td>...</td>\n",
       "      <td>0.000000</td>\n",
       "      <td>0.000000</td>\n",
       "      <td>0.000000</td>\n",
       "      <td>0.000000</td>\n",
       "      <td>0.000000</td>\n",
       "      <td>0.000000</td>\n",
       "      <td>0.000000</td>\n",
       "      <td>0.000000</td>\n",
       "      <td>0.000000</td>\n",
       "      <td>0.000000</td>\n",
       "    </tr>\n",
       "    <tr>\n",
       "      <th>25%</th>\n",
       "      <td>0.000000</td>\n",
       "      <td>0.000000</td>\n",
       "      <td>0.000000</td>\n",
       "      <td>0.000000</td>\n",
       "      <td>0.000000</td>\n",
       "      <td>0.000000</td>\n",
       "      <td>0.000000</td>\n",
       "      <td>14.000000</td>\n",
       "      <td>0.000000</td>\n",
       "      <td>0.000000</td>\n",
       "      <td>...</td>\n",
       "      <td>2.000000</td>\n",
       "      <td>0.000000</td>\n",
       "      <td>0.000000</td>\n",
       "      <td>0.000000</td>\n",
       "      <td>0.000000</td>\n",
       "      <td>0.000000</td>\n",
       "      <td>1.000000</td>\n",
       "      <td>0.000000</td>\n",
       "      <td>0.000000</td>\n",
       "      <td>139.561936</td>\n",
       "    </tr>\n",
       "    <tr>\n",
       "      <th>50%</th>\n",
       "      <td>0.000000</td>\n",
       "      <td>0.000000</td>\n",
       "      <td>0.000000</td>\n",
       "      <td>0.000000</td>\n",
       "      <td>0.000000</td>\n",
       "      <td>9.000000</td>\n",
       "      <td>0.000000</td>\n",
       "      <td>22.000000</td>\n",
       "      <td>0.000000</td>\n",
       "      <td>0.000000</td>\n",
       "      <td>...</td>\n",
       "      <td>7.000000</td>\n",
       "      <td>1.000000</td>\n",
       "      <td>0.000000</td>\n",
       "      <td>0.000000</td>\n",
       "      <td>0.000000</td>\n",
       "      <td>1.000000</td>\n",
       "      <td>2.000000</td>\n",
       "      <td>0.000000</td>\n",
       "      <td>1.000000</td>\n",
       "      <td>230.276745</td>\n",
       "    </tr>\n",
       "    <tr>\n",
       "      <th>75%</th>\n",
       "      <td>17.000000</td>\n",
       "      <td>0.000000</td>\n",
       "      <td>0.000000</td>\n",
       "      <td>0.000000</td>\n",
       "      <td>0.000000</td>\n",
       "      <td>19.000000</td>\n",
       "      <td>0.000000</td>\n",
       "      <td>28.000000</td>\n",
       "      <td>0.000000</td>\n",
       "      <td>0.000000</td>\n",
       "      <td>...</td>\n",
       "      <td>12.000000</td>\n",
       "      <td>2.000000</td>\n",
       "      <td>0.000000</td>\n",
       "      <td>0.000000</td>\n",
       "      <td>0.000000</td>\n",
       "      <td>1.000000</td>\n",
       "      <td>5.000000</td>\n",
       "      <td>0.000000</td>\n",
       "      <td>2.000000</td>\n",
       "      <td>354.893063</td>\n",
       "    </tr>\n",
       "    <tr>\n",
       "      <th>max</th>\n",
       "      <td>51.000000</td>\n",
       "      <td>22.000000</td>\n",
       "      <td>48.000000</td>\n",
       "      <td>44.000000</td>\n",
       "      <td>46.000000</td>\n",
       "      <td>75.000000</td>\n",
       "      <td>25.000000</td>\n",
       "      <td>85.000000</td>\n",
       "      <td>35.000000</td>\n",
       "      <td>19.000000</td>\n",
       "      <td>...</td>\n",
       "      <td>69.000000</td>\n",
       "      <td>37.000000</td>\n",
       "      <td>10.000000</td>\n",
       "      <td>2.000000</td>\n",
       "      <td>7.000000</td>\n",
       "      <td>20.000000</td>\n",
       "      <td>51.000000</td>\n",
       "      <td>12.000000</td>\n",
       "      <td>11.000000</td>\n",
       "      <td>1369.792320</td>\n",
       "    </tr>\n",
       "  </tbody>\n",
       "</table>\n",
       "<p>8 rows × 214 columns</p>\n",
       "</div>"
      ],
      "text/plain": [
       "             Metro    Suburbano     Metrobus   Tren_Liger     Trolebus  \\\n",
       "count  2453.000000  2453.000000  2453.000000  2453.000000  2453.000000   \n",
       "mean      8.084794     0.080717     2.799022     0.665715     1.767631   \n",
       "std      11.696829     1.072042     7.034578     3.985285     5.307646   \n",
       "min       0.000000     0.000000     0.000000     0.000000     0.000000   \n",
       "25%       0.000000     0.000000     0.000000     0.000000     0.000000   \n",
       "50%       0.000000     0.000000     0.000000     0.000000     0.000000   \n",
       "75%      17.000000     0.000000     0.000000     0.000000     0.000000   \n",
       "max      51.000000    22.000000    48.000000    44.000000    46.000000   \n",
       "\n",
       "               RTP   Trole_elev   T_Concesio      Ecobici     Cablebus  ...  \\\n",
       "count  2453.000000  2453.000000  2453.000000  2453.000000  2453.000000  ...   \n",
       "mean     11.277212     0.086425    21.216062     1.042805     0.090094  ...   \n",
       "std      11.041880     1.025705    11.246741     4.230247     0.848924  ...   \n",
       "min       0.000000     0.000000     0.000000     0.000000     0.000000  ...   \n",
       "25%       0.000000     0.000000    14.000000     0.000000     0.000000  ...   \n",
       "50%       9.000000     0.000000    22.000000     0.000000     0.000000  ...   \n",
       "75%      19.000000     0.000000    28.000000     0.000000     0.000000  ...   \n",
       "max      75.000000    25.000000    85.000000    35.000000    19.000000  ...   \n",
       "\n",
       "            com_28       com_29  salud_count  deportivos_count  \\\n",
       "count  2453.000000  2453.000000  2453.000000       2453.000000   \n",
       "mean      8.312678     1.704851     0.317570          0.013045   \n",
       "std       7.423321     2.508087     0.702946          0.120464   \n",
       "min       0.000000     0.000000     0.000000          0.000000   \n",
       "25%       2.000000     0.000000     0.000000          0.000000   \n",
       "50%       7.000000     1.000000     0.000000          0.000000   \n",
       "75%      12.000000     2.000000     0.000000          0.000000   \n",
       "max      69.000000    37.000000    10.000000          2.000000   \n",
       "\n",
       "       infraestructura_count  comercios_count  educacion_count     pp_count  \\\n",
       "count            2453.000000      2453.000000      2453.000000  2453.000000   \n",
       "mean                0.468406         0.979209         3.430086     0.086017   \n",
       "std                 0.953828         1.473798         4.119408     0.712522   \n",
       "min                 0.000000         0.000000         0.000000     0.000000   \n",
       "25%                 0.000000         0.000000         1.000000     0.000000   \n",
       "50%                 0.000000         1.000000         2.000000     0.000000   \n",
       "75%                 0.000000         1.000000         5.000000     0.000000   \n",
       "max                 7.000000        20.000000        51.000000    12.000000   \n",
       "\n",
       "        guarderias    vio_index  \n",
       "count  2453.000000  2431.000000  \n",
       "mean      1.039136   265.245528  \n",
       "std       1.432586   179.363155  \n",
       "min       0.000000     0.000000  \n",
       "25%       0.000000   139.561936  \n",
       "50%       1.000000   230.276745  \n",
       "75%       2.000000   354.893063  \n",
       "max      11.000000  1369.792320  \n",
       "\n",
       "[8 rows x 214 columns]"
      ]
     },
     "execution_count": 26,
     "metadata": {},
     "output_type": "execute_result"
    }
   ],
   "source": [
    "data.describe()"
   ]
  },
  {
   "cell_type": "code",
   "execution_count": 27,
   "id": "d7bbb9e3-8d31-4741-965e-77244889ad4a",
   "metadata": {
    "scrolled": true
   },
   "outputs": [
    {
     "data": {
      "text/plain": [
       "'0900700013844'"
      ]
     },
     "execution_count": 27,
     "metadata": {},
     "output_type": "execute_result"
    }
   ],
   "source": [
    "data['Metro'].idxmax()"
   ]
  },
  {
   "cell_type": "markdown",
   "id": "32c35df6-116d-4245-80d5-4e7fe0c7eac0",
   "metadata": {},
   "source": [
    "# Feature scaling and selection | PREPROCESING"
   ]
  },
  {
   "cell_type": "markdown",
   "id": "6a092461-fa94-442e-be12-20f672394407",
   "metadata": {
    "jp-MarkdownHeadingCollapsed": true
   },
   "source": [
    "## duplicates"
   ]
  },
  {
   "cell_type": "code",
   "execution_count": 28,
   "id": "63711041-e444-4a47-bf4d-635d1fc59bc8",
   "metadata": {},
   "outputs": [
    {
     "data": {
      "text/plain": [
       "2453"
      ]
     },
     "execution_count": 28,
     "metadata": {},
     "output_type": "execute_result"
    }
   ],
   "source": [
    "#duplicates\n",
    "len(data)"
   ]
  },
  {
   "cell_type": "code",
   "execution_count": 29,
   "id": "7506eea1-f33d-4818-b0ab-8df61fa079a2",
   "metadata": {},
   "outputs": [
    {
     "data": {
      "text/plain": [
       "np.int64(10)"
      ]
     },
     "execution_count": 29,
     "metadata": {},
     "output_type": "execute_result"
    }
   ],
   "source": [
    "data.duplicated().sum()"
   ]
  },
  {
   "cell_type": "markdown",
   "id": "47abd92f-3ec2-4f6a-ab7c-0c8e1fd63f51",
   "metadata": {
    "jp-MarkdownHeadingCollapsed": true
   },
   "source": [
    "## missing data"
   ]
  },
  {
   "cell_type": "code",
   "execution_count": 30,
   "id": "b9821629-b000-4d77-ad00-831b243ac31a",
   "metadata": {},
   "outputs": [
    {
     "data": {
      "text/plain": [
       "vio_index           0.008969\n",
       "Metro               0.000000\n",
       "Metrobus            0.000000\n",
       "Tren_Liger          0.000000\n",
       "Trolebus            0.000000\n",
       "                      ...   \n",
       "deportivos_count    0.000000\n",
       "comercios_count     0.000000\n",
       "educacion_count     0.000000\n",
       "pp_count            0.000000\n",
       "guarderias          0.000000\n",
       "Length: 214, dtype: float64"
      ]
     },
     "execution_count": 30,
     "metadata": {},
     "output_type": "execute_result"
    }
   ],
   "source": [
    "data.isnull().sum().sort_values(ascending = False)/len(data)"
   ]
  },
  {
   "cell_type": "code",
   "execution_count": 31,
   "id": "91a49803-9238-4c94-857d-835d43ea3026",
   "metadata": {},
   "outputs": [
    {
     "data": {
      "text/plain": [
       "Index(['VIVTOT', 'RECUCALL_C_1', 'RECUCALL_C_2', 'RECUCALL_C_3',\n",
       "       'RECUCALL_C_7', 'RECUCALL_C_8', 'RECUCALL_C_9', 'RAMPAS_C_1',\n",
       "       'RAMPAS_C_2', 'RAMPAS_C_3'],\n",
       "      dtype='object')"
      ]
     },
     "execution_count": 31,
     "metadata": {},
     "output_type": "execute_result"
    }
   ],
   "source": [
    "data.columns[10:20]"
   ]
  },
  {
   "cell_type": "markdown",
   "id": "71744129-089a-4f6d-89dd-5bcf86d6c834",
   "metadata": {},
   "source": [
    "## Outliers"
   ]
  },
  {
   "cell_type": "markdown",
   "id": "1bea6aa2-7d94-4344-8c3d-860da96c9fc1",
   "metadata": {},
   "source": [
    "¿Qué podría ser un indicador de un outlier en este dataset?"
   ]
  },
  {
   "cell_type": "markdown",
   "id": "57ccd320-78ea-4053-add5-960968e060c9",
   "metadata": {},
   "source": [
    "## Feature scaling"
   ]
  },
  {
   "cell_type": "code",
   "execution_count": 32,
   "id": "59fd7b70-c174-43da-90db-46d8d1c4c940",
   "metadata": {
    "scrolled": true
   },
   "outputs": [
    {
     "data": {
      "image/png": "[encoded data removed]",
      "text/plain": [
       "<Figure size 640x480 with 1 Axes>"
      ]
     },
     "metadata": {},
     "output_type": "display_data"
    }
   ],
   "source": [
    "sns.histplot(data[transport_features], bins = 200, kde= True);"
   ]
  },
  {
   "cell_type": "code",
   "execution_count": 33,
   "id": "d6c56e68-06c6-4f15-88ef-ca54e209ad58",
   "metadata": {
    "scrolled": true
   },
   "outputs": [
    {
     "data": {
      "image/png": "[encoded data removed]",
      "text/plain": [
       "<Figure size 640x480 with 1 Axes>"
      ]
     },
     "metadata": {},
     "output_type": "display_data"
    }
   ],
   "source": [
    "sns.boxplot(data=data, x='POBMAS');"
   ]
  },
  {
   "cell_type": "markdown",
   "id": "4a8f8468-6a77-4a9d-ae16-a4d81736c195",
   "metadata": {},
   "source": [
    ":rotating_light: borrar despu[es de actualizar el dataset"
   ]
  },
  {
   "cell_type": "code",
   "execution_count": 34,
   "id": "d5bad1f0-a77f-4b78-a96c-0b52d0902b1b",
   "metadata": {},
   "outputs": [],
   "source": [
    "## eliminar una vez que se recargue el dataset\n",
    "#data.drop(columns='POBTOT_x', inplace=True)"
   ]
  },
  {
   "cell_type": "code",
   "execution_count": 35,
   "id": "9806fb0f-3e2d-4fb2-a4d3-b94e981be99d",
   "metadata": {},
   "outputs": [
    {
     "data": {
      "text/plain": [
       "(2453, 214)"
      ]
     },
     "execution_count": 35,
     "metadata": {},
     "output_type": "execute_result"
    }
   ],
   "source": [
    "data.shape"
   ]
  },
  {
   "cell_type": "markdown",
   "id": "a9bf5b0a-99e6-4198-9788-d214a055e5e6",
   "metadata": {},
   "source": [
    "['CVEGEO', 'geometry', 'Metro', 'Suburbano', 'Metrobus', 'Tren_Liger',\n",
    "       'Trolebus', 'RTP', 'Trole_elev', 'T_Concesio', 'Ecobici', 'Cablebus',\n",
    "       'VIVTOT', 'RECUCALL_C_1', 'RECUCALL_C_2', 'RECUCALL_C_3',\n",
    "       'RECUCALL_C_7', 'RECUCALL_C_8', 'RECUCALL_C_9', 'RAMPAS_C_1',\n",
    "       'RAMPAS_C_2', 'RAMPAS_C_3', 'RAMPAS_C_7', 'RAMPAS_C_8', 'RAMPAS_C_9',\n",
    "       'PASOPEAT_C_1', 'PASOPEAT_C_2', 'PASOPEAT_C_3', 'PASOPEAT_C_7',\n",
    "       'PASOPEAT_C_8', 'PASOPEAT_C_9', 'BANQUETA_C_1', 'BANQUETA_C_2',\n",
    "       'BANQUETA_C_3', 'BANQUETA_C_7', 'BANQUETA_C_8', 'BANQUETA_C_9',\n",
    "       'GUARNICI_C_1', 'GUARNICI_C_2', 'GUARNICI_C_3', 'GUARNICI_C_7',\n",
    "       'GUARNICI_C_8', 'GUARNICI_C_9', 'CICLOVIA_C_1', 'CICLOVIA_C_2',\n",
    "       'CICLOVIA_C_3', 'CICLOVIA_C_7', 'CICLOVIA_C_8', 'CICLOVIA_C_9',\n",
    "       'CICLOCAR_C_1', 'CICLOCAR_C_2', 'CICLOCAR_C_3', 'CICLOCAR_C_7',\n",
    "       'CICLOCAR_C_8', 'CICLOCAR_C_9', 'ALUMPUB_C_1', 'ALUMPUB_C_2',\n",
    "       'ALUMPUB_C_3', 'ALUMPUB_C_7', 'ALUMPUB_C_8', 'ALUMPUB_C_9',\n",
    "       'LETRERO_C_1', 'LETRERO_C_2', 'LETRERO_C_3', 'LETRERO_C_7',\n",
    "       'LETRERO_C_8', 'LETRERO_C_9', 'ARBOLES_C_1', 'ARBOLES_C_2',\n",
    "       'ARBOLES_C_3', 'ARBOLES_C_7', 'ARBOLES_C_8', 'ARBOLES_C_9',\n",
    "       'SEMAPEAT_C_1', 'SEMAPEAT_C_2', 'SEMAPEAT_C_3', 'SEMAPEAT_C_7',\n",
    "       'SEMAPEAT_C_8', 'SEMAPEAT_C_9', 'SEMAAUDI_C_1', 'SEMAAUDI_C_2',\n",
    "       'SEMAAUDI_C_3', 'SEMAAUDI_C_7', 'SEMAAUDI_C_8', 'SEMAAUDI_C_9',\n",
    "       'ESTABICI_C_1', 'ESTABICI_C_2', 'ESTABICI_C_3', 'ESTABICI_C_7',\n",
    "       'ESTABICI_C_8', 'ESTABICI_C_9', 'DRENAJEP_C_1', 'DRENAJEP_C_2',\n",
    "       'DRENAJEP_C_3', 'DRENAJEP_C_7', 'DRENAJEP_C_8', 'DRENAJEP_C_9',\n",
    "       'ACESOPER_C_1', 'ACESOPER_C_2', 'ACESOPER_C_3', 'ACESOPER_C_7', 'ACESOPER_C_8', 'ACESOPER_C_9',\n",
    "       'ACESOAUT_C_1', 'ACESOAUT_C_2', 'ACESOAUT_C_3', 'ACESOAUT_C_7',\n",
    "       'ACESOAUT_C_8', 'ACESOAUT_C_9', 'PUESSEMI_C_1', 'PUESSEMI_C_2',\n",
    "       'PUESSEMI_C_3', 'PUESSEMI_C_7', 'PUESSEMI_C_8', 'PUESSEMI_C_9',\n",
    "       'PUESAMBU_C_1', 'PUESAMBU_C_2', 'PUESAMBU_C_3', 'PUESAMBU_C_7',\n",
    "       'PUESAMBU_C_8', 'PUESAMBU_C_9', 'POBTOT_y', 'POBFEM', 'POBMAS', 'P_0A2',\n",
    "       'P_3A5', 'P_6A11', 'P_12A14', 'P_15A17', 'P_18A24', 'P_25A59',\n",
    "       'P_60YMAS', 'P_0A2_F', 'P_3A5_F', 'P_6A11_F', 'P_12A14_F', 'P_15A17_F',\n",
    "       'P_18A24_F', 'P_25A59_F', 'P_60YMAS_F', 'P_0A2_M', 'P_3A5_M',\n",
    "       'P_6A11_M', 'P_12A14_M', 'P_15A17_M', 'P_18A24_M', 'P_25A59_M',\n",
    "       'P_60YMAS_M', 'P3YM_HLI', 'P3YM_HLI_F', 'P3YM_HLI_M', 'P3HLINHE',\n",
    "       'P3HLINHE_F', 'P3HLINHE_M', 'P3HLI_HE', 'P3HLI_HE_F', 'P3HLI_HE_M',\n",
    "       'P5_HLI', 'P5_HLI_NHE', 'P5_HLI_HE', 'PHOG_IND', 'POB_AFRO',\n",
    "       'POB_AFRO_F', 'POB_AFRO_M', 'PCON_DISC', 'GRAPROES', 'GRAPROES_F',\n",
    "       'GRAPROES_M', 'PEA', 'PEA_F', 'PEA_M', 'HOGJEF_F', 'HOGJEF_M',\n",
    "       'VPH_AUTOM', 'VPH_MOTO', 'VPH_BICI', 'POBREZA', 'POBREZAEX',\n",
    "       'Banca múltiple', 'Cafeterías, fuentes de sodas, neverías, refresquerías y similares',\n",
    "       'Comercio al por menor de artículos de papelería',\n",
    "       'Comercio al por menor de artículos para la limpieza',\n",
    "       'Comercio al por menor de carne de aves',\n",
    "       'Comercio al por menor de carnes rojas',\n",
    "       'Comercio al por menor de dulces y materias primas para repostería',\n",
    "       'Comercio al por menor de frutas y verduras frescas',\n",
    "       'Comercio al por menor de leche, otros productos lácteos y embutidos',\n",
    "       'Comercio al por menor de otros alimentos',\n",
    "       'Comercio al por menor de partes y refacciones nuevas para automóviles, camionetas y camiones',\n",
    "       'Comercio al por menor de plantas y flores naturales',\n",
    "       'Comercio al por menor de regalos',\n",
    "       'Comercio al por menor de ropa, excepto de bebé y lencería',\n",
    "       'Comercio al por menor de teléfonos y otros aparatos de comunicación',\n",
    "       'Comercio al por menor en ferreterías y tlapalerías',\n",
    "       'Comercio al por menor en tiendas de abarrotes, ultramarinos y misceláneas',\n",
    "       'Consultorios dentales del sector privado',\n",
    "       'Elaboración de tortillas de maíz y molienda de nixtamal',\n",
    "       'Farmacias sin minisúper', 'Lavanderías y tintorerías',\n",
    "       'Panificación tradicional',\n",
    "       'Reparación mecánica en general de automóviles y camiones',\n",
    "       'Restaurantes con servicio de preparación de alimentos a la carta o de comida corrida',\n",
    "       'Restaurantes con servicio de preparación de antojitos',\n",
    "       'Restaurantes con servicio de preparación de pizzas, hamburguesas, hot dogs y pollos rostizados para llevar',\n",
    "       'Restaurantes con servicio de preparación de tacos y tortas',\n",
    "       'Restaurantes que preparan otro tipo de alimentos para llevar',\n",
    "       'Salones y clínicas de belleza y peluquerías',\n",
    "       'Servicios de preparación de otros alimentos para consumo inmediato']"
   ]
  },
  {
   "cell_type": "code",
   "execution_count": 36,
   "id": "4728a803-968f-4cad-bbfd-591a8d07bd5f",
   "metadata": {},
   "outputs": [],
   "source": [
    "#list of numerical (scalable) features\n",
    "## verificar al agregar mas features\n",
    "features = data.columns[2:]"
   ]
  },
  {
   "cell_type": "code",
   "execution_count": 37,
   "id": "5f3b8aa0-1b92-4ff0-96e9-c840bfbd4ba3",
   "metadata": {},
   "outputs": [],
   "source": [
    "data_scaled = data"
   ]
  },
  {
   "cell_type": "code",
   "execution_count": 38,
   "id": "30bb9b24-7d25-4ff4-82e1-e54b117caf7a",
   "metadata": {},
   "outputs": [],
   "source": [
    "### outliers could be important in our data"
   ]
  },
  {
   "cell_type": "code",
   "execution_count": 39,
   "id": "e444c9dc-0ae7-4c21-aebb-effd0e071637",
   "metadata": {
    "scrolled": true
   },
   "outputs": [
    {
     "data": {
      "text/html": [
       "<div>\n",
       "<style scoped>\n",
       "    .dataframe tbody tr th:only-of-type {\n",
       "        vertical-align: middle;\n",
       "    }\n",
       "\n",
       "    .dataframe tbody tr th {\n",
       "        vertical-align: top;\n",
       "    }\n",
       "\n",
       "    .dataframe thead th {\n",
       "        text-align: right;\n",
       "    }\n",
       "</style>\n",
       "<table border=\"1\" class=\"dataframe\">\n",
       "  <thead>\n",
       "    <tr style=\"text-align: right;\">\n",
       "      <th></th>\n",
       "      <th>Metro</th>\n",
       "      <th>Suburbano</th>\n",
       "      <th>Metrobus</th>\n",
       "      <th>Tren_Liger</th>\n",
       "      <th>Trolebus</th>\n",
       "      <th>RTP</th>\n",
       "      <th>Trole_elev</th>\n",
       "      <th>T_Concesio</th>\n",
       "      <th>Ecobici</th>\n",
       "      <th>Cablebus</th>\n",
       "      <th>...</th>\n",
       "      <th>com_28</th>\n",
       "      <th>com_29</th>\n",
       "      <th>salud_count</th>\n",
       "      <th>deportivos_count</th>\n",
       "      <th>infraestructura_count</th>\n",
       "      <th>comercios_count</th>\n",
       "      <th>educacion_count</th>\n",
       "      <th>pp_count</th>\n",
       "      <th>guarderias</th>\n",
       "      <th>vio_index</th>\n",
       "    </tr>\n",
       "    <tr>\n",
       "      <th>CVEGEO</th>\n",
       "      <th></th>\n",
       "      <th></th>\n",
       "      <th></th>\n",
       "      <th></th>\n",
       "      <th></th>\n",
       "      <th></th>\n",
       "      <th></th>\n",
       "      <th></th>\n",
       "      <th></th>\n",
       "      <th></th>\n",
       "      <th></th>\n",
       "      <th></th>\n",
       "      <th></th>\n",
       "      <th></th>\n",
       "      <th></th>\n",
       "      <th></th>\n",
       "      <th></th>\n",
       "      <th></th>\n",
       "      <th></th>\n",
       "      <th></th>\n",
       "      <th></th>\n",
       "    </tr>\n",
       "  </thead>\n",
       "  <tbody>\n",
       "    <tr>\n",
       "      <th>0901000010065</th>\n",
       "      <td>21</td>\n",
       "      <td>0</td>\n",
       "      <td>0.000000</td>\n",
       "      <td>0.0</td>\n",
       "      <td>0.0</td>\n",
       "      <td>0.200000</td>\n",
       "      <td>0.0</td>\n",
       "      <td>0.235294</td>\n",
       "      <td>0.0</td>\n",
       "      <td>0.0</td>\n",
       "      <td>...</td>\n",
       "      <td>0.130435</td>\n",
       "      <td>0.000000</td>\n",
       "      <td>0.0</td>\n",
       "      <td>0.0</td>\n",
       "      <td>0.285714</td>\n",
       "      <td>0.00</td>\n",
       "      <td>0.058824</td>\n",
       "      <td>0.0</td>\n",
       "      <td>0.181818</td>\n",
       "      <td>0.210802</td>\n",
       "    </tr>\n",
       "    <tr>\n",
       "      <th>0901000011063</th>\n",
       "      <td>13</td>\n",
       "      <td>0</td>\n",
       "      <td>0.041667</td>\n",
       "      <td>0.0</td>\n",
       "      <td>0.0</td>\n",
       "      <td>0.066667</td>\n",
       "      <td>0.0</td>\n",
       "      <td>0.094118</td>\n",
       "      <td>0.0</td>\n",
       "      <td>0.0</td>\n",
       "      <td>...</td>\n",
       "      <td>0.014493</td>\n",
       "      <td>0.000000</td>\n",
       "      <td>0.0</td>\n",
       "      <td>0.0</td>\n",
       "      <td>0.000000</td>\n",
       "      <td>0.15</td>\n",
       "      <td>0.058824</td>\n",
       "      <td>0.0</td>\n",
       "      <td>0.090909</td>\n",
       "      <td>0.122711</td>\n",
       "    </tr>\n",
       "    <tr>\n",
       "      <th>0901000011542</th>\n",
       "      <td>0</td>\n",
       "      <td>0</td>\n",
       "      <td>0.000000</td>\n",
       "      <td>0.0</td>\n",
       "      <td>0.0</td>\n",
       "      <td>0.253333</td>\n",
       "      <td>0.0</td>\n",
       "      <td>0.258824</td>\n",
       "      <td>0.0</td>\n",
       "      <td>0.0</td>\n",
       "      <td>...</td>\n",
       "      <td>0.231884</td>\n",
       "      <td>0.027027</td>\n",
       "      <td>0.0</td>\n",
       "      <td>0.0</td>\n",
       "      <td>0.000000</td>\n",
       "      <td>0.15</td>\n",
       "      <td>0.078431</td>\n",
       "      <td>0.0</td>\n",
       "      <td>0.000000</td>\n",
       "      <td>0.109362</td>\n",
       "    </tr>\n",
       "    <tr>\n",
       "      <th>0901000012358</th>\n",
       "      <td>0</td>\n",
       "      <td>0</td>\n",
       "      <td>0.000000</td>\n",
       "      <td>0.0</td>\n",
       "      <td>0.0</td>\n",
       "      <td>0.066667</td>\n",
       "      <td>0.0</td>\n",
       "      <td>0.329412</td>\n",
       "      <td>0.0</td>\n",
       "      <td>0.0</td>\n",
       "      <td>...</td>\n",
       "      <td>0.014493</td>\n",
       "      <td>0.000000</td>\n",
       "      <td>0.0</td>\n",
       "      <td>0.0</td>\n",
       "      <td>0.000000</td>\n",
       "      <td>0.05</td>\n",
       "      <td>0.000000</td>\n",
       "      <td>0.0</td>\n",
       "      <td>0.000000</td>\n",
       "      <td>0.121318</td>\n",
       "    </tr>\n",
       "    <tr>\n",
       "      <th>0901000012057</th>\n",
       "      <td>0</td>\n",
       "      <td>0</td>\n",
       "      <td>0.000000</td>\n",
       "      <td>0.0</td>\n",
       "      <td>0.0</td>\n",
       "      <td>0.000000</td>\n",
       "      <td>0.0</td>\n",
       "      <td>0.423529</td>\n",
       "      <td>0.0</td>\n",
       "      <td>0.0</td>\n",
       "      <td>...</td>\n",
       "      <td>0.159420</td>\n",
       "      <td>0.081081</td>\n",
       "      <td>0.0</td>\n",
       "      <td>0.0</td>\n",
       "      <td>0.142857</td>\n",
       "      <td>0.15</td>\n",
       "      <td>0.058824</td>\n",
       "      <td>0.0</td>\n",
       "      <td>0.000000</td>\n",
       "      <td>0.138775</td>\n",
       "    </tr>\n",
       "  </tbody>\n",
       "</table>\n",
       "<p>5 rows × 214 columns</p>\n",
       "</div>"
      ],
      "text/plain": [
       "               Metro  Suburbano  Metrobus  Tren_Liger  Trolebus       RTP  \\\n",
       "CVEGEO                                                                      \n",
       "0901000010065     21          0  0.000000         0.0       0.0  0.200000   \n",
       "0901000011063     13          0  0.041667         0.0       0.0  0.066667   \n",
       "0901000011542      0          0  0.000000         0.0       0.0  0.253333   \n",
       "0901000012358      0          0  0.000000         0.0       0.0  0.066667   \n",
       "0901000012057      0          0  0.000000         0.0       0.0  0.000000   \n",
       "\n",
       "               Trole_elev  T_Concesio  Ecobici  Cablebus  ...    com_28  \\\n",
       "CVEGEO                                                    ...             \n",
       "0901000010065         0.0    0.235294      0.0       0.0  ...  0.130435   \n",
       "0901000011063         0.0    0.094118      0.0       0.0  ...  0.014493   \n",
       "0901000011542         0.0    0.258824      0.0       0.0  ...  0.231884   \n",
       "0901000012358         0.0    0.329412      0.0       0.0  ...  0.014493   \n",
       "0901000012057         0.0    0.423529      0.0       0.0  ...  0.159420   \n",
       "\n",
       "                 com_29  salud_count  deportivos_count  infraestructura_count  \\\n",
       "CVEGEO                                                                          \n",
       "0901000010065  0.000000          0.0               0.0               0.285714   \n",
       "0901000011063  0.000000          0.0               0.0               0.000000   \n",
       "0901000011542  0.027027          0.0               0.0               0.000000   \n",
       "0901000012358  0.000000          0.0               0.0               0.000000   \n",
       "0901000012057  0.081081          0.0               0.0               0.142857   \n",
       "\n",
       "               comercios_count  educacion_count  pp_count  guarderias  \\\n",
       "CVEGEO                                                                  \n",
       "0901000010065             0.00         0.058824       0.0    0.181818   \n",
       "0901000011063             0.15         0.058824       0.0    0.090909   \n",
       "0901000011542             0.15         0.078431       0.0    0.000000   \n",
       "0901000012358             0.05         0.000000       0.0    0.000000   \n",
       "0901000012057             0.15         0.058824       0.0    0.000000   \n",
       "\n",
       "               vio_index  \n",
       "CVEGEO                    \n",
       "0901000010065   0.210802  \n",
       "0901000011063   0.122711  \n",
       "0901000011542   0.109362  \n",
       "0901000012358   0.121318  \n",
       "0901000012057   0.138775  \n",
       "\n",
       "[5 rows x 214 columns]"
      ]
     },
     "execution_count": 39,
     "metadata": {},
     "output_type": "execute_result"
    }
   ],
   "source": [
    "#instanciate\n",
    "scaler = MinMaxScaler()\n",
    "\n",
    "#fit the scaler to the features\n",
    "scaler.fit(data[features])\n",
    "\n",
    "#scale\n",
    "data_scaled[features] = scaler.transform(data[features])\n",
    "\n",
    "data_scaled[40:45]"
   ]
  },
  {
   "cell_type": "markdown",
   "id": "b9028949-be14-40ab-aa08-5213a1674564",
   "metadata": {},
   "source": [
    "## Oversampling or Undersampling"
   ]
  },
  {
   "cell_type": "code",
   "execution_count": 40,
   "id": "28332fda-3a16-4f26-8835-e322b03ce01f",
   "metadata": {},
   "outputs": [],
   "source": [
    "## maybe SMOTE ML_02 Data preparation"
   ]
  },
  {
   "cell_type": "markdown",
   "id": "7e8ead5a-8d49-4566-a060-4fd9fc6fad85",
   "metadata": {
    "jp-MarkdownHeadingCollapsed": true
   },
   "source": [
    "## Feature engineering"
   ]
  },
  {
   "cell_type": "markdown",
   "id": "bb924fd3-5912-4ad9-b418-506c34ca08b4",
   "metadata": {
    "jp-MarkdownHeadingCollapsed": true
   },
   "source": [
    "### Encoding"
   ]
  },
  {
   "cell_type": "code",
   "execution_count": 41,
   "id": "6d3602e4-d7b9-4e57-909a-dafa6d7cece6",
   "metadata": {},
   "outputs": [],
   "source": [
    "## try with new features, maybe"
   ]
  },
  {
   "cell_type": "markdown",
   "id": "ced98f9a-a793-43e3-9ddd-fef9430881d1",
   "metadata": {
    "jp-MarkdownHeadingCollapsed": true
   },
   "source": [
    "### Discretizing "
   ]
  },
  {
   "cell_type": "code",
   "execution_count": 42,
   "id": "b1e7e27f-5ffb-4348-9b91-23a675b64b50",
   "metadata": {},
   "outputs": [],
   "source": [
    "## try with new features. We need this?"
   ]
  },
  {
   "cell_type": "markdown",
   "id": "e31418a8-82bb-4017-baaf-454681e64692",
   "metadata": {
    "jp-MarkdownHeadingCollapsed": true
   },
   "source": [
    "### New features"
   ]
  },
  {
   "cell_type": "code",
   "execution_count": 43,
   "id": "2c11753d-810b-49d8-bcf0-7bf71800b1bf",
   "metadata": {},
   "outputs": [],
   "source": [
    "# maybe with commerce\n",
    "# sum not 'en todas las vialidades' of urban infrastructure features"
   ]
  },
  {
   "cell_type": "markdown",
   "id": "3ce5a851-37c2-44b7-a73b-d2044d5904d1",
   "metadata": {},
   "source": [
    "## Feature correlation"
   ]
  },
  {
   "cell_type": "code",
   "execution_count": 44,
   "id": "ba7afbc1-ee97-4a16-a615-ac5c95891e7d",
   "metadata": {
    "scrolled": true
   },
   "outputs": [
    {
     "data": {
      "image/png": "[encoded data removed]",
      "text/plain": [
       "<Figure size 640x480 with 2 Axes>"
      ]
     },
     "metadata": {},
     "output_type": "display_data"
    }
   ],
   "source": [
    "correlation_matrix = data_scaled.corr()\n",
    "\n",
    "column_names = correlation_matrix.columns\n",
    "\n",
    "## change commerce feature names\n",
    "\n",
    "sns.heatmap(correlation_matrix, xticklabels = column_names, yticklabels=column_names, cmap= 'bwr');"
   ]
  },
  {
   "cell_type": "code",
   "execution_count": 45,
   "id": "6c456aa3-b80e-4db9-a1ab-0dede79d8100",
   "metadata": {},
   "outputs": [],
   "source": [
    "#correlation matrix to dataframe\n",
    "corr_df = correlation_matrix.stack().reset_index()\n",
    "\n",
    "corr_df.columns = ['feature_1','feature_2','correlation']\n",
    "\n",
    "no_self_correlation = (corr_df['feature_1'] != corr_df['feature_2'])\n",
    "corr_df = corr_df[no_self_correlation]"
   ]
  },
  {
   "cell_type": "code",
   "execution_count": 46,
   "id": "8fc37116-4a2c-401c-b612-8046687c7494",
   "metadata": {
    "scrolled": true
   },
   "outputs": [
    {
     "data": {
      "text/html": [
       "<div>\n",
       "<style scoped>\n",
       "    .dataframe tbody tr th:only-of-type {\n",
       "        vertical-align: middle;\n",
       "    }\n",
       "\n",
       "    .dataframe tbody tr th {\n",
       "        vertical-align: top;\n",
       "    }\n",
       "\n",
       "    .dataframe thead th {\n",
       "        text-align: right;\n",
       "    }\n",
       "</style>\n",
       "<table border=\"1\" class=\"dataframe\">\n",
       "  <thead>\n",
       "    <tr style=\"text-align: right;\">\n",
       "      <th></th>\n",
       "      <th>feature_1</th>\n",
       "      <th>feature_2</th>\n",
       "      <th>correlation</th>\n",
       "    </tr>\n",
       "  </thead>\n",
       "  <tbody>\n",
       "    <tr>\n",
       "      <th>1</th>\n",
       "      <td>Metro</td>\n",
       "      <td>Suburbano</td>\n",
       "      <td>0.077511</td>\n",
       "    </tr>\n",
       "    <tr>\n",
       "      <th>2</th>\n",
       "      <td>Metro</td>\n",
       "      <td>Metrobus</td>\n",
       "      <td>0.217836</td>\n",
       "    </tr>\n",
       "    <tr>\n",
       "      <th>3</th>\n",
       "      <td>Metro</td>\n",
       "      <td>Tren_Liger</td>\n",
       "      <td>-0.082978</td>\n",
       "    </tr>\n",
       "    <tr>\n",
       "      <th>4</th>\n",
       "      <td>Metro</td>\n",
       "      <td>Trolebus</td>\n",
       "      <td>0.296396</td>\n",
       "    </tr>\n",
       "    <tr>\n",
       "      <th>5</th>\n",
       "      <td>Metro</td>\n",
       "      <td>RTP</td>\n",
       "      <td>0.072167</td>\n",
       "    </tr>\n",
       "    <tr>\n",
       "      <th>...</th>\n",
       "      <td>...</td>\n",
       "      <td>...</td>\n",
       "      <td>...</td>\n",
       "    </tr>\n",
       "    <tr>\n",
       "      <th>45363</th>\n",
       "      <td>vio_index</td>\n",
       "      <td>infraestructura_count</td>\n",
       "      <td>0.272013</td>\n",
       "    </tr>\n",
       "    <tr>\n",
       "      <th>45364</th>\n",
       "      <td>vio_index</td>\n",
       "      <td>comercios_count</td>\n",
       "      <td>0.171973</td>\n",
       "    </tr>\n",
       "    <tr>\n",
       "      <th>45365</th>\n",
       "      <td>vio_index</td>\n",
       "      <td>educacion_count</td>\n",
       "      <td>0.225274</td>\n",
       "    </tr>\n",
       "    <tr>\n",
       "      <th>45366</th>\n",
       "      <td>vio_index</td>\n",
       "      <td>pp_count</td>\n",
       "      <td>0.014854</td>\n",
       "    </tr>\n",
       "    <tr>\n",
       "      <th>45367</th>\n",
       "      <td>vio_index</td>\n",
       "      <td>guarderias</td>\n",
       "      <td>0.133326</td>\n",
       "    </tr>\n",
       "  </tbody>\n",
       "</table>\n",
       "<p>45156 rows × 3 columns</p>\n",
       "</div>"
      ],
      "text/plain": [
       "       feature_1              feature_2  correlation\n",
       "1          Metro              Suburbano     0.077511\n",
       "2          Metro               Metrobus     0.217836\n",
       "3          Metro             Tren_Liger    -0.082978\n",
       "4          Metro               Trolebus     0.296396\n",
       "5          Metro                    RTP     0.072167\n",
       "...          ...                    ...          ...\n",
       "45363  vio_index  infraestructura_count     0.272013\n",
       "45364  vio_index        comercios_count     0.171973\n",
       "45365  vio_index        educacion_count     0.225274\n",
       "45366  vio_index               pp_count     0.014854\n",
       "45367  vio_index             guarderias     0.133326\n",
       "\n",
       "[45156 rows x 3 columns]"
      ]
     },
     "execution_count": 46,
     "metadata": {},
     "output_type": "execute_result"
    }
   ],
   "source": [
    "corr_df"
   ]
  },
  {
   "cell_type": "code",
   "execution_count": 47,
   "id": "0beec1dd-7a08-402d-a4f3-08f5c5f67ab1",
   "metadata": {},
   "outputs": [
    {
     "data": {
      "text/html": [
       "<div>\n",
       "<style scoped>\n",
       "    .dataframe tbody tr th:only-of-type {\n",
       "        vertical-align: middle;\n",
       "    }\n",
       "\n",
       "    .dataframe tbody tr th {\n",
       "        vertical-align: top;\n",
       "    }\n",
       "\n",
       "    .dataframe thead th {\n",
       "        text-align: right;\n",
       "    }\n",
       "</style>\n",
       "<table border=\"1\" class=\"dataframe\">\n",
       "  <thead>\n",
       "    <tr style=\"text-align: right;\">\n",
       "      <th></th>\n",
       "      <th>feature_1</th>\n",
       "      <th>feature_2</th>\n",
       "      <th>correlation</th>\n",
       "      <th>absolute_correlation</th>\n",
       "    </tr>\n",
       "  </thead>\n",
       "  <tbody>\n",
       "    <tr>\n",
       "      <th>32309</th>\n",
       "      <td>P3HLI_HE</td>\n",
       "      <td>P3YM_HLI_F</td>\n",
       "      <td>0.981657</td>\n",
       "      <td>0.981657</td>\n",
       "    </tr>\n",
       "    <tr>\n",
       "      <th>31249</th>\n",
       "      <td>P3YM_HLI_F</td>\n",
       "      <td>P3HLI_HE</td>\n",
       "      <td>0.981657</td>\n",
       "      <td>0.981657</td>\n",
       "    </tr>\n",
       "    <tr>\n",
       "      <th>10266</th>\n",
       "      <td>CICLOCAR_C_3</td>\n",
       "      <td>CICLOVIA_C_3</td>\n",
       "      <td>0.981429</td>\n",
       "      <td>0.981429</td>\n",
       "    </tr>\n",
       "    <tr>\n",
       "      <th>8994</th>\n",
       "      <td>CICLOVIA_C_3</td>\n",
       "      <td>CICLOCAR_C_3</td>\n",
       "      <td>0.981429</td>\n",
       "      <td>0.981429</td>\n",
       "    </tr>\n",
       "    <tr>\n",
       "      <th>33380</th>\n",
       "      <td>P5_HLI_HE</td>\n",
       "      <td>P3HLI_HE_F</td>\n",
       "      <td>0.981403</td>\n",
       "      <td>0.981403</td>\n",
       "    </tr>\n",
       "    <tr>\n",
       "      <th>32532</th>\n",
       "      <td>P3HLI_HE_F</td>\n",
       "      <td>P5_HLI_HE</td>\n",
       "      <td>0.981403</td>\n",
       "      <td>0.981403</td>\n",
       "    </tr>\n",
       "    <tr>\n",
       "      <th>32315</th>\n",
       "      <td>P3HLI_HE</td>\n",
       "      <td>P3HLI_HE_F</td>\n",
       "      <td>0.981391</td>\n",
       "      <td>0.981391</td>\n",
       "    </tr>\n",
       "    <tr>\n",
       "      <th>32527</th>\n",
       "      <td>P3HLI_HE_F</td>\n",
       "      <td>P3HLI_HE</td>\n",
       "      <td>0.981391</td>\n",
       "      <td>0.981391</td>\n",
       "    </tr>\n",
       "    <tr>\n",
       "      <th>34027</th>\n",
       "      <td>POB_AFRO_F</td>\n",
       "      <td>POB_AFRO_M</td>\n",
       "      <td>0.981207</td>\n",
       "      <td>0.981207</td>\n",
       "    </tr>\n",
       "    <tr>\n",
       "      <th>34239</th>\n",
       "      <td>POB_AFRO_M</td>\n",
       "      <td>POB_AFRO_F</td>\n",
       "      <td>0.981207</td>\n",
       "      <td>0.981207</td>\n",
       "    </tr>\n",
       "    <tr>\n",
       "      <th>31031</th>\n",
       "      <td>P3YM_HLI</td>\n",
       "      <td>P3YM_HLI_F</td>\n",
       "      <td>0.981039</td>\n",
       "      <td>0.981039</td>\n",
       "    </tr>\n",
       "    <tr>\n",
       "      <th>31243</th>\n",
       "      <td>P3YM_HLI_F</td>\n",
       "      <td>P3YM_HLI</td>\n",
       "      <td>0.981039</td>\n",
       "      <td>0.981039</td>\n",
       "    </tr>\n",
       "    <tr>\n",
       "      <th>31252</th>\n",
       "      <td>P3YM_HLI_F</td>\n",
       "      <td>P5_HLI</td>\n",
       "      <td>0.981004</td>\n",
       "      <td>0.981004</td>\n",
       "    </tr>\n",
       "    <tr>\n",
       "      <th>32948</th>\n",
       "      <td>P5_HLI</td>\n",
       "      <td>P3YM_HLI_F</td>\n",
       "      <td>0.981004</td>\n",
       "      <td>0.981004</td>\n",
       "    </tr>\n",
       "    <tr>\n",
       "      <th>35265</th>\n",
       "      <td>PEA</td>\n",
       "      <td>POBMAS</td>\n",
       "      <td>0.980925</td>\n",
       "      <td>0.980925</td>\n",
       "    </tr>\n",
       "    <tr>\n",
       "      <th>25725</th>\n",
       "      <td>POBMAS</td>\n",
       "      <td>PEA</td>\n",
       "      <td>0.980925</td>\n",
       "      <td>0.980925</td>\n",
       "    </tr>\n",
       "    <tr>\n",
       "      <th>26543</th>\n",
       "      <td>P_12A14</td>\n",
       "      <td>P_6A11_F</td>\n",
       "      <td>0.980460</td>\n",
       "      <td>0.980460</td>\n",
       "    </tr>\n",
       "    <tr>\n",
       "      <th>28027</th>\n",
       "      <td>P_6A11_F</td>\n",
       "      <td>P_12A14</td>\n",
       "      <td>0.980460</td>\n",
       "      <td>0.980460</td>\n",
       "    </tr>\n",
       "    <tr>\n",
       "      <th>25513</th>\n",
       "      <td>POBFEM</td>\n",
       "      <td>PEA_F</td>\n",
       "      <td>0.980363</td>\n",
       "      <td>0.980363</td>\n",
       "    </tr>\n",
       "    <tr>\n",
       "      <th>35477</th>\n",
       "      <td>PEA_F</td>\n",
       "      <td>POBFEM</td>\n",
       "      <td>0.980363</td>\n",
       "      <td>0.980363</td>\n",
       "    </tr>\n",
       "    <tr>\n",
       "      <th>26107</th>\n",
       "      <td>P_3A5</td>\n",
       "      <td>P_0A2</td>\n",
       "      <td>0.980222</td>\n",
       "      <td>0.980222</td>\n",
       "    </tr>\n",
       "    <tr>\n",
       "      <th>25895</th>\n",
       "      <td>P_0A2</td>\n",
       "      <td>P_3A5</td>\n",
       "      <td>0.980222</td>\n",
       "      <td>0.980222</td>\n",
       "    </tr>\n",
       "    <tr>\n",
       "      <th>26961</th>\n",
       "      <td>P_18A24</td>\n",
       "      <td>P_6A11</td>\n",
       "      <td>0.980001</td>\n",
       "      <td>0.980001</td>\n",
       "    </tr>\n",
       "    <tr>\n",
       "      <th>26325</th>\n",
       "      <td>P_6A11</td>\n",
       "      <td>P_18A24</td>\n",
       "      <td>0.980001</td>\n",
       "      <td>0.980001</td>\n",
       "    </tr>\n",
       "    <tr>\n",
       "      <th>26748</th>\n",
       "      <td>P_15A17</td>\n",
       "      <td>P_6A11</td>\n",
       "      <td>0.980001</td>\n",
       "      <td>0.980001</td>\n",
       "    </tr>\n",
       "    <tr>\n",
       "      <th>26324</th>\n",
       "      <td>P_6A11</td>\n",
       "      <td>P_15A17</td>\n",
       "      <td>0.980001</td>\n",
       "      <td>0.980001</td>\n",
       "    </tr>\n",
       "    <tr>\n",
       "      <th>31037</th>\n",
       "      <td>P3YM_HLI</td>\n",
       "      <td>P3HLI_HE_F</td>\n",
       "      <td>0.979353</td>\n",
       "      <td>0.979353</td>\n",
       "    </tr>\n",
       "    <tr>\n",
       "      <th>32521</th>\n",
       "      <td>P3HLI_HE_F</td>\n",
       "      <td>P3YM_HLI</td>\n",
       "      <td>0.979353</td>\n",
       "      <td>0.979353</td>\n",
       "    </tr>\n",
       "    <tr>\n",
       "      <th>26321</th>\n",
       "      <td>P_6A11</td>\n",
       "      <td>P_3A5</td>\n",
       "      <td>0.979343</td>\n",
       "      <td>0.979343</td>\n",
       "    </tr>\n",
       "    <tr>\n",
       "      <th>26109</th>\n",
       "      <td>P_3A5</td>\n",
       "      <td>P_6A11</td>\n",
       "      <td>0.979343</td>\n",
       "      <td>0.979343</td>\n",
       "    </tr>\n",
       "    <tr>\n",
       "      <th>32954</th>\n",
       "      <td>P5_HLI</td>\n",
       "      <td>P3HLI_HE_F</td>\n",
       "      <td>0.979325</td>\n",
       "      <td>0.979325</td>\n",
       "    </tr>\n",
       "    <tr>\n",
       "      <th>32530</th>\n",
       "      <td>P3HLI_HE_F</td>\n",
       "      <td>P5_HLI</td>\n",
       "      <td>0.979325</td>\n",
       "      <td>0.979325</td>\n",
       "    </tr>\n",
       "    <tr>\n",
       "      <th>35527</th>\n",
       "      <td>PEA_F</td>\n",
       "      <td>HOGJEF_M</td>\n",
       "      <td>0.979072</td>\n",
       "      <td>0.979072</td>\n",
       "    </tr>\n",
       "    <tr>\n",
       "      <th>36163</th>\n",
       "      <td>HOGJEF_M</td>\n",
       "      <td>PEA_F</td>\n",
       "      <td>0.979072</td>\n",
       "      <td>0.979072</td>\n",
       "    </tr>\n",
       "    <tr>\n",
       "      <th>35314</th>\n",
       "      <td>PEA</td>\n",
       "      <td>HOGJEF_M</td>\n",
       "      <td>0.978649</td>\n",
       "      <td>0.978649</td>\n",
       "    </tr>\n",
       "    <tr>\n",
       "      <th>36162</th>\n",
       "      <td>HOGJEF_M</td>\n",
       "      <td>PEA</td>\n",
       "      <td>0.978649</td>\n",
       "      <td>0.978649</td>\n",
       "    </tr>\n",
       "    <tr>\n",
       "      <th>17964</th>\n",
       "      <td>ESTABICI_C_3</td>\n",
       "      <td>SEMAPEAT_C_3</td>\n",
       "      <td>0.977998</td>\n",
       "      <td>0.977998</td>\n",
       "    </tr>\n",
       "    <tr>\n",
       "      <th>15420</th>\n",
       "      <td>SEMAPEAT_C_3</td>\n",
       "      <td>ESTABICI_C_3</td>\n",
       "      <td>0.977998</td>\n",
       "      <td>0.977998</td>\n",
       "    </tr>\n",
       "    <tr>\n",
       "      <th>35714</th>\n",
       "      <td>PEA_M</td>\n",
       "      <td>P_25A59_M</td>\n",
       "      <td>0.977876</td>\n",
       "      <td>0.977876</td>\n",
       "    </tr>\n",
       "    <tr>\n",
       "      <th>30626</th>\n",
       "      <td>P_25A59_M</td>\n",
       "      <td>PEA_M</td>\n",
       "      <td>0.977876</td>\n",
       "      <td>0.977876</td>\n",
       "    </tr>\n",
       "    <tr>\n",
       "      <th>30808</th>\n",
       "      <td>P_60YMAS_M</td>\n",
       "      <td>P_60YMAS_F</td>\n",
       "      <td>0.977846</td>\n",
       "      <td>0.977846</td>\n",
       "    </tr>\n",
       "    <tr>\n",
       "      <th>29112</th>\n",
       "      <td>P_60YMAS_F</td>\n",
       "      <td>P_60YMAS_M</td>\n",
       "      <td>0.977846</td>\n",
       "      <td>0.977846</td>\n",
       "    </tr>\n",
       "    <tr>\n",
       "      <th>27170</th>\n",
       "      <td>P_25A59</td>\n",
       "      <td>POBFEM</td>\n",
       "      <td>0.977643</td>\n",
       "      <td>0.977643</td>\n",
       "    </tr>\n",
       "    <tr>\n",
       "      <th>25474</th>\n",
       "      <td>POBFEM</td>\n",
       "      <td>P_25A59</td>\n",
       "      <td>0.977643</td>\n",
       "      <td>0.977643</td>\n",
       "    </tr>\n",
       "    <tr>\n",
       "      <th>28025</th>\n",
       "      <td>P_6A11_F</td>\n",
       "      <td>P_3A5</td>\n",
       "      <td>0.977573</td>\n",
       "      <td>0.977573</td>\n",
       "    </tr>\n",
       "    <tr>\n",
       "      <th>26117</th>\n",
       "      <td>P_3A5</td>\n",
       "      <td>P_6A11_F</td>\n",
       "      <td>0.977573</td>\n",
       "      <td>0.977573</td>\n",
       "    </tr>\n",
       "    <tr>\n",
       "      <th>36132</th>\n",
       "      <td>HOGJEF_M</td>\n",
       "      <td>P_25A59_F</td>\n",
       "      <td>0.977485</td>\n",
       "      <td>0.977485</td>\n",
       "    </tr>\n",
       "    <tr>\n",
       "      <th>28924</th>\n",
       "      <td>P_25A59_F</td>\n",
       "      <td>HOGJEF_M</td>\n",
       "      <td>0.977485</td>\n",
       "      <td>0.977485</td>\n",
       "    </tr>\n",
       "    <tr>\n",
       "      <th>25679</th>\n",
       "      <td>POBMAS</td>\n",
       "      <td>POBFEM</td>\n",
       "      <td>0.976997</td>\n",
       "      <td>0.976997</td>\n",
       "    </tr>\n",
       "    <tr>\n",
       "      <th>25467</th>\n",
       "      <td>POBFEM</td>\n",
       "      <td>POBMAS</td>\n",
       "      <td>0.976997</td>\n",
       "      <td>0.976997</td>\n",
       "    </tr>\n",
       "  </tbody>\n",
       "</table>\n",
       "</div>"
      ],
      "text/plain": [
       "          feature_1     feature_2  correlation  absolute_correlation\n",
       "32309      P3HLI_HE    P3YM_HLI_F     0.981657              0.981657\n",
       "31249    P3YM_HLI_F      P3HLI_HE     0.981657              0.981657\n",
       "10266  CICLOCAR_C_3  CICLOVIA_C_3     0.981429              0.981429\n",
       "8994   CICLOVIA_C_3  CICLOCAR_C_3     0.981429              0.981429\n",
       "33380     P5_HLI_HE    P3HLI_HE_F     0.981403              0.981403\n",
       "32532    P3HLI_HE_F     P5_HLI_HE     0.981403              0.981403\n",
       "32315      P3HLI_HE    P3HLI_HE_F     0.981391              0.981391\n",
       "32527    P3HLI_HE_F      P3HLI_HE     0.981391              0.981391\n",
       "34027    POB_AFRO_F    POB_AFRO_M     0.981207              0.981207\n",
       "34239    POB_AFRO_M    POB_AFRO_F     0.981207              0.981207\n",
       "31031      P3YM_HLI    P3YM_HLI_F     0.981039              0.981039\n",
       "31243    P3YM_HLI_F      P3YM_HLI     0.981039              0.981039\n",
       "31252    P3YM_HLI_F        P5_HLI     0.981004              0.981004\n",
       "32948        P5_HLI    P3YM_HLI_F     0.981004              0.981004\n",
       "35265           PEA        POBMAS     0.980925              0.980925\n",
       "25725        POBMAS           PEA     0.980925              0.980925\n",
       "26543       P_12A14      P_6A11_F     0.980460              0.980460\n",
       "28027      P_6A11_F       P_12A14     0.980460              0.980460\n",
       "25513        POBFEM         PEA_F     0.980363              0.980363\n",
       "35477         PEA_F        POBFEM     0.980363              0.980363\n",
       "26107         P_3A5         P_0A2     0.980222              0.980222\n",
       "25895         P_0A2         P_3A5     0.980222              0.980222\n",
       "26961       P_18A24        P_6A11     0.980001              0.980001\n",
       "26325        P_6A11       P_18A24     0.980001              0.980001\n",
       "26748       P_15A17        P_6A11     0.980001              0.980001\n",
       "26324        P_6A11       P_15A17     0.980001              0.980001\n",
       "31037      P3YM_HLI    P3HLI_HE_F     0.979353              0.979353\n",
       "32521    P3HLI_HE_F      P3YM_HLI     0.979353              0.979353\n",
       "26321        P_6A11         P_3A5     0.979343              0.979343\n",
       "26109         P_3A5        P_6A11     0.979343              0.979343\n",
       "32954        P5_HLI    P3HLI_HE_F     0.979325              0.979325\n",
       "32530    P3HLI_HE_F        P5_HLI     0.979325              0.979325\n",
       "35527         PEA_F      HOGJEF_M     0.979072              0.979072\n",
       "36163      HOGJEF_M         PEA_F     0.979072              0.979072\n",
       "35314           PEA      HOGJEF_M     0.978649              0.978649\n",
       "36162      HOGJEF_M           PEA     0.978649              0.978649\n",
       "17964  ESTABICI_C_3  SEMAPEAT_C_3     0.977998              0.977998\n",
       "15420  SEMAPEAT_C_3  ESTABICI_C_3     0.977998              0.977998\n",
       "35714         PEA_M     P_25A59_M     0.977876              0.977876\n",
       "30626     P_25A59_M         PEA_M     0.977876              0.977876\n",
       "30808    P_60YMAS_M    P_60YMAS_F     0.977846              0.977846\n",
       "29112    P_60YMAS_F    P_60YMAS_M     0.977846              0.977846\n",
       "27170       P_25A59        POBFEM     0.977643              0.977643\n",
       "25474        POBFEM       P_25A59     0.977643              0.977643\n",
       "28025      P_6A11_F         P_3A5     0.977573              0.977573\n",
       "26117         P_3A5      P_6A11_F     0.977573              0.977573\n",
       "36132      HOGJEF_M     P_25A59_F     0.977485              0.977485\n",
       "28924     P_25A59_F      HOGJEF_M     0.977485              0.977485\n",
       "25679        POBMAS        POBFEM     0.976997              0.976997\n",
       "25467        POBFEM        POBMAS     0.976997              0.976997"
      ]
     },
     "execution_count": 47,
     "metadata": {},
     "output_type": "execute_result"
    }
   ],
   "source": [
    "#computing absolute correlation\n",
    "corr_df['absolute_correlation'] = np.abs(corr_df['correlation'])\n",
    "\n",
    "#top 5 most correlated pairs\n",
    "corr_df.sort_values(by='absolute_correlation', ascending=False)[1050:1100]"
   ]
  },
  {
   "cell_type": "code",
   "execution_count": 48,
   "id": "2d954181-18fe-4d64-a5b6-73504b71dc00",
   "metadata": {},
   "outputs": [],
   "source": [
    "## a lot of urban infra are correlated :("
   ]
  },
  {
   "cell_type": "code",
   "execution_count": 49,
   "id": "bc7fbc53-885d-49e3-b71c-4912f9079a64",
   "metadata": {},
   "outputs": [
    {
     "data": {
      "text/plain": [
       "(2453, 214)"
      ]
     },
     "execution_count": 49,
     "metadata": {},
     "output_type": "execute_result"
    }
   ],
   "source": [
    "data.shape"
   ]
  },
  {
   "cell_type": "markdown",
   "id": "aededeaa-03ef-4825-be75-f92f35436881",
   "metadata": {},
   "source": [
    "# **MODEL** | XGBoost"
   ]
  },
  {
   "cell_type": "code",
   "execution_count": 50,
   "id": "0ec87015-b456-46df-9d76-6e4705455ca3",
   "metadata": {},
   "outputs": [],
   "source": [
    "#Ready X and y\n",
    "\n",
    "# X = data[['Metro', 'Suburbano', 'Metrobus', 'Tren_Liger', 'Trolebus', 'RTP',\n",
    "#        'Trole_elev', 'T_Concesio', 'Ecobici', 'Cablebus', 'VIVTOT',\n",
    "#        'RECUCALL_C_1', 'RECUCALL_C_2', 'RECUCALL_C_3', 'RECUCALL_C_7',\n",
    "#        'RECUCALL_C_8', 'RECUCALL_C_9', 'RAMPAS_C_1', 'RAMPAS_C_2',\n",
    "#        'RAMPAS_C_3', 'RAMPAS_C_7', 'RAMPAS_C_8', 'RAMPAS_C_9', 'PASOPEAT_C_1',\n",
    "#        'PASOPEAT_C_2', 'PASOPEAT_C_3', 'PASOPEAT_C_7', 'PASOPEAT_C_8',\n",
    "#        'PASOPEAT_C_9', 'BANQUETA_C_1', 'BANQUETA_C_2', 'BANQUETA_C_3',\n",
    "#        'BANQUETA_C_7', 'BANQUETA_C_8', 'BANQUETA_C_9', 'GUARNICI_C_1',\n",
    "#        'GUARNICI_C_2', 'GUARNICI_C_3', 'GUARNICI_C_7', 'GUARNICI_C_8',\n",
    "#        'GUARNICI_C_9', 'CICLOVIA_C_1', 'CICLOVIA_C_2', 'CICLOVIA_C_3',\n",
    "#        'CICLOVIA_C_7', 'CICLOVIA_C_8', 'CICLOVIA_C_9', 'CICLOCAR_C_1',\n",
    "#        'CICLOCAR_C_2', 'CICLOCAR_C_3', 'CICLOCAR_C_7', 'CICLOCAR_C_8', 'CICLOCAR_C_9',\n",
    "#        'ALUMPUB_C_1', 'ALUMPUB_C_2', 'ALUMPUB_C_3', 'ALUMPUB_C_7',\n",
    "#        'ALUMPUB_C_8', 'ALUMPUB_C_9', 'LETRERO_C_1', 'LETRERO_C_2',\n",
    "#        'LETRERO_C_3', 'LETRERO_C_7', 'LETRERO_C_8', 'LETRERO_C_9',\n",
    "#        'ARBOLES_C_1', 'ARBOLES_C_2', 'ARBOLES_C_3', 'ARBOLES_C_7',\n",
    "#        'ARBOLES_C_8', 'ARBOLES_C_9', 'SEMAPEAT_C_1', 'SEMAPEAT_C_2',\n",
    "#        'SEMAPEAT_C_3', 'SEMAPEAT_C_7', 'SEMAPEAT_C_8', 'SEMAPEAT_C_9',\n",
    "#        'SEMAAUDI_C_1', 'SEMAAUDI_C_2', 'SEMAAUDI_C_3', 'SEMAAUDI_C_7',\n",
    "#        'SEMAAUDI_C_8', 'SEMAAUDI_C_9', 'ESTABICI_C_1', 'ESTABICI_C_2',\n",
    "#        'ESTABICI_C_3', 'ESTABICI_C_7', 'ESTABICI_C_8', 'ESTABICI_C_9',\n",
    "#        'DRENAJEP_C_1', 'DRENAJEP_C_2', 'DRENAJEP_C_3', 'DRENAJEP_C_7',\n",
    "#        'DRENAJEP_C_8', 'DRENAJEP_C_9', 'ACESOPER_C_1', 'ACESOPER_C_2',\n",
    "#        'ACESOPER_C_3', 'ACESOPER_C_7', 'ACESOPER_C_8','ACESOPER_C_8', 'ACESOPER_C_9', 'ACESOAUT_C_1', 'ACESOAUT_C_2',\n",
    "#        'ACESOAUT_C_3', 'ACESOAUT_C_7', 'ACESOAUT_C_8', 'ACESOAUT_C_9',\n",
    "#        'PUESSEMI_C_1', 'PUESSEMI_C_2', 'PUESSEMI_C_3', 'PUESSEMI_C_7',\n",
    "#        'PUESSEMI_C_8', 'PUESSEMI_C_9', 'PUESAMBU_C_1', 'PUESAMBU_C_2',\n",
    "#        'PUESAMBU_C_3', 'PUESAMBU_C_7', 'PUESAMBU_C_8', 'PUESAMBU_C_9',\n",
    "#        'POBTOT', 'POBFEM', 'POBMAS', 'P_0A2', 'P_3A5', 'P_6A11', 'P_12A14',\n",
    "#        'P_15A17', 'P_18A24', 'P_25A59', 'P_60YMAS', 'P_0A2_F', 'P_3A5_F',\n",
    "#        'P_6A11_F', 'P_12A14_F', 'P_15A17_F', 'P_18A24_F', 'P_25A59_F',\n",
    "#        'P_60YMAS_F', 'P_0A2_M', 'P_3A5_M', 'P_6A11_M', 'P_12A14_M',\n",
    "#        'P_15A17_M', 'P_18A24_M', 'P_25A59_M', 'P_60YMAS_M', 'P3YM_HLI',\n",
    "#        'P3YM_HLI_F', 'P3YM_HLI_M', 'P3HLINHE', 'P3HLINHE_F', 'P3HLINHE_M', 'P3HLI_HE', 'P3HLI_HE_F',\n",
    "#        'P3HLI_HE_M', 'P5_HLI', 'P5_HLI_NHE', 'P5_HLI_HE', 'PHOG_IND',\n",
    "#        'POB_AFRO', 'POB_AFRO_F', 'POB_AFRO_M', 'PCON_DISC', 'GRAPROES',\n",
    "#        'GRAPROES_F', 'GRAPROES_M', 'PEA', 'PEA_F', 'PEA_M', 'HOGJEF_F',\n",
    "#        'HOGJEF_M', 'VPH_AUTOM', 'VPH_MOTO', 'VPH_BICI', 'POBREZA', 'POBREZAEX',\n",
    "#        'com_1', 'com_2', 'com_3', 'com_4', 'com_5', 'com_6', 'com_7', 'com_8',\n",
    "#        'com_9', 'com_10', 'com_11', 'com_12', 'com_13', 'com_14', 'com_15',\n",
    "#        'com_16', 'com_17', 'com_18', 'com_19', 'com_19', 'com_20', 'com_21',\n",
    "#        'com_22', 'com_23', 'com_24', 'com_25', 'com_26', 'com_27', 'com_28', 'com_29',\n",
    "#        'salud_count', 'deportivos_count', 'infraestructura_count',\n",
    "#        'comercios_count', 'educacion_count', 'pp_count', 'guarderias']]\n",
    "X = data_scaled.drop(columns='vio_index')\n",
    "y = data_scaled['vio_index']\n",
    "\n",
    "# split into train and test (30%)\n",
    "X_train, X_test, y_train, y_test = train_test_split(X, y, test_size=0.3, random_state = 42)\n",
    "\n",
    "# split tran into X_val and y_val (15%) THIS IS FOR THE XGBOOST MODEL\n",
    "X_train, X_val, y_train, y_val = train_test_split(X_test, y_test, test_size=0.5, random_state = 42)"
   ]
  },
  {
   "cell_type": "code",
   "execution_count": 51,
   "id": "c8a237ed-ab96-4319-94b0-a52ef44930e7",
   "metadata": {},
   "outputs": [],
   "source": [
    "my_list =  X.columns.tolist()\n",
    "duplicates = {num:my_list.count(num) for num in my_list}\n",
    "\n",
    "# printing the element with count greater than 1\n",
    "for key, value in duplicates.items():\n",
    "    if value > 1:\n",
    "        print(key, value)"
   ]
  },
  {
   "cell_type": "code",
   "execution_count": 52,
   "id": "b9d547d3-ae16-4ffd-ba23-386ce5225b5c",
   "metadata": {},
   "outputs": [
    {
     "data": {
      "text/plain": [
       "213"
      ]
     },
     "execution_count": 52,
     "metadata": {},
     "output_type": "execute_result"
    }
   ],
   "source": [
    "X.columns.nunique()"
   ]
  },
  {
   "cell_type": "code",
   "execution_count": 53,
   "id": "bc274008-3f0b-4b97-9547-c2a45ee1a6ec",
   "metadata": {},
   "outputs": [
    {
     "data": {
      "text/plain": [
       "213"
      ]
     },
     "execution_count": 53,
     "metadata": {},
     "output_type": "execute_result"
    }
   ],
   "source": [
    "len(X.columns)"
   ]
  },
  {
   "cell_type": "code",
   "execution_count": 54,
   "id": "ccc206d4-067f-47e8-8419-de38049660c0",
   "metadata": {},
   "outputs": [],
   "source": [
    "#borrar al volver a correr el data\n",
    "y.fillna(0, inplace=True)"
   ]
  },
  {
   "cell_type": "code",
   "execution_count": 55,
   "id": "ed364e37-3da2-4c7a-857f-20d57fda1d2e",
   "metadata": {},
   "outputs": [],
   "source": [
    "#XGBoost is sensitive to outliers"
   ]
  },
  {
   "cell_type": "code",
   "execution_count": 56,
   "id": "da1fd61c-09c8-4162-9232-285c813c1434",
   "metadata": {},
   "outputs": [],
   "source": [
    "#instantiate model \n",
    "xgb_reg = XGBRegressor(max_depth = 10, n_estimators = 100, learning_rate=0.1)"
   ]
  },
  {
   "cell_type": "markdown",
   "id": "5c3fa6e4-624a-4871-826e-92f9077496f2",
   "metadata": {},
   "source": [
    "**Cross validation**"
   ]
  },
  {
   "cell_type": "code",
   "execution_count": null,
   "id": "6d29cd80-6ada-4d5d-89a3-0e714560358a",
   "metadata": {},
   "outputs": [],
   "source": []
  },
  {
   "cell_type": "code",
   "execution_count": 57,
   "id": "af39f49b-8141-4d1b-872d-f663dbe3795c",
   "metadata": {},
   "outputs": [],
   "source": [
    "from sklearn.linear_model import LinearRegression"
   ]
  },
  {
   "cell_type": "code",
   "execution_count": 69,
   "id": "96b8ff6c-3b26-457f-a1bf-d80a3fef0848",
   "metadata": {},
   "outputs": [],
   "source": [
    "# Cross validation\n",
    "model = xgb_reg\n",
    "cv_results = cross_validate(model, X , y, cv=5)"
   ]
  },
  {
   "cell_type": "code",
   "execution_count": 70,
   "id": "e5882182-ea6b-4f68-bdc6-af7c7422eaef",
   "metadata": {},
   "outputs": [
    {
     "name": "stdout",
     "output_type": "stream",
     "text": [
      "[0.86601918 0.80110956 0.34126832 0.74908517 0.8709397 ]\n",
      "[0.06559992 0.05747294 0.06608105 0.07117605 0.06855202]\n"
     ]
    },
    {
     "data": {
      "text/plain": [
       "np.float64(0.7256843852846044)"
      ]
     },
     "execution_count": 70,
     "metadata": {},
     "output_type": "execute_result"
    }
   ],
   "source": [
    "print(cv_results['test_score'])\n",
    "print(cv_results['score_time'])\n",
    "cv_results['test_score'].mean()"
   ]
  },
  {
   "cell_type": "markdown",
   "id": "d1b2c602-a742-43be-981d-9b5449947f7a",
   "metadata": {},
   "source": [
    "**Learning curves**"
   ]
  },
  {
   "cell_type": "code",
   "execution_count": 60,
   "id": "bf7dbd8f-80f4-437f-a411-a592d30309d9",
   "metadata": {},
   "outputs": [],
   "source": [
    "# #  ?\n",
    "# train_sizes = [25,50,75,100,250,500,750,1000,1150]\n",
    "\n",
    "# # Get train scores (R2), train sizes, and validation scores using `learning_curve`\n",
    "# train_sizes, train_scores, test_scores = learning_curve(\n",
    "#     estimator=xgb_reg(), X=X, y=y, train_sizes=train_sizes, cv=5)\n",
    "\n",
    "# # Take the mean of cross-validated train scores and validation scores\n",
    "# train_scores_mean = np.mean(train_scores, axis=1)\n",
    "# test_scores_mean = np.mean(test_scores, axis=1)"
   ]
  },
  {
   "cell_type": "code",
   "execution_count": 61,
   "id": "f0939204-5b36-4cca-93c1-758d0c7a4564",
   "metadata": {},
   "outputs": [],
   "source": [
    "# plt.plot(train_sizes, train_scores_mean, label = 'Training score')\n",
    "# plt.plot(train_sizes, test_scores_mean, label = 'Test score')\n",
    "# plt.ylabel('r2 score', fontsize = 14)\n",
    "# plt.xlabel('Training set size', fontsize = 14)\n",
    "# plt.title('Learning curves', fontsize = 18, y = 1.03)\n",
    "# plt.legend()"
   ]
  },
  {
   "cell_type": "markdown",
   "id": "40ac8723-3258-4fe8-a7c1-8aad47bb7226",
   "metadata": {},
   "source": [
    "**XGBoost model**"
   ]
  },
  {
   "cell_type": "code",
   "execution_count": 62,
   "id": "bbd2117a-57e7-4e28-8e21-2c2e7e503493",
   "metadata": {},
   "outputs": [],
   "source": [
    "# xgb_reg.fit(X_train, y_train,\n",
    "#             #evaluate loss at each iteration\n",
    "#             eval_set = [(X_train, y_train),(X_val, y_val)],\n",
    "#             #stop iterating when eval loss increases 5 times in a row\n",
    "#             early_stopping_rounds =5\n",
    "#            )"
   ]
  },
  {
   "cell_type": "code",
   "execution_count": 63,
   "id": "eb46a1d8-9218-4934-bd23-624643b7b8f9",
   "metadata": {},
   "outputs": [],
   "source": [
    "# #evaluate the model's performance\n",
    "# score = xgb_reg.score(X_test, y_test)\n",
    "# score"
   ]
  },
  {
   "cell_type": "code",
   "execution_count": 64,
   "id": "88db65e2-fb59-4ee9-bbbf-4ba85840d5d9",
   "metadata": {},
   "outputs": [],
   "source": [
    "# y_pred = xgb_reg.predict(X_val)\n",
    "# y_pred"
   ]
  },
  {
   "cell_type": "code",
   "execution_count": 65,
   "id": "3cb1af94-7e81-42ec-8fd2-242e6ed3ee28",
   "metadata": {},
   "outputs": [
    {
     "name": "stdout",
     "output_type": "stream",
     "text": [
      "On branch main\n",
      "Your branch is up to date with 'origin/main'.\n",
      "\n",
      "Changes not staged for commit:\n",
      "  (use \"git add <file>...\" to update what will be committed)\n",
      "  (use \"git restore <file>...\" to discard changes in working directory)\n",
      "\t\u001b[31mmodified:   RUS_preprocesing_model.ipynb\u001b[m\n",
      "\n",
      "Untracked files:\n",
      "  (use \"git add <file>...\" to include in what will be committed)\n",
      "\t\u001b[31m../.python-version\u001b[m\n",
      "\t\u001b[31m../clean_datasets/\u001b[m\n",
      "\t\u001b[31m.ipynb_checkpoints/\u001b[m\n",
      "\t\u001b[31mData exploration.ipynb\u001b[m\n",
      "\t\u001b[31mGMH_exploracion_data.ipynb\u001b[m\n",
      "\n",
      "no changes added to commit (use \"git add\" and/or \"git commit -a\")\n"
     ]
    }
   ],
   "source": [
    "! git status"
   ]
  },
  {
   "cell_type": "code",
   "execution_count": 66,
   "id": "df43eff4-71d9-4534-8da7-bdecc07457fe",
   "metadata": {},
   "outputs": [],
   "source": [
    "!git add RUS_preprocesing_model.ipynb"
   ]
  },
  {
   "cell_type": "code",
   "execution_count": 67,
   "id": "f072a85a-027d-44db-83ee-9d26f11a2af1",
   "metadata": {},
   "outputs": [
    {
     "name": "stdout",
     "output_type": "stream",
     "text": [
      "[main 7d06f61] preprocessing and first model - we need to add the target\n",
      " 1 file changed, 1373 insertions(+), 286 deletions(-)\n"
     ]
    }
   ],
   "source": [
    "!git commit -m 'preprocessing and first model - we need to add the target'"
   ]
  },
  {
   "cell_type": "code",
   "execution_count": 68,
   "id": "f7b936fb-1111-4a4d-89b3-6a542126e7fb",
   "metadata": {},
   "outputs": [
    {
     "name": "stdout",
     "output_type": "stream",
     "text": [
      "Enumerating objects: 7, done.\n",
      "Counting objects: 100% (7/7), done.\n",
      "Delta compression using up to 12 threads\n",
      "Compressing objects: 100% (4/4), done.\n",
      "Writing objects: 100% (4/4), 270.65 KiB | 3.47 MiB/s, done.\n",
      "Total 4 (delta 1), reused 0 (delta 0), pack-reused 0\n",
      "remote: Resolving deltas: 100% (1/1), completed with 1 local object.\u001b[K\n",
      "To github.com:minaguevara/le-wagon-rus.git\n",
      "   62378a8..7d06f61  main -> main\n"
     ]
    }
   ],
   "source": [
    "!git push origin main"
   ]
  }
 ],
 "metadata": {
  "kernelspec": {
   "display_name": "Python 3 (ipykernel)",
   "language": "python",
   "name": "python3"
  },
  "language_info": {
   "codemirror_mode": {
    "name": "ipython",
    "version": 3
   },
   "file_extension": ".py",
   "mimetype": "text/x-python",
   "name": "python",
   "nbconvert_exporter": "python",
   "pygments_lexer": "ipython3",
   "version": "3.10.6"
  }
 },
 "nbformat": 4,
 "nbformat_minor": 5
}
