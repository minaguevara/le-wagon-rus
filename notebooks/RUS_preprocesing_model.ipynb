{
 "cells": [
  {
   "cell_type": "code",
   "execution_count": null,
   "id": "9bab4f82-990f-40fb-bc13-5915e6f8fe36",
   "metadata": {},
   "outputs": [],
   "source": [
    "#!pip install emoji --upgrade"
   ]
  },
  {
   "cell_type": "code",
   "execution_count": null,
   "id": "0a66ce50-7b98-441d-9d6b-d21cacacad67",
   "metadata": {},
   "outputs": [],
   "source": [
    "#!pip install xgboost"
   ]
  },
  {
   "cell_type": "code",
   "execution_count": null,
   "id": "d9d58154-87db-43cc-9e69-48af16360db3",
   "metadata": {},
   "outputs": [],
   "source": [
    "import os \n",
    "import re"
   ]
  },
  {
   "cell_type": "code",
   "execution_count": 1,
   "id": "ae03d4b1-2182-461e-b605-5de9a9710f1f",
   "metadata": {},
   "outputs": [],
   "source": [
    "import geopandas as gpd\n",
    "import pandas as pd\n",
    "import numpy as np\n",
    "import seaborn as sns\n",
    "from shapely.geometry import Polygon, LineString, Point"
   ]
  },
  {
   "cell_type": "code",
   "execution_count": null,
   "id": "8a2b0230-2906-41d1-87c3-28759b0d869e",
   "metadata": {},
   "outputs": [],
   "source": [
    "from sklearn.preprocessing import StandardScaler, MinMaxScaler\n",
    "from sklearn.model_selection import train_test_split, learning_curve"
   ]
  },
  {
   "cell_type": "code",
   "execution_count": null,
   "id": "32afe32e-6e0f-4582-9c2d-a42efc09e97a",
   "metadata": {},
   "outputs": [],
   "source": [
    "from xgboost import XGBRegressor"
   ]
  },
  {
   "cell_type": "code",
   "execution_count": null,
   "id": "419dae97-15de-4e30-a116-e43d0bab6a21",
   "metadata": {},
   "outputs": [],
   "source": []
  },
  {
   "cell_type": "markdown",
   "id": "d0df3420-032c-45f1-9be3-49ed23c29038",
   "metadata": {},
   "source": [
    "# DATASETS | data_ruscdmx (data_RUS*)"
   ]
  },
  {
   "cell_type": "code",
   "execution_count": null,
   "id": "bbcc0700-24a0-4820-86d5-2cf64415d5b3",
   "metadata": {},
   "outputs": [],
   "source": [
    "# We can drop 'CVEGEO' and 'geomatry' \n",
    "#                or\n",
    "# use 'CVEGEO' as index"
   ]
  },
  {
   "cell_type": "markdown",
   "id": "4368b0e2-f02e-4f0a-88a6-51c0522c6f01",
   "metadata": {
    "jp-MarkdownHeadingCollapsed": true
   },
   "source": [
    "## AGEB | formato shape | agebs"
   ]
  },
  {
   "cell_type": "code",
   "execution_count": null,
   "id": "1de5a31b-b34d-40c8-b40b-53c7192c27a4",
   "metadata": {},
   "outputs": [],
   "source": [
    "ageb_rural =gpd.read_file('../raw_data/poligono_ageb_rurales_cdmx/poligono_ageb_rurales_cdmx.shp')"
   ]
  },
  {
   "cell_type": "code",
   "execution_count": null,
   "id": "605e56bb-9c48-4e68-bf4c-b0e5974f4406",
   "metadata": {},
   "outputs": [],
   "source": [
    "ageb_urbana =gpd.read_file('../raw_data/poligono_ageb_urbanas_cdmx/poligono_ageb_urbanas_cdmx.shp')"
   ]
  },
  {
   "cell_type": "code",
   "execution_count": null,
   "id": "91ce0442-cd82-4f45-987f-12d975866270",
   "metadata": {},
   "outputs": [],
   "source": [
    "agebs = pd.concat([ageb_rural, ageb_urbana])"
   ]
  },
  {
   "cell_type": "code",
   "execution_count": null,
   "id": "612d0272-638a-4fd9-8d73-e2dfa49109a8",
   "metadata": {},
   "outputs": [],
   "source": [
    "agebs = agebs.drop(columns=['CVE_ENT', 'CVE_MUN', 'CVE_AGEB','CVE_LOC'])"
   ]
  },
  {
   "cell_type": "code",
   "execution_count": null,
   "id": "75cfdccb-68c7-4b85-88e6-08adf66e389a",
   "metadata": {},
   "outputs": [],
   "source": [
    "agebs.shape"
   ]
  },
  {
   "cell_type": "markdown",
   "id": "7a7f875a-d310-4ebd-978b-19c62cd7b7ed",
   "metadata": {},
   "source": [
    "## Dataset features | data_RUS"
   ]
  },
  {
   "cell_type": "code",
   "execution_count": 2,
   "id": "06cb5199-95c9-4df4-96e4-5b9af2aaca04",
   "metadata": {},
   "outputs": [],
   "source": [
    "data_RUS = pd.read_csv('../clean_datasets/data_RUS.csv')"
   ]
  },
  {
   "cell_type": "code",
   "execution_count": 3,
   "id": "30702029-df35-483f-866d-d32dd4fba0d1",
   "metadata": {},
   "outputs": [],
   "source": [
    "data_RUS.drop(columns='Unnamed: 0', inplace=True)"
   ]
  },
  {
   "cell_type": "code",
   "execution_count": 4,
   "id": "53ef7e8b-0eda-411d-8328-4fdddfe1c364",
   "metadata": {
    "collapsed": true,
    "jupyter": {
     "outputs_hidden": true
    }
   },
   "outputs": [
    {
     "data": {
      "text/plain": [
       "Index(['CVEGEO', 'Metro', 'Suburbano', 'Metrobus', 'Tren_Liger', 'Trolebus',\n",
       "       'RTP', 'Trole_elev', 'T_Concesio', 'Ecobici',\n",
       "       ...\n",
       "       'Lavanderías y tintorerías', 'Panificación tradicional',\n",
       "       'Reparación mecánica en general de automóviles y camiones',\n",
       "       'Restaurantes con servicio de preparación de alimentos a la carta o de comida corrida',\n",
       "       'Restaurantes con servicio de preparación de antojitos',\n",
       "       'Restaurantes con servicio de preparación de pizzas, hamburguesas, hot dogs y pollos rostizados para llevar',\n",
       "       'Restaurantes con servicio de preparación de tacos y tortas',\n",
       "       'Restaurantes que preparan otro tipo de alimentos para llevar',\n",
       "       'Salones y clínicas de belleza y peluquerías',\n",
       "       'Servicios de preparación de otros alimentos para consumo inmediato'],\n",
       "      dtype='object', length=208)"
      ]
     },
     "execution_count": 4,
     "metadata": {},
     "output_type": "execute_result"
    }
   ],
   "source": [
    "data_RUS.columns"
   ]
  },
  {
   "cell_type": "code",
   "execution_count": 5,
   "id": "52d27065-71fe-4c6c-9d8c-5d847d37ea25",
   "metadata": {},
   "outputs": [
    {
     "name": "stdout",
     "output_type": "stream",
     "text": [
      "<class 'pandas.core.frame.DataFrame'>\n",
      "RangeIndex: 2453 entries, 0 to 2452\n",
      "Columns: 208 entries, CVEGEO to Servicios de preparación de otros alimentos para consumo inmediato\n",
      "dtypes: int64(207), object(1)\n",
      "memory usage: 3.9+ MB\n"
     ]
    }
   ],
   "source": [
    "data_RUS.info()"
   ]
  },
  {
   "cell_type": "code",
   "execution_count": null,
   "id": "62695ff4-8b5f-45a1-9b17-4f83d2a21bef",
   "metadata": {},
   "outputs": [],
   "source": [
    "data_ruscdmx = pd.merge(agebs, data_RUS,how= 'left', on=['CVEGEO'])"
   ]
  },
  {
   "cell_type": "code",
   "execution_count": null,
   "id": "d89b27eb-1076-404e-8eb1-52692bdcf104",
   "metadata": {},
   "outputs": [],
   "source": [
    "data_ruscdmx.shape"
   ]
  },
  {
   "cell_type": "markdown",
   "id": "4e02ab5f-8c5d-4f0a-9d03-eafc30dffc1c",
   "metadata": {},
   "source": [
    "# **previous** | to delete "
   ]
  },
  {
   "cell_type": "code",
   "execution_count": null,
   "id": "967ca2ff-8f2b-4ed1-8b5e-ce013b403575",
   "metadata": {
    "jupyter": {
     "source_hidden": true
    }
   },
   "outputs": [],
   "source": [
    "#list of features\n",
    "transport_features = ['Metro', 'Suburbano', 'Metrobus', 'Tren_Liger', 'Trolebus', 'RTP','Trole_elev', 'T_Concesio', 'Ecobici', 'Cablebus']\n",
    "\n",
    "population_features = [ 'POBTOT_y', 'POBFEM', 'POBMAS', \n",
    "                       'P_0A2', 'P_3A5', 'P_6A11', 'P_12A14', 'P_15A17', 'P_18A24', 'P_25A59', 'P_60YMAS', \n",
    "                       'P_0A2_F', 'P_3A5_F', 'P_6A11_F', 'P_12A14_F', 'P_15A17_F', 'P_18A24_F', 'P_25A59_F', 'P_60YMAS_F', \n",
    "                       'P_0A2_M', 'P_3A5_M', 'P_6A11_M', 'P_12A14_M', 'P_15A17_M', 'P_18A24_M', 'P_25A59_M', 'P_60YMAS_M', \n",
    "                       'P3YM_HLI', 'P3YM_HLI_F', 'P3YM_HLI_M', 'P3HLINHE', 'P3HLINHE_F', 'P3HLINHE_M', \n",
    "                       'P3HLI_HE', 'P3HLI_HE_F', 'P3HLI_HE_M', 'P5_HLI', 'P5_HLI_NHE', 'P5_HLI_HE', \n",
    "                       'PHOG_IND', 'POB_AFRO', 'POB_AFRO_F', 'POB_AFRO_M', \n",
    "                       'PCON_DISC', \n",
    "                       'GRAPROES', 'GRAPROES_F', 'GRAPROES_M', \n",
    "                       'PEA', 'PEA_F', 'PEA_M', \n",
    "                       'HOGJEF_F', 'HOGJEF_M', \n",
    "                       'VPH_AUTOM', 'VPH_MOTO', 'VPH_BICI', \n",
    "                       'POBREZA', 'POBREZAEX']\n",
    "\n",
    "urbaninfra_features = ['VIVTOT', \n",
    "                       'RECUCALL_C_1', 'RECUCALL_C_2', 'RECUCALL_C_3', 'RECUCALL_C_7', 'RECUCALL_C_8', 'RECUCALL_C_9', \n",
    "                       'RAMPAS_C_1', 'RAMPAS_C_2', 'RAMPAS_C_3', 'RAMPAS_C_7', 'RAMPAS_C_8', 'RAMPAS_C_9', \n",
    "                       'PASOPEAT_C_1', 'PASOPEAT_C_2', 'PASOPEAT_C_3', 'PASOPEAT_C_7', 'PASOPEAT_C_8', 'PASOPEAT_C_9', \n",
    "                       'BANQUETA_C_1', 'BANQUETA_C_2', 'BANQUETA_C_3', 'BANQUETA_C_7', 'BANQUETA_C_8', 'BANQUETA_C_9', \n",
    "                       'GUARNICI_C_1', 'GUARNICI_C_2', 'GUARNICI_C_3', 'GUARNICI_C_7', 'GUARNICI_C_8', 'GUARNICI_C_9', \n",
    "                       'CICLOVIA_C_1', 'CICLOVIA_C_2', 'CICLOVIA_C_3', 'CICLOVIA_C_7', 'CICLOVIA_C_8', 'CICLOVIA_C_9', \n",
    "                       'CICLOCAR_C_1', 'CICLOCAR_C_2', 'CICLOCAR_C_3', 'CICLOCAR_C_7', 'CICLOCAR_C_8', 'CICLOCAR_C_9', \n",
    "                       'ALUMPUB_C_1', 'ALUMPUB_C_2', 'ALUMPUB_C_3', 'ALUMPUB_C_7', 'ALUMPUB_C_8', 'ALUMPUB_C_9', \n",
    "                       'LETRERO_C_1', 'LETRERO_C_2', 'LETRERO_C_3', 'LETRERO_C_7', 'LETRERO_C_8', 'LETRERO_C_9', \n",
    "                       'ARBOLES_C_1', 'ARBOLES_C_2', 'ARBOLES_C_3', 'ARBOLES_C_7', 'ARBOLES_C_8', 'ARBOLES_C_9', \n",
    "                       'SEMAPEAT_C_1', 'SEMAPEAT_C_2', 'SEMAPEAT_C_3', 'SEMAPEAT_C_7', 'SEMAPEAT_C_8', 'SEMAPEAT_C_9', \n",
    "                       'SEMAAUDI_C_1', 'SEMAAUDI_C_2', 'SEMAAUDI_C_3', 'SEMAAUDI_C_7', 'SEMAAUDI_C_8', 'SEMAAUDI_C_9', \n",
    "                       'ESTABICI_C_1', 'ESTABICI_C_2', 'ESTABICI_C_3', 'ESTABICI_C_7', 'ESTABICI_C_8', 'ESTABICI_C_9', \n",
    "                       'DRENAJEP_C_1', 'DRENAJEP_C_2', 'DRENAJEP_C_3', 'DRENAJEP_C_7', 'DRENAJEP_C_8', 'DRENAJEP_C_9', \n",
    "                       'ACESOPER_C_1', 'ACESOPER_C_2', 'ACESOPER_C_3', 'ACESOPER_C_7', 'ACESOPER_C_8', 'ACESOPER_C_9', \n",
    "                       'ACESOAUT_C_1', 'ACESOAUT_C_2', 'ACESOAUT_C_3', 'ACESOAUT_C_7', 'ACESOAUT_C_8', 'ACESOAUT_C_9', \n",
    "                       'PUESSEMI_C_1', 'PUESSEMI_C_2', 'PUESSEMI_C_3', 'PUESSEMI_C_7', 'PUESSEMI_C_8', 'PUESSEMI_C_9', \n",
    "                       'PUESAMBU_C_1', 'PUESAMBU_C_2', 'PUESAMBU_C_3', 'PUESAMBU_C_7', 'PUESAMBU_C_8', 'PUESAMBU_C_9']\n",
    "\n",
    "#we are using only 30 \n",
    "commerce_features = ['Banca múltiple', 'Cafeterías, fuentes de sodas, neverías, refresquerías y similares', \n",
    "             'Comercio al por menor de artículos de papelería', 'Comercio al por menor de artículos para la limpieza', \n",
    "             'Comercio al por menor de carne de aves', 'Comercio al por menor de carnes rojas', \n",
    "             'Comercio al por menor de dulces y materias primas para repostería', 'Comercio al por menor de frutas y verduras frescas', \n",
    "             'Comercio al por menor de leche, otros productos lácteos y embutidos', 'Comercio al por menor de otros alimentos', \n",
    "             'Comercio al por menor de partes y refacciones nuevas para automóviles, camionetas y camiones', \n",
    "             'Comercio al por menor de plantas y flores naturales', 'Comercio al por menor de regalos',\n",
    "             'Comercio al por menor de ropa, excepto de bebé y lencería', 'Comercio al por menor de teléfonos y otros aparatos de comunicación', \n",
    "             'Comercio al por menor en ferreterías y tlapalerías', 'Comercio al por menor en tiendas de abarrotes, ultramarinos y misceláneas', \n",
    "             'Consultorios dentales del sector privado', 'Elaboración de tortillas de maíz y molienda de nixtamal', 'Farmacias sin minisúper', \n",
    "             'Lavanderías y tintorerías', 'Panificación tradicional', 'Reparación mecánica en general de automóviles y camiones', \n",
    "             'Restaurantes con servicio de preparación de alimentos a la carta o de comida corrida', \n",
    "             'Restaurantes con servicio de preparación de antojitos', \n",
    "             'Restaurantes con servicio de preparación de pizzas, hamburguesas, hot dogs y pollos rostizados para llevar', \n",
    "             'Restaurantes con servicio de preparación de tacos y tortas', 'Restaurantes que preparan otro tipo de alimentos para llevar', \n",
    "             'Salones y clínicas de belleza y peluquerías', 'Servicios de preparación de otros alimentos para consumo inmediato']"
   ]
  },
  {
   "cell_type": "code",
   "execution_count": 6,
   "id": "a1d4c806-37a9-4ce0-863f-f406959dbb12",
   "metadata": {},
   "outputs": [],
   "source": [
    "# rename commerce features\n",
    "data_RUS.rename(columns={\n",
    "    'Banca múltiple':'com_1',\n",
    "    'Cafeterías, fuentes de sodas, neverías, refresquerías y similares':'com_2',\n",
    "    'Comercio al por menor de artículos de papelería':'com_3',\n",
    "    'Comercio al por menor de artículos para la limpieza':'com_4',       \n",
    "    'Comercio al por menor de carne de aves':'com_5',\n",
    "    'Comercio al por menor de carnes rojas':'com_6',       \n",
    "    'Comercio al por menor de dulces y materias primas para repostería':'com_7',\n",
    "    'Comercio al por menor de frutas y verduras frescas':'com_8',       \n",
    "    'Comercio al por menor de leche, otros productos lácteos y embutidos':'com_9',\n",
    "    'Comercio al por menor de otros alimentos':'com_10',       \n",
    "    'Comercio al por menor de partes y refacciones nuevas para automóviles, camionetas y camiones':'com_11',       \n",
    "    'Comercio al por menor de plantas y flores naturales':'com_12',\n",
    "    'Comercio al por menor de regalos':'com_13',       \n",
    "    'Comercio al por menor de ropa, excepto de bebé y lencería':'com_14',\n",
    "    'Comercio al por menor de teléfonos y otros aparatos de comunicación':'com_15',       \n",
    "    'Comercio al por menor en ferreterías y tlapalerías':'com_16',\n",
    "    'Comercio al por menor en tiendas de abarrotes, ultramarinos y misceláneas':'com_17',       \n",
    "    'Consultorios dentales del sector privado':'com_18',\n",
    "    'Elaboración de tortillas de maíz y molienda de nixtamal':'com_19',\n",
    "    'Farmacias sin minisúper':'com_19',        \n",
    "    'Lavanderías y tintorerías':'com_20',\n",
    "    'Panificación tradicional':'com_21',\n",
    "    'Reparación mecánica en general de automóviles y camiones':'com_22',       \n",
    "    'Restaurantes con servicio de preparación de alimentos a la carta o de comida corrida':'com_23',       \n",
    "    'Restaurantes con servicio de preparación de antojitos':'com_24',       \n",
    "    'Restaurantes con servicio de preparación de pizzas, hamburguesas, hot dogs y pollos rostizados para llevar':'com_25',       \n",
    "    'Restaurantes con servicio de preparación de tacos y tortas':'com_26',\n",
    "    'Restaurantes que preparan otro tipo de alimentos para llevar':'com_27',       \n",
    "    'Salones y clínicas de belleza y peluquerías':'com_28',\n",
    "    'Servicios de preparación de otros alimentos para consumo inmediato':'com_29'}, inplace=True)"
   ]
  },
  {
   "cell_type": "markdown",
   "id": "b4021a98-8225-4b0b-80df-b769bef090c6",
   "metadata": {},
   "source": [
    "# Explore data"
   ]
  },
  {
   "cell_type": "code",
   "execution_count": 7,
   "id": "8bd86913-5022-40aa-9ae2-c712f3689187",
   "metadata": {},
   "outputs": [],
   "source": [
    "# We can drop 'CVEGEO' and 'geomatry' \n",
    "#                or\n",
    "# use 'CVEGEO' as index\n",
    "\n",
    "###### using 'data_RUS' insteand of 'data_ruscdmx'"
   ]
  },
  {
   "cell_type": "code",
   "execution_count": 8,
   "id": "ac028d7c-95a5-4637-8a6f-be3353b86097",
   "metadata": {},
   "outputs": [],
   "source": [
    "data_RUS.set_index('CVEGEO', inplace=True)"
   ]
  },
  {
   "cell_type": "code",
   "execution_count": 9,
   "id": "9ac0d3f9-164c-4ffe-819c-924d71916e3d",
   "metadata": {},
   "outputs": [],
   "source": [
    "data = data_RUS"
   ]
  },
  {
   "cell_type": "code",
   "execution_count": 10,
   "id": "dba91d61-1cf2-4568-9b5d-e358be6a752e",
   "metadata": {
    "scrolled": true
   },
   "outputs": [
    {
     "name": "stdout",
     "output_type": "stream",
     "text": [
      "<class 'pandas.core.frame.DataFrame'>\n",
      "Index: 2453 entries, 090110471 to 0900700011034\n",
      "Columns: 207 entries, Metro to com_29\n",
      "dtypes: int64(207)\n",
      "memory usage: 3.9+ MB\n"
     ]
    }
   ],
   "source": [
    "data.info()"
   ]
  },
  {
   "cell_type": "code",
   "execution_count": 11,
   "id": "00ef81e7-845b-4c6a-be7e-6fc1ac17cd17",
   "metadata": {},
   "outputs": [
    {
     "data": {
      "text/plain": [
       "Metro         int64\n",
       "Suburbano     int64\n",
       "Metrobus      int64\n",
       "Tren_Liger    int64\n",
       "Trolebus      int64\n",
       "              ...  \n",
       "com_25        int64\n",
       "com_26        int64\n",
       "com_27        int64\n",
       "com_28        int64\n",
       "com_29        int64\n",
       "Length: 207, dtype: object"
      ]
     },
     "execution_count": 11,
     "metadata": {},
     "output_type": "execute_result"
    }
   ],
   "source": [
    "data.dtypes"
   ]
  },
  {
   "cell_type": "code",
   "execution_count": 12,
   "id": "64bb83bf-495b-4a0c-ac08-5d79ca31e863",
   "metadata": {},
   "outputs": [
    {
     "data": {
      "text/html": [
       "<div>\n",
       "<style scoped>\n",
       "    .dataframe tbody tr th:only-of-type {\n",
       "        vertical-align: middle;\n",
       "    }\n",
       "\n",
       "    .dataframe tbody tr th {\n",
       "        vertical-align: top;\n",
       "    }\n",
       "\n",
       "    .dataframe thead th {\n",
       "        text-align: right;\n",
       "    }\n",
       "</style>\n",
       "<table border=\"1\" class=\"dataframe\">\n",
       "  <thead>\n",
       "    <tr style=\"text-align: right;\">\n",
       "      <th></th>\n",
       "      <th>Metro</th>\n",
       "      <th>Suburbano</th>\n",
       "      <th>Metrobus</th>\n",
       "      <th>Tren_Liger</th>\n",
       "      <th>Trolebus</th>\n",
       "      <th>RTP</th>\n",
       "      <th>Trole_elev</th>\n",
       "      <th>T_Concesio</th>\n",
       "      <th>Ecobici</th>\n",
       "      <th>Cablebus</th>\n",
       "      <th>...</th>\n",
       "      <th>com_20</th>\n",
       "      <th>com_21</th>\n",
       "      <th>com_22</th>\n",
       "      <th>com_23</th>\n",
       "      <th>com_24</th>\n",
       "      <th>com_25</th>\n",
       "      <th>com_26</th>\n",
       "      <th>com_27</th>\n",
       "      <th>com_28</th>\n",
       "      <th>com_29</th>\n",
       "    </tr>\n",
       "  </thead>\n",
       "  <tbody>\n",
       "    <tr>\n",
       "      <th>count</th>\n",
       "      <td>2453.000000</td>\n",
       "      <td>2453.000000</td>\n",
       "      <td>2453.000000</td>\n",
       "      <td>2453.000000</td>\n",
       "      <td>2453.000000</td>\n",
       "      <td>2453.000000</td>\n",
       "      <td>2453.000000</td>\n",
       "      <td>2453.000000</td>\n",
       "      <td>2453.000000</td>\n",
       "      <td>2453.000000</td>\n",
       "      <td>...</td>\n",
       "      <td>2453.000000</td>\n",
       "      <td>2453.000000</td>\n",
       "      <td>2453.000000</td>\n",
       "      <td>2453.000000</td>\n",
       "      <td>2453.000000</td>\n",
       "      <td>2453.000000</td>\n",
       "      <td>2453.000000</td>\n",
       "      <td>2453.000000</td>\n",
       "      <td>2453.000000</td>\n",
       "      <td>2453.000000</td>\n",
       "    </tr>\n",
       "    <tr>\n",
       "      <th>mean</th>\n",
       "      <td>8.084794</td>\n",
       "      <td>0.080717</td>\n",
       "      <td>2.799022</td>\n",
       "      <td>0.665715</td>\n",
       "      <td>1.767631</td>\n",
       "      <td>11.277212</td>\n",
       "      <td>0.086425</td>\n",
       "      <td>21.216062</td>\n",
       "      <td>1.042805</td>\n",
       "      <td>0.090094</td>\n",
       "      <td>...</td>\n",
       "      <td>2.570322</td>\n",
       "      <td>1.509580</td>\n",
       "      <td>2.114146</td>\n",
       "      <td>3.516918</td>\n",
       "      <td>3.813290</td>\n",
       "      <td>1.658785</td>\n",
       "      <td>4.458622</td>\n",
       "      <td>3.248675</td>\n",
       "      <td>8.312678</td>\n",
       "      <td>1.704851</td>\n",
       "    </tr>\n",
       "    <tr>\n",
       "      <th>std</th>\n",
       "      <td>11.696829</td>\n",
       "      <td>1.072042</td>\n",
       "      <td>7.034578</td>\n",
       "      <td>3.985285</td>\n",
       "      <td>5.307646</td>\n",
       "      <td>11.041880</td>\n",
       "      <td>1.025705</td>\n",
       "      <td>11.246741</td>\n",
       "      <td>4.230247</td>\n",
       "      <td>0.848924</td>\n",
       "      <td>...</td>\n",
       "      <td>2.581235</td>\n",
       "      <td>1.800515</td>\n",
       "      <td>2.480597</td>\n",
       "      <td>6.883218</td>\n",
       "      <td>5.123933</td>\n",
       "      <td>1.978205</td>\n",
       "      <td>5.592943</td>\n",
       "      <td>4.713328</td>\n",
       "      <td>7.423321</td>\n",
       "      <td>2.508087</td>\n",
       "    </tr>\n",
       "    <tr>\n",
       "      <th>min</th>\n",
       "      <td>0.000000</td>\n",
       "      <td>0.000000</td>\n",
       "      <td>0.000000</td>\n",
       "      <td>0.000000</td>\n",
       "      <td>0.000000</td>\n",
       "      <td>0.000000</td>\n",
       "      <td>0.000000</td>\n",
       "      <td>0.000000</td>\n",
       "      <td>0.000000</td>\n",
       "      <td>0.000000</td>\n",
       "      <td>...</td>\n",
       "      <td>0.000000</td>\n",
       "      <td>0.000000</td>\n",
       "      <td>0.000000</td>\n",
       "      <td>0.000000</td>\n",
       "      <td>0.000000</td>\n",
       "      <td>0.000000</td>\n",
       "      <td>0.000000</td>\n",
       "      <td>0.000000</td>\n",
       "      <td>0.000000</td>\n",
       "      <td>0.000000</td>\n",
       "    </tr>\n",
       "    <tr>\n",
       "      <th>25%</th>\n",
       "      <td>0.000000</td>\n",
       "      <td>0.000000</td>\n",
       "      <td>0.000000</td>\n",
       "      <td>0.000000</td>\n",
       "      <td>0.000000</td>\n",
       "      <td>0.000000</td>\n",
       "      <td>0.000000</td>\n",
       "      <td>14.000000</td>\n",
       "      <td>0.000000</td>\n",
       "      <td>0.000000</td>\n",
       "      <td>...</td>\n",
       "      <td>1.000000</td>\n",
       "      <td>0.000000</td>\n",
       "      <td>0.000000</td>\n",
       "      <td>0.000000</td>\n",
       "      <td>1.000000</td>\n",
       "      <td>0.000000</td>\n",
       "      <td>1.000000</td>\n",
       "      <td>0.000000</td>\n",
       "      <td>2.000000</td>\n",
       "      <td>0.000000</td>\n",
       "    </tr>\n",
       "    <tr>\n",
       "      <th>50%</th>\n",
       "      <td>0.000000</td>\n",
       "      <td>0.000000</td>\n",
       "      <td>0.000000</td>\n",
       "      <td>0.000000</td>\n",
       "      <td>0.000000</td>\n",
       "      <td>9.000000</td>\n",
       "      <td>0.000000</td>\n",
       "      <td>22.000000</td>\n",
       "      <td>0.000000</td>\n",
       "      <td>0.000000</td>\n",
       "      <td>...</td>\n",
       "      <td>2.000000</td>\n",
       "      <td>1.000000</td>\n",
       "      <td>1.000000</td>\n",
       "      <td>1.000000</td>\n",
       "      <td>2.000000</td>\n",
       "      <td>1.000000</td>\n",
       "      <td>3.000000</td>\n",
       "      <td>2.000000</td>\n",
       "      <td>7.000000</td>\n",
       "      <td>1.000000</td>\n",
       "    </tr>\n",
       "    <tr>\n",
       "      <th>75%</th>\n",
       "      <td>17.000000</td>\n",
       "      <td>0.000000</td>\n",
       "      <td>0.000000</td>\n",
       "      <td>0.000000</td>\n",
       "      <td>0.000000</td>\n",
       "      <td>19.000000</td>\n",
       "      <td>0.000000</td>\n",
       "      <td>28.000000</td>\n",
       "      <td>0.000000</td>\n",
       "      <td>0.000000</td>\n",
       "      <td>...</td>\n",
       "      <td>4.000000</td>\n",
       "      <td>2.000000</td>\n",
       "      <td>3.000000</td>\n",
       "      <td>4.000000</td>\n",
       "      <td>5.000000</td>\n",
       "      <td>3.000000</td>\n",
       "      <td>6.000000</td>\n",
       "      <td>5.000000</td>\n",
       "      <td>12.000000</td>\n",
       "      <td>2.000000</td>\n",
       "    </tr>\n",
       "    <tr>\n",
       "      <th>max</th>\n",
       "      <td>51.000000</td>\n",
       "      <td>22.000000</td>\n",
       "      <td>48.000000</td>\n",
       "      <td>44.000000</td>\n",
       "      <td>46.000000</td>\n",
       "      <td>75.000000</td>\n",
       "      <td>25.000000</td>\n",
       "      <td>85.000000</td>\n",
       "      <td>35.000000</td>\n",
       "      <td>19.000000</td>\n",
       "      <td>...</td>\n",
       "      <td>16.000000</td>\n",
       "      <td>14.000000</td>\n",
       "      <td>21.000000</td>\n",
       "      <td>79.000000</td>\n",
       "      <td>76.000000</td>\n",
       "      <td>16.000000</td>\n",
       "      <td>65.000000</td>\n",
       "      <td>101.000000</td>\n",
       "      <td>69.000000</td>\n",
       "      <td>37.000000</td>\n",
       "    </tr>\n",
       "  </tbody>\n",
       "</table>\n",
       "<p>8 rows × 207 columns</p>\n",
       "</div>"
      ],
      "text/plain": [
       "             Metro    Suburbano     Metrobus   Tren_Liger     Trolebus  \\\n",
       "count  2453.000000  2453.000000  2453.000000  2453.000000  2453.000000   \n",
       "mean      8.084794     0.080717     2.799022     0.665715     1.767631   \n",
       "std      11.696829     1.072042     7.034578     3.985285     5.307646   \n",
       "min       0.000000     0.000000     0.000000     0.000000     0.000000   \n",
       "25%       0.000000     0.000000     0.000000     0.000000     0.000000   \n",
       "50%       0.000000     0.000000     0.000000     0.000000     0.000000   \n",
       "75%      17.000000     0.000000     0.000000     0.000000     0.000000   \n",
       "max      51.000000    22.000000    48.000000    44.000000    46.000000   \n",
       "\n",
       "               RTP   Trole_elev   T_Concesio      Ecobici     Cablebus  ...  \\\n",
       "count  2453.000000  2453.000000  2453.000000  2453.000000  2453.000000  ...   \n",
       "mean     11.277212     0.086425    21.216062     1.042805     0.090094  ...   \n",
       "std      11.041880     1.025705    11.246741     4.230247     0.848924  ...   \n",
       "min       0.000000     0.000000     0.000000     0.000000     0.000000  ...   \n",
       "25%       0.000000     0.000000    14.000000     0.000000     0.000000  ...   \n",
       "50%       9.000000     0.000000    22.000000     0.000000     0.000000  ...   \n",
       "75%      19.000000     0.000000    28.000000     0.000000     0.000000  ...   \n",
       "max      75.000000    25.000000    85.000000    35.000000    19.000000  ...   \n",
       "\n",
       "            com_20       com_21       com_22       com_23       com_24  \\\n",
       "count  2453.000000  2453.000000  2453.000000  2453.000000  2453.000000   \n",
       "mean      2.570322     1.509580     2.114146     3.516918     3.813290   \n",
       "std       2.581235     1.800515     2.480597     6.883218     5.123933   \n",
       "min       0.000000     0.000000     0.000000     0.000000     0.000000   \n",
       "25%       1.000000     0.000000     0.000000     0.000000     1.000000   \n",
       "50%       2.000000     1.000000     1.000000     1.000000     2.000000   \n",
       "75%       4.000000     2.000000     3.000000     4.000000     5.000000   \n",
       "max      16.000000    14.000000    21.000000    79.000000    76.000000   \n",
       "\n",
       "            com_25       com_26       com_27       com_28       com_29  \n",
       "count  2453.000000  2453.000000  2453.000000  2453.000000  2453.000000  \n",
       "mean      1.658785     4.458622     3.248675     8.312678     1.704851  \n",
       "std       1.978205     5.592943     4.713328     7.423321     2.508087  \n",
       "min       0.000000     0.000000     0.000000     0.000000     0.000000  \n",
       "25%       0.000000     1.000000     0.000000     2.000000     0.000000  \n",
       "50%       1.000000     3.000000     2.000000     7.000000     1.000000  \n",
       "75%       3.000000     6.000000     5.000000    12.000000     2.000000  \n",
       "max      16.000000    65.000000   101.000000    69.000000    37.000000  \n",
       "\n",
       "[8 rows x 207 columns]"
      ]
     },
     "execution_count": 12,
     "metadata": {},
     "output_type": "execute_result"
    }
   ],
   "source": [
    "data.describe()"
   ]
  },
  {
   "cell_type": "code",
   "execution_count": 15,
   "id": "d7bbb9e3-8d31-4741-965e-77244889ad4a",
   "metadata": {
    "scrolled": true
   },
   "outputs": [
    {
     "data": {
      "text/plain": [
       "'0900700013844'"
      ]
     },
     "execution_count": 15,
     "metadata": {},
     "output_type": "execute_result"
    }
   ],
   "source": [
    "data['Metro'].idxmax()"
   ]
  },
  {
   "cell_type": "markdown",
   "id": "32c35df6-116d-4245-80d5-4e7fe0c7eac0",
   "metadata": {},
   "source": [
    "# Feature scaling and selection | PREPROCESING"
   ]
  },
  {
   "cell_type": "markdown",
   "id": "6a092461-fa94-442e-be12-20f672394407",
   "metadata": {
    "jp-MarkdownHeadingCollapsed": true
   },
   "source": [
    "## duplicates"
   ]
  },
  {
   "cell_type": "code",
   "execution_count": null,
   "id": "63711041-e444-4a47-bf4d-635d1fc59bc8",
   "metadata": {},
   "outputs": [],
   "source": [
    "#duplicates\n",
    "len(data)"
   ]
  },
  {
   "cell_type": "code",
   "execution_count": null,
   "id": "7506eea1-f33d-4818-b0ab-8df61fa079a2",
   "metadata": {},
   "outputs": [],
   "source": [
    "data.duplicated().sum()"
   ]
  },
  {
   "cell_type": "markdown",
   "id": "47abd92f-3ec2-4f6a-ab7c-0c8e1fd63f51",
   "metadata": {
    "jp-MarkdownHeadingCollapsed": true
   },
   "source": [
    "## missing data"
   ]
  },
  {
   "cell_type": "code",
   "execution_count": null,
   "id": "b9821629-b000-4d77-ad00-831b243ac31a",
   "metadata": {},
   "outputs": [],
   "source": [
    "data.isnull().sum().sort_values(ascending = False)/len(data)"
   ]
  },
  {
   "cell_type": "code",
   "execution_count": null,
   "id": "91a49803-9238-4c94-857d-835d43ea3026",
   "metadata": {},
   "outputs": [],
   "source": [
    "data.columns[10:20]"
   ]
  },
  {
   "cell_type": "markdown",
   "id": "71744129-089a-4f6d-89dd-5bcf86d6c834",
   "metadata": {},
   "source": [
    "## Outliers"
   ]
  },
  {
   "cell_type": "markdown",
   "id": "1bea6aa2-7d94-4344-8c3d-860da96c9fc1",
   "metadata": {},
   "source": [
    "¿Qué podría ser un indicador de un outlier en este dataset?"
   ]
  },
  {
   "cell_type": "markdown",
   "id": "57ccd320-78ea-4053-add5-960968e060c9",
   "metadata": {},
   "source": [
    "## Feature scaling"
   ]
  },
  {
   "cell_type": "code",
   "execution_count": null,
   "id": "59fd7b70-c174-43da-90db-46d8d1c4c940",
   "metadata": {
    "scrolled": true
   },
   "outputs": [],
   "source": [
    "sns.histplot(data[transport_features], bins = 200, kde= True);"
   ]
  },
  {
   "cell_type": "code",
   "execution_count": null,
   "id": "d6c56e68-06c6-4f15-88ef-ca54e209ad58",
   "metadata": {
    "scrolled": true
   },
   "outputs": [],
   "source": [
    "sns.boxplot(data=data, x='POBMAS');"
   ]
  },
  {
   "cell_type": "markdown",
   "id": "4a8f8468-6a77-4a9d-ae16-a4d81736c195",
   "metadata": {},
   "source": [
    ":rotating_light: borrar despu[es de actualizar el dataset"
   ]
  },
  {
   "cell_type": "code",
   "execution_count": null,
   "id": "d5bad1f0-a77f-4b78-a96c-0b52d0902b1b",
   "metadata": {},
   "outputs": [],
   "source": [
    "## eliminar una vez que se recargue el dataset\n",
    "data.drop(columns='POBTOT_x', inplace=True)"
   ]
  },
  {
   "cell_type": "code",
   "execution_count": null,
   "id": "9806fb0f-3e2d-4fb2-a4d3-b94e981be99d",
   "metadata": {},
   "outputs": [],
   "source": [
    "data.shape"
   ]
  },
  {
   "cell_type": "markdown",
   "id": "a9bf5b0a-99e6-4198-9788-d214a055e5e6",
   "metadata": {
    "jupyter": {
     "source_hidden": true
    }
   },
   "source": [
    "['CVEGEO', 'geometry', 'Metro', 'Suburbano', 'Metrobus', 'Tren_Liger',\n",
    "       'Trolebus', 'RTP', 'Trole_elev', 'T_Concesio', 'Ecobici', 'Cablebus',\n",
    "       'VIVTOT', 'RECUCALL_C_1', 'RECUCALL_C_2', 'RECUCALL_C_3',\n",
    "       'RECUCALL_C_7', 'RECUCALL_C_8', 'RECUCALL_C_9', 'RAMPAS_C_1',\n",
    "       'RAMPAS_C_2', 'RAMPAS_C_3', 'RAMPAS_C_7', 'RAMPAS_C_8', 'RAMPAS_C_9',\n",
    "       'PASOPEAT_C_1', 'PASOPEAT_C_2', 'PASOPEAT_C_3', 'PASOPEAT_C_7',\n",
    "       'PASOPEAT_C_8', 'PASOPEAT_C_9', 'BANQUETA_C_1', 'BANQUETA_C_2',\n",
    "       'BANQUETA_C_3', 'BANQUETA_C_7', 'BANQUETA_C_8', 'BANQUETA_C_9',\n",
    "       'GUARNICI_C_1', 'GUARNICI_C_2', 'GUARNICI_C_3', 'GUARNICI_C_7',\n",
    "       'GUARNICI_C_8', 'GUARNICI_C_9', 'CICLOVIA_C_1', 'CICLOVIA_C_2',\n",
    "       'CICLOVIA_C_3', 'CICLOVIA_C_7', 'CICLOVIA_C_8', 'CICLOVIA_C_9',\n",
    "       'CICLOCAR_C_1', 'CICLOCAR_C_2', 'CICLOCAR_C_3', 'CICLOCAR_C_7',\n",
    "       'CICLOCAR_C_8', 'CICLOCAR_C_9', 'ALUMPUB_C_1', 'ALUMPUB_C_2',\n",
    "       'ALUMPUB_C_3', 'ALUMPUB_C_7', 'ALUMPUB_C_8', 'ALUMPUB_C_9',\n",
    "       'LETRERO_C_1', 'LETRERO_C_2', 'LETRERO_C_3', 'LETRERO_C_7',\n",
    "       'LETRERO_C_8', 'LETRERO_C_9', 'ARBOLES_C_1', 'ARBOLES_C_2',\n",
    "       'ARBOLES_C_3', 'ARBOLES_C_7', 'ARBOLES_C_8', 'ARBOLES_C_9',\n",
    "       'SEMAPEAT_C_1', 'SEMAPEAT_C_2', 'SEMAPEAT_C_3', 'SEMAPEAT_C_7',\n",
    "       'SEMAPEAT_C_8', 'SEMAPEAT_C_9', 'SEMAAUDI_C_1', 'SEMAAUDI_C_2',\n",
    "       'SEMAAUDI_C_3', 'SEMAAUDI_C_7', 'SEMAAUDI_C_8', 'SEMAAUDI_C_9',\n",
    "       'ESTABICI_C_1', 'ESTABICI_C_2', 'ESTABICI_C_3', 'ESTABICI_C_7',\n",
    "       'ESTABICI_C_8', 'ESTABICI_C_9', 'DRENAJEP_C_1', 'DRENAJEP_C_2',\n",
    "       'DRENAJEP_C_3', 'DRENAJEP_C_7', 'DRENAJEP_C_8', 'DRENAJEP_C_9',\n",
    "       'ACESOPER_C_1', 'ACESOPER_C_2', 'ACESOPER_C_3', 'ACESOPER_C_7', 'ACESOPER_C_8', 'ACESOPER_C_9',\n",
    "       'ACESOAUT_C_1', 'ACESOAUT_C_2', 'ACESOAUT_C_3', 'ACESOAUT_C_7',\n",
    "       'ACESOAUT_C_8', 'ACESOAUT_C_9', 'PUESSEMI_C_1', 'PUESSEMI_C_2',\n",
    "       'PUESSEMI_C_3', 'PUESSEMI_C_7', 'PUESSEMI_C_8', 'PUESSEMI_C_9',\n",
    "       'PUESAMBU_C_1', 'PUESAMBU_C_2', 'PUESAMBU_C_3', 'PUESAMBU_C_7',\n",
    "       'PUESAMBU_C_8', 'PUESAMBU_C_9', 'POBTOT_y', 'POBFEM', 'POBMAS', 'P_0A2',\n",
    "       'P_3A5', 'P_6A11', 'P_12A14', 'P_15A17', 'P_18A24', 'P_25A59',\n",
    "       'P_60YMAS', 'P_0A2_F', 'P_3A5_F', 'P_6A11_F', 'P_12A14_F', 'P_15A17_F',\n",
    "       'P_18A24_F', 'P_25A59_F', 'P_60YMAS_F', 'P_0A2_M', 'P_3A5_M',\n",
    "       'P_6A11_M', 'P_12A14_M', 'P_15A17_M', 'P_18A24_M', 'P_25A59_M',\n",
    "       'P_60YMAS_M', 'P3YM_HLI', 'P3YM_HLI_F', 'P3YM_HLI_M', 'P3HLINHE',\n",
    "       'P3HLINHE_F', 'P3HLINHE_M', 'P3HLI_HE', 'P3HLI_HE_F', 'P3HLI_HE_M',\n",
    "       'P5_HLI', 'P5_HLI_NHE', 'P5_HLI_HE', 'PHOG_IND', 'POB_AFRO',\n",
    "       'POB_AFRO_F', 'POB_AFRO_M', 'PCON_DISC', 'GRAPROES', 'GRAPROES_F',\n",
    "       'GRAPROES_M', 'PEA', 'PEA_F', 'PEA_M', 'HOGJEF_F', 'HOGJEF_M',\n",
    "       'VPH_AUTOM', 'VPH_MOTO', 'VPH_BICI', 'POBREZA', 'POBREZAEX',\n",
    "       'Banca múltiple', 'Cafeterías, fuentes de sodas, neverías, refresquerías y similares',\n",
    "       'Comercio al por menor de artículos de papelería',\n",
    "       'Comercio al por menor de artículos para la limpieza',\n",
    "       'Comercio al por menor de carne de aves',\n",
    "       'Comercio al por menor de carnes rojas',\n",
    "       'Comercio al por menor de dulces y materias primas para repostería',\n",
    "       'Comercio al por menor de frutas y verduras frescas',\n",
    "       'Comercio al por menor de leche, otros productos lácteos y embutidos',\n",
    "       'Comercio al por menor de otros alimentos',\n",
    "       'Comercio al por menor de partes y refacciones nuevas para automóviles, camionetas y camiones',\n",
    "       'Comercio al por menor de plantas y flores naturales',\n",
    "       'Comercio al por menor de regalos',\n",
    "       'Comercio al por menor de ropa, excepto de bebé y lencería',\n",
    "       'Comercio al por menor de teléfonos y otros aparatos de comunicación',\n",
    "       'Comercio al por menor en ferreterías y tlapalerías',\n",
    "       'Comercio al por menor en tiendas de abarrotes, ultramarinos y misceláneas',\n",
    "       'Consultorios dentales del sector privado',\n",
    "       'Elaboración de tortillas de maíz y molienda de nixtamal',\n",
    "       'Farmacias sin minisúper', 'Lavanderías y tintorerías',\n",
    "       'Panificación tradicional',\n",
    "       'Reparación mecánica en general de automóviles y camiones',\n",
    "       'Restaurantes con servicio de preparación de alimentos a la carta o de comida corrida',\n",
    "       'Restaurantes con servicio de preparación de antojitos',\n",
    "       'Restaurantes con servicio de preparación de pizzas, hamburguesas, hot dogs y pollos rostizados para llevar',\n",
    "       'Restaurantes con servicio de preparación de tacos y tortas',\n",
    "       'Restaurantes que preparan otro tipo de alimentos para llevar',\n",
    "       'Salones y clínicas de belleza y peluquerías',\n",
    "       'Servicios de preparación de otros alimentos para consumo inmediato']"
   ]
  },
  {
   "cell_type": "code",
   "execution_count": null,
   "id": "4728a803-968f-4cad-bbfd-591a8d07bd5f",
   "metadata": {},
   "outputs": [],
   "source": [
    "#list of numerical (scalable) features\n",
    "## verificar al agregar mas features\n",
    "features = data.columns[2:]"
   ]
  },
  {
   "cell_type": "code",
   "execution_count": null,
   "id": "5f3b8aa0-1b92-4ff0-96e9-c840bfbd4ba3",
   "metadata": {},
   "outputs": [],
   "source": [
    "data_scaled = data"
   ]
  },
  {
   "cell_type": "code",
   "execution_count": null,
   "id": "30bb9b24-7d25-4ff4-82e1-e54b117caf7a",
   "metadata": {},
   "outputs": [],
   "source": [
    "### outliers could be important in our data"
   ]
  },
  {
   "cell_type": "code",
   "execution_count": null,
   "id": "e444c9dc-0ae7-4c21-aebb-effd0e071637",
   "metadata": {
    "scrolled": true
   },
   "outputs": [],
   "source": [
    "#instanciate\n",
    "scaler = MinMaxScaler()\n",
    "\n",
    "#fit the scaler to the features\n",
    "scaler.fit(data[features])\n",
    "\n",
    "#scale\n",
    "data_scaled[features] = scaler.transform(data[features])\n",
    "\n",
    "data[40:45]"
   ]
  },
  {
   "cell_type": "markdown",
   "id": "b9028949-be14-40ab-aa08-5213a1674564",
   "metadata": {
    "jp-MarkdownHeadingCollapsed": true
   },
   "source": [
    "## Oversampling or Undersampling"
   ]
  },
  {
   "cell_type": "code",
   "execution_count": null,
   "id": "28332fda-3a16-4f26-8835-e322b03ce01f",
   "metadata": {},
   "outputs": [],
   "source": [
    "## maybe SMOTE ML_02 Data preparation"
   ]
  },
  {
   "cell_type": "markdown",
   "id": "7e8ead5a-8d49-4566-a060-4fd9fc6fad85",
   "metadata": {
    "jp-MarkdownHeadingCollapsed": true
   },
   "source": [
    "## Feature engineering"
   ]
  },
  {
   "cell_type": "markdown",
   "id": "bb924fd3-5912-4ad9-b418-506c34ca08b4",
   "metadata": {
    "jp-MarkdownHeadingCollapsed": true
   },
   "source": [
    "### Encoding"
   ]
  },
  {
   "cell_type": "code",
   "execution_count": null,
   "id": "6d3602e4-d7b9-4e57-909a-dafa6d7cece6",
   "metadata": {},
   "outputs": [],
   "source": [
    "## try with new features, maybe"
   ]
  },
  {
   "cell_type": "markdown",
   "id": "ced98f9a-a793-43e3-9ddd-fef9430881d1",
   "metadata": {
    "jp-MarkdownHeadingCollapsed": true
   },
   "source": [
    "### Discretizing "
   ]
  },
  {
   "cell_type": "code",
   "execution_count": null,
   "id": "b1e7e27f-5ffb-4348-9b91-23a675b64b50",
   "metadata": {},
   "outputs": [],
   "source": [
    "## try with new features. We need this?"
   ]
  },
  {
   "cell_type": "markdown",
   "id": "e31418a8-82bb-4017-baaf-454681e64692",
   "metadata": {
    "jp-MarkdownHeadingCollapsed": true
   },
   "source": [
    "### New features"
   ]
  },
  {
   "cell_type": "code",
   "execution_count": null,
   "id": "2c11753d-810b-49d8-bcf0-7bf71800b1bf",
   "metadata": {},
   "outputs": [],
   "source": [
    "# maybe with commerce\n",
    "# sum not 'en todas las vialidades' of urban infrastructure features"
   ]
  },
  {
   "cell_type": "markdown",
   "id": "3ce5a851-37c2-44b7-a73b-d2044d5904d1",
   "metadata": {},
   "source": [
    "## Feature correlation"
   ]
  },
  {
   "cell_type": "code",
   "execution_count": null,
   "id": "ba7afbc1-ee97-4a16-a615-ac5c95891e7d",
   "metadata": {
    "scrolled": true
   },
   "outputs": [],
   "source": [
    "correlation_matrix = data_scaled.corr()\n",
    "\n",
    "column_names = correlation_matrix.columns\n",
    "\n",
    "## change commerce feature names\n",
    "\n",
    "sns.heatmap(correlation_matrix, xticklabels = column_names, yticklabels=column_names, cmap= 'bwr');"
   ]
  },
  {
   "cell_type": "code",
   "execution_count": null,
   "id": "6c456aa3-b80e-4db9-a1ab-0dede79d8100",
   "metadata": {},
   "outputs": [],
   "source": [
    "#correlation matrix to dataframe\n",
    "corr_df = correlation_matrix.stack().reset_index()\n",
    "\n",
    "corr_df.columns = ['feature_1','feature_2','correlation']\n",
    "\n",
    "no_self_correlation = (corr_df['feature_1'] != corr_df['feature_2'])\n",
    "corr_df = corr_df[no_self_correlation]"
   ]
  },
  {
   "cell_type": "code",
   "execution_count": null,
   "id": "8fc37116-4a2c-401c-b612-8046687c7494",
   "metadata": {
    "scrolled": true
   },
   "outputs": [],
   "source": [
    "corr_df"
   ]
  },
  {
   "cell_type": "code",
   "execution_count": null,
   "id": "0beec1dd-7a08-402d-a4f3-08f5c5f67ab1",
   "metadata": {
    "scrolled": true
   },
   "outputs": [],
   "source": [
    "#computing absolute correlation\n",
    "corr_df['absolute_correlation'] = np.abs(corr_df['correlation'])\n",
    "\n",
    "#top 5 most correlated pairs\n",
    "corr_df.sort_values(by='absolute_correlation', ascending=False).head(50)"
   ]
  },
  {
   "cell_type": "code",
   "execution_count": null,
   "id": "2d954181-18fe-4d64-a5b6-73504b71dc00",
   "metadata": {},
   "outputs": [],
   "source": [
    "## a lot of urban infra are correlated :("
   ]
  },
  {
   "cell_type": "markdown",
   "id": "aededeaa-03ef-4825-be75-f92f35436881",
   "metadata": {},
   "source": [
    "# **MODEL** | XGBoost"
   ]
  },
  {
   "cell_type": "code",
   "execution_count": null,
   "id": "0ec87015-b456-46df-9d76-6e4705455ca3",
   "metadata": {},
   "outputs": [],
   "source": [
    "# #Ready X and y\n",
    "\n",
    "# X = data[['']]\n",
    "# y = data['']\n",
    "\n",
    "# # split into train and test (30%)\n",
    "# X_train, X_test, y_train, y_test = train_test_split(X, y, test_size=0.3, random_state = 42)\n",
    "\n",
    "# # split tran into X_val and y_val (15%) THIS IS FOR THE XGBOOST MODEL\n",
    "# X_train, X_val, y_train, y_val = train_test_split(X_test, y_test, test_size=0.5, random_state = 42)"
   ]
  },
  {
   "cell_type": "code",
   "execution_count": null,
   "id": "ed364e37-3da2-4c7a-857f-20d57fda1d2e",
   "metadata": {},
   "outputs": [],
   "source": [
    "#XGBoost is sensitive to outliers"
   ]
  },
  {
   "cell_type": "code",
   "execution_count": null,
   "id": "da1fd61c-09c8-4162-9232-285c813c1434",
   "metadata": {},
   "outputs": [],
   "source": [
    "# #instantiate model \n",
    "# xgb_reg = XGBRegressor(max_depth = 10, n_estimators = 100, learning_rate=0.1)"
   ]
  },
  {
   "cell_type": "markdown",
   "id": "5c3fa6e4-624a-4871-826e-92f9077496f2",
   "metadata": {},
   "source": [
    "**Cross validation**"
   ]
  },
  {
   "cell_type": "code",
   "execution_count": null,
   "id": "b27dfe0c-f4f6-4042-ad30-a774dded4f72",
   "metadata": {},
   "outputs": [],
   "source": [
    "# # Cross validation\n",
    "# model = xgb_reg()\n",
    "# cv_results = cross_validate(model, X , y, cv=5)\n",
    "# print(cv_results['test_score'])\n",
    "# print(cv_results['score_time'])\n",
    "# cv_results['test_score'].mean()"
   ]
  },
  {
   "cell_type": "markdown",
   "id": "d1b2c602-a742-43be-981d-9b5449947f7a",
   "metadata": {},
   "source": [
    "**Learning curves**"
   ]
  },
  {
   "cell_type": "code",
   "execution_count": null,
   "id": "bf7dbd8f-80f4-437f-a411-a592d30309d9",
   "metadata": {},
   "outputs": [],
   "source": [
    "# #  ?\n",
    "# train_sizes = [25,50,75,100,250,500,750,1000,1150]\n",
    "\n",
    "# # Get train scores (R2), train sizes, and validation scores using `learning_curve`\n",
    "# train_sizes, train_scores, test_scores = learning_curve(\n",
    "#     estimator=xgb_reg(), X=X, y=y, train_sizes=train_sizes, cv=5)\n",
    "\n",
    "# # Take the mean of cross-validated train scores and validation scores\n",
    "# train_scores_mean = np.mean(train_scores, axis=1)\n",
    "# test_scores_mean = np.mean(test_scores, axis=1)"
   ]
  },
  {
   "cell_type": "code",
   "execution_count": null,
   "id": "f0939204-5b36-4cca-93c1-758d0c7a4564",
   "metadata": {},
   "outputs": [],
   "source": [
    "# plt.plot(train_sizes, train_scores_mean, label = 'Training score')\n",
    "# plt.plot(train_sizes, test_scores_mean, label = 'Test score')\n",
    "# plt.ylabel('r2 score', fontsize = 14)\n",
    "# plt.xlabel('Training set size', fontsize = 14)\n",
    "# plt.title('Learning curves', fontsize = 18, y = 1.03)\n",
    "# plt.legend()"
   ]
  },
  {
   "cell_type": "markdown",
   "id": "40ac8723-3258-4fe8-a7c1-8aad47bb7226",
   "metadata": {},
   "source": [
    "**XGBoost model**"
   ]
  },
  {
   "cell_type": "code",
   "execution_count": null,
   "id": "bbd2117a-57e7-4e28-8e21-2c2e7e503493",
   "metadata": {},
   "outputs": [],
   "source": [
    "# xgb_reg.fit(X_train, y_train,\n",
    "#             #evaluate loss at each iteration\n",
    "#             eval_set = [(X_train, y_train),(X_val, y_val)],\n",
    "#             #stop iterating when eval loss increases 5 times in a row\n",
    "#             early_stopping_rounds =5\n",
    "#            )"
   ]
  },
  {
   "cell_type": "code",
   "execution_count": null,
   "id": "eb46a1d8-9218-4934-bd23-624643b7b8f9",
   "metadata": {},
   "outputs": [],
   "source": [
    "# #evaluate the model's performance\n",
    "# score = xgb_reg.score(X_test, y_test)\n",
    "# score"
   ]
  },
  {
   "cell_type": "code",
   "execution_count": null,
   "id": "88db65e2-fb59-4ee9-bbbf-4ba85840d5d9",
   "metadata": {},
   "outputs": [],
   "source": [
    "# y_pred = xgb_reg.predict(X_val)\n",
    "# y_pred"
   ]
  },
  {
   "cell_type": "code",
   "execution_count": 16,
   "id": "3cb1af94-7e81-42ec-8fd2-242e6ed3ee28",
   "metadata": {},
   "outputs": [
    {
     "name": "stdout",
     "output_type": "stream",
     "text": [
      "On branch main\n",
      "Your branch is up to date with 'origin/main'.\n",
      "\n",
      "Untracked files:\n",
      "  (use \"git add <file>...\" to include in what will be committed)\n",
      "\t\u001b[31m../.python-version\u001b[m\n",
      "\t\u001b[31m../clean_datasets/\u001b[m\n",
      "\t\u001b[31m./\u001b[m\n",
      "\n",
      "nothing added to commit but untracked files present (use \"git add\" to track)\n"
     ]
    }
   ],
   "source": [
    "! git status"
   ]
  },
  {
   "cell_type": "code",
   "execution_count": 17,
   "id": "df43eff4-71d9-4534-8da7-bdecc07457fe",
   "metadata": {},
   "outputs": [],
   "source": [
    "!git add RUS_preprocesing_model.ipynb"
   ]
  },
  {
   "cell_type": "code",
   "execution_count": 18,
   "id": "f072a85a-027d-44db-83ee-9d26f11a2af1",
   "metadata": {},
   "outputs": [
    {
     "name": "stdout",
     "output_type": "stream",
     "text": [
      "[main 8819521] preprocessing and first model - we need to add the target\n",
      " 1 file changed, 1432 insertions(+)\n",
      " create mode 100644 notebooks/RUS_preprocesing_model.ipynb\n"
     ]
    }
   ],
   "source": [
    "!git commit -m 'preprocessing and first model - we need to add the target'"
   ]
  },
  {
   "cell_type": "code",
   "execution_count": 22,
   "id": "f7b936fb-1111-4a4d-89b3-6a542126e7fb",
   "metadata": {},
   "outputs": [
    {
     "name": "stdout",
     "output_type": "stream",
     "text": [
      "ERROR: Permission to minaguevara/le-wagon-rus.git denied to GabyMHuidobro.\n",
      "fatal: Could not read from remote repository.\n",
      "\n",
      "Please make sure you have the correct access rights\n",
      "and the repository exists.\n"
     ]
    }
   ],
   "source": [
    "!git push origin main"
   ]
  }
 ],
 "metadata": {
  "kernelspec": {
   "display_name": "Python 3 (ipykernel)",
   "language": "python",
   "name": "python3"
  },
  "language_info": {
   "codemirror_mode": {
    "name": "ipython",
    "version": 3
   },
   "file_extension": ".py",
   "mimetype": "text/x-python",
   "name": "python",
   "nbconvert_exporter": "python",
   "pygments_lexer": "ipython3",
   "version": "3.10.6"
  }
 },
 "nbformat": 4,
 "nbformat_minor": 5
}
